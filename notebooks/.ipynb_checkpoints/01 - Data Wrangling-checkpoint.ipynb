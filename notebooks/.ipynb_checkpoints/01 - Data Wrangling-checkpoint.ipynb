{
 "cells": [
  {
   "cell_type": "markdown",
   "id": "7e1f5182",
   "metadata": {},
   "source": [
    "# Data Wrangling"
   ]
  },
  {
   "cell_type": "markdown",
   "id": "ad5de720",
   "metadata": {},
   "source": [
    "This project will create a model that predicts the physical strength of a steel based on its alloying elements and temperature"
   ]
  },
  {
   "cell_type": "markdown",
   "id": "2cf6fbff",
   "metadata": {},
   "source": [
    "## 1.0 Importing libraries and loading data"
   ]
  },
  {
   "cell_type": "code",
   "execution_count": 1,
   "id": "230aeb42",
   "metadata": {},
   "outputs": [],
   "source": [
    "# Importing necessary modules\n",
    "import pandas as pd\n",
    "import matplotlib.pyplot as plt\n",
    "import numpy as np"
   ]
  },
  {
   "cell_type": "code",
   "execution_count": 2,
   "id": "10c276c2",
   "metadata": {},
   "outputs": [],
   "source": [
    "# Loading both datasets\n",
    "path = \"/Users/chinmayasukumar/Documents/Springboard/Capstone #2/data/raw/steel.csv\"\n",
    "steel = pd.read_csv(path)"
   ]
  },
  {
   "cell_type": "markdown",
   "id": "c9152c50",
   "metadata": {},
   "source": [
    "## 2.0 Exploring data"
   ]
  },
  {
   "cell_type": "code",
   "execution_count": 3,
   "id": "bfb006d1",
   "metadata": {},
   "outputs": [
    {
     "data": {
      "text/html": [
       "<div>\n",
       "<style scoped>\n",
       "    .dataframe tbody tr th:only-of-type {\n",
       "        vertical-align: middle;\n",
       "    }\n",
       "\n",
       "    .dataframe tbody tr th {\n",
       "        vertical-align: top;\n",
       "    }\n",
       "\n",
       "    .dataframe thead th {\n",
       "        text-align: right;\n",
       "    }\n",
       "</style>\n",
       "<table border=\"1\" class=\"dataframe\">\n",
       "  <thead>\n",
       "    <tr style=\"text-align: right;\">\n",
       "      <th></th>\n",
       "      <th>Alloy code</th>\n",
       "      <th>C</th>\n",
       "      <th>Si</th>\n",
       "      <th>Mn</th>\n",
       "      <th>P</th>\n",
       "      <th>S</th>\n",
       "      <th>Ni</th>\n",
       "      <th>Cr</th>\n",
       "      <th>Mo</th>\n",
       "      <th>Cu</th>\n",
       "      <th>V</th>\n",
       "      <th>Al</th>\n",
       "      <th>N</th>\n",
       "      <th>Ceq</th>\n",
       "      <th>Nb + Ta</th>\n",
       "      <th>Temperature (°C)</th>\n",
       "      <th>0.2% Proof Stress (MPa)</th>\n",
       "      <th>Tensile Strength (MPa)</th>\n",
       "      <th>Elongation (%)</th>\n",
       "      <th>Reduction in Area (%)</th>\n",
       "    </tr>\n",
       "  </thead>\n",
       "  <tbody>\n",
       "    <tr>\n",
       "      <th>0</th>\n",
       "      <td>MBB</td>\n",
       "      <td>0.12</td>\n",
       "      <td>0.36</td>\n",
       "      <td>0.52</td>\n",
       "      <td>0.009</td>\n",
       "      <td>0.003</td>\n",
       "      <td>0.089</td>\n",
       "      <td>0.97</td>\n",
       "      <td>0.61</td>\n",
       "      <td>0.04</td>\n",
       "      <td>0.0</td>\n",
       "      <td>0.003</td>\n",
       "      <td>0.0066</td>\n",
       "      <td>0.0</td>\n",
       "      <td>0.0</td>\n",
       "      <td>27</td>\n",
       "      <td>342</td>\n",
       "      <td>490</td>\n",
       "      <td>30</td>\n",
       "      <td>71</td>\n",
       "    </tr>\n",
       "    <tr>\n",
       "      <th>1</th>\n",
       "      <td>MBB</td>\n",
       "      <td>0.12</td>\n",
       "      <td>0.36</td>\n",
       "      <td>0.52</td>\n",
       "      <td>0.009</td>\n",
       "      <td>0.003</td>\n",
       "      <td>0.089</td>\n",
       "      <td>0.97</td>\n",
       "      <td>0.61</td>\n",
       "      <td>0.04</td>\n",
       "      <td>0.0</td>\n",
       "      <td>0.003</td>\n",
       "      <td>0.0066</td>\n",
       "      <td>0.0</td>\n",
       "      <td>0.0</td>\n",
       "      <td>100</td>\n",
       "      <td>338</td>\n",
       "      <td>454</td>\n",
       "      <td>27</td>\n",
       "      <td>72</td>\n",
       "    </tr>\n",
       "    <tr>\n",
       "      <th>2</th>\n",
       "      <td>MBB</td>\n",
       "      <td>0.12</td>\n",
       "      <td>0.36</td>\n",
       "      <td>0.52</td>\n",
       "      <td>0.009</td>\n",
       "      <td>0.003</td>\n",
       "      <td>0.089</td>\n",
       "      <td>0.97</td>\n",
       "      <td>0.61</td>\n",
       "      <td>0.04</td>\n",
       "      <td>0.0</td>\n",
       "      <td>0.003</td>\n",
       "      <td>0.0066</td>\n",
       "      <td>0.0</td>\n",
       "      <td>0.0</td>\n",
       "      <td>200</td>\n",
       "      <td>337</td>\n",
       "      <td>465</td>\n",
       "      <td>23</td>\n",
       "      <td>69</td>\n",
       "    </tr>\n",
       "    <tr>\n",
       "      <th>3</th>\n",
       "      <td>MBB</td>\n",
       "      <td>0.12</td>\n",
       "      <td>0.36</td>\n",
       "      <td>0.52</td>\n",
       "      <td>0.009</td>\n",
       "      <td>0.003</td>\n",
       "      <td>0.089</td>\n",
       "      <td>0.97</td>\n",
       "      <td>0.61</td>\n",
       "      <td>0.04</td>\n",
       "      <td>0.0</td>\n",
       "      <td>0.003</td>\n",
       "      <td>0.0066</td>\n",
       "      <td>0.0</td>\n",
       "      <td>0.0</td>\n",
       "      <td>300</td>\n",
       "      <td>346</td>\n",
       "      <td>495</td>\n",
       "      <td>21</td>\n",
       "      <td>70</td>\n",
       "    </tr>\n",
       "    <tr>\n",
       "      <th>4</th>\n",
       "      <td>MBB</td>\n",
       "      <td>0.12</td>\n",
       "      <td>0.36</td>\n",
       "      <td>0.52</td>\n",
       "      <td>0.009</td>\n",
       "      <td>0.003</td>\n",
       "      <td>0.089</td>\n",
       "      <td>0.97</td>\n",
       "      <td>0.61</td>\n",
       "      <td>0.04</td>\n",
       "      <td>0.0</td>\n",
       "      <td>0.003</td>\n",
       "      <td>0.0066</td>\n",
       "      <td>0.0</td>\n",
       "      <td>0.0</td>\n",
       "      <td>400</td>\n",
       "      <td>316</td>\n",
       "      <td>489</td>\n",
       "      <td>26</td>\n",
       "      <td>79</td>\n",
       "    </tr>\n",
       "  </tbody>\n",
       "</table>\n",
       "</div>"
      ],
      "text/plain": [
       "  Alloy code     C    Si    Mn      P      S     Ni    Cr    Mo    Cu    V  \\\n",
       "0        MBB  0.12  0.36  0.52  0.009  0.003  0.089  0.97  0.61  0.04  0.0   \n",
       "1        MBB  0.12  0.36  0.52  0.009  0.003  0.089  0.97  0.61  0.04  0.0   \n",
       "2        MBB  0.12  0.36  0.52  0.009  0.003  0.089  0.97  0.61  0.04  0.0   \n",
       "3        MBB  0.12  0.36  0.52  0.009  0.003  0.089  0.97  0.61  0.04  0.0   \n",
       "4        MBB  0.12  0.36  0.52  0.009  0.003  0.089  0.97  0.61  0.04  0.0   \n",
       "\n",
       "      Al       N  Ceq  Nb + Ta   Temperature (°C)   0.2% Proof Stress (MPa)  \\\n",
       "0  0.003  0.0066  0.0      0.0                 27                       342   \n",
       "1  0.003  0.0066  0.0      0.0                100                       338   \n",
       "2  0.003  0.0066  0.0      0.0                200                       337   \n",
       "3  0.003  0.0066  0.0      0.0                300                       346   \n",
       "4  0.003  0.0066  0.0      0.0                400                       316   \n",
       "\n",
       "    Tensile Strength (MPa)   Elongation (%)   Reduction in Area (%)  \n",
       "0                      490               30                      71  \n",
       "1                      454               27                      72  \n",
       "2                      465               23                      69  \n",
       "3                      495               21                      70  \n",
       "4                      489               26                      79  "
      ]
     },
     "execution_count": 3,
     "metadata": {},
     "output_type": "execute_result"
    }
   ],
   "source": [
    "steel.head()"
   ]
  },
  {
   "cell_type": "code",
   "execution_count": 4,
   "id": "1f6bd105",
   "metadata": {},
   "outputs": [
    {
     "data": {
      "text/plain": [
       "Index(['Alloy code', ' C', ' Si', ' Mn', ' P', ' S', ' Ni', ' Cr', ' Mo',\n",
       "       ' Cu', 'V', ' Al', ' N', 'Ceq', 'Nb + Ta', ' Temperature (°C)',\n",
       "       ' 0.2% Proof Stress (MPa)', ' Tensile Strength (MPa)',\n",
       "       ' Elongation (%)', ' Reduction in Area (%)'],\n",
       "      dtype='object')"
      ]
     },
     "execution_count": 4,
     "metadata": {},
     "output_type": "execute_result"
    }
   ],
   "source": [
    "steel.columns"
   ]
  },
  {
   "cell_type": "code",
   "execution_count": 5,
   "id": "4af02522",
   "metadata": {},
   "outputs": [
    {
     "data": {
      "text/plain": [
       "Alloy code                   object\n",
       " C                          float64\n",
       " Si                         float64\n",
       " Mn                         float64\n",
       " P                          float64\n",
       " S                          float64\n",
       " Ni                         float64\n",
       " Cr                         float64\n",
       " Mo                         float64\n",
       " Cu                         float64\n",
       "V                           float64\n",
       " Al                         float64\n",
       " N                          float64\n",
       "Ceq                         float64\n",
       "Nb + Ta                     float64\n",
       " Temperature (°C)             int64\n",
       " 0.2% Proof Stress (MPa)      int64\n",
       " Tensile Strength (MPa)       int64\n",
       " Elongation (%)               int64\n",
       " Reduction in Area (%)        int64\n",
       "dtype: object"
      ]
     },
     "execution_count": 5,
     "metadata": {},
     "output_type": "execute_result"
    }
   ],
   "source": [
    "steel.dtypes"
   ]
  },
  {
   "cell_type": "code",
   "execution_count": 6,
   "id": "a1c9a911",
   "metadata": {},
   "outputs": [
    {
     "data": {
      "text/plain": [
       "(915, 20)"
      ]
     },
     "execution_count": 6,
     "metadata": {},
     "output_type": "execute_result"
    }
   ],
   "source": [
    "steel.shape"
   ]
  },
  {
   "cell_type": "code",
   "execution_count": 7,
   "id": "d8253d64",
   "metadata": {},
   "outputs": [
    {
     "data": {
      "text/html": [
       "<div>\n",
       "<style scoped>\n",
       "    .dataframe tbody tr th:only-of-type {\n",
       "        vertical-align: middle;\n",
       "    }\n",
       "\n",
       "    .dataframe tbody tr th {\n",
       "        vertical-align: top;\n",
       "    }\n",
       "\n",
       "    .dataframe thead th {\n",
       "        text-align: right;\n",
       "    }\n",
       "</style>\n",
       "<table border=\"1\" class=\"dataframe\">\n",
       "  <thead>\n",
       "    <tr style=\"text-align: right;\">\n",
       "      <th></th>\n",
       "      <th>C</th>\n",
       "      <th>Si</th>\n",
       "      <th>Mn</th>\n",
       "      <th>P</th>\n",
       "      <th>S</th>\n",
       "      <th>Ni</th>\n",
       "      <th>Cr</th>\n",
       "      <th>Mo</th>\n",
       "      <th>Cu</th>\n",
       "      <th>V</th>\n",
       "      <th>Al</th>\n",
       "      <th>N</th>\n",
       "      <th>Ceq</th>\n",
       "      <th>Nb + Ta</th>\n",
       "      <th>Temperature (°C)</th>\n",
       "      <th>0.2% Proof Stress (MPa)</th>\n",
       "      <th>Tensile Strength (MPa)</th>\n",
       "      <th>Elongation (%)</th>\n",
       "      <th>Reduction in Area (%)</th>\n",
       "    </tr>\n",
       "  </thead>\n",
       "  <tbody>\n",
       "    <tr>\n",
       "      <th>count</th>\n",
       "      <td>915.000000</td>\n",
       "      <td>915.000000</td>\n",
       "      <td>915.000000</td>\n",
       "      <td>915.000000</td>\n",
       "      <td>915.000000</td>\n",
       "      <td>915.000000</td>\n",
       "      <td>915.000000</td>\n",
       "      <td>915.000000</td>\n",
       "      <td>915.000000</td>\n",
       "      <td>915.000000</td>\n",
       "      <td>915.000000</td>\n",
       "      <td>915.000000</td>\n",
       "      <td>915.000000</td>\n",
       "      <td>915.000000</td>\n",
       "      <td>915.000000</td>\n",
       "      <td>915.000000</td>\n",
       "      <td>915.000000</td>\n",
       "      <td>915.000000</td>\n",
       "      <td>915.000000</td>\n",
       "    </tr>\n",
       "    <tr>\n",
       "      <th>mean</th>\n",
       "      <td>0.174929</td>\n",
       "      <td>0.310918</td>\n",
       "      <td>0.812962</td>\n",
       "      <td>0.014543</td>\n",
       "      <td>0.010602</td>\n",
       "      <td>0.143016</td>\n",
       "      <td>0.427861</td>\n",
       "      <td>0.442870</td>\n",
       "      <td>0.079148</td>\n",
       "      <td>0.060190</td>\n",
       "      <td>0.012435</td>\n",
       "      <td>0.007652</td>\n",
       "      <td>0.093989</td>\n",
       "      <td>0.000041</td>\n",
       "      <td>351.601093</td>\n",
       "      <td>328.218579</td>\n",
       "      <td>496.248087</td>\n",
       "      <td>26.789071</td>\n",
       "      <td>70.206557</td>\n",
       "    </tr>\n",
       "    <tr>\n",
       "      <th>std</th>\n",
       "      <td>0.059674</td>\n",
       "      <td>0.086871</td>\n",
       "      <td>0.342775</td>\n",
       "      <td>0.005244</td>\n",
       "      <td>0.004024</td>\n",
       "      <td>0.172746</td>\n",
       "      <td>0.457568</td>\n",
       "      <td>0.394383</td>\n",
       "      <td>0.058481</td>\n",
       "      <td>0.096403</td>\n",
       "      <td>0.013067</td>\n",
       "      <td>0.002321</td>\n",
       "      <td>0.172533</td>\n",
       "      <td>0.000261</td>\n",
       "      <td>189.714773</td>\n",
       "      <td>131.653232</td>\n",
       "      <td>239.710650</td>\n",
       "      <td>8.806595</td>\n",
       "      <td>12.389289</td>\n",
       "    </tr>\n",
       "    <tr>\n",
       "      <th>min</th>\n",
       "      <td>0.090000</td>\n",
       "      <td>0.180000</td>\n",
       "      <td>0.420000</td>\n",
       "      <td>0.006000</td>\n",
       "      <td>0.003000</td>\n",
       "      <td>0.000000</td>\n",
       "      <td>0.000000</td>\n",
       "      <td>0.005000</td>\n",
       "      <td>0.000000</td>\n",
       "      <td>0.000000</td>\n",
       "      <td>0.002000</td>\n",
       "      <td>0.002500</td>\n",
       "      <td>0.000000</td>\n",
       "      <td>0.000000</td>\n",
       "      <td>27.000000</td>\n",
       "      <td>27.000000</td>\n",
       "      <td>162.000000</td>\n",
       "      <td>10.000000</td>\n",
       "      <td>18.000000</td>\n",
       "    </tr>\n",
       "    <tr>\n",
       "      <th>25%</th>\n",
       "      <td>0.130000</td>\n",
       "      <td>0.240000</td>\n",
       "      <td>0.500000</td>\n",
       "      <td>0.010000</td>\n",
       "      <td>0.008000</td>\n",
       "      <td>0.023000</td>\n",
       "      <td>0.040000</td>\n",
       "      <td>0.050000</td>\n",
       "      <td>0.040000</td>\n",
       "      <td>0.000000</td>\n",
       "      <td>0.004000</td>\n",
       "      <td>0.006200</td>\n",
       "      <td>0.000000</td>\n",
       "      <td>0.000000</td>\n",
       "      <td>200.000000</td>\n",
       "      <td>220.000000</td>\n",
       "      <td>413.000000</td>\n",
       "      <td>20.000000</td>\n",
       "      <td>62.000000</td>\n",
       "    </tr>\n",
       "    <tr>\n",
       "      <th>50%</th>\n",
       "      <td>0.160000</td>\n",
       "      <td>0.300000</td>\n",
       "      <td>0.680000</td>\n",
       "      <td>0.014000</td>\n",
       "      <td>0.010000</td>\n",
       "      <td>0.050000</td>\n",
       "      <td>0.110000</td>\n",
       "      <td>0.500000</td>\n",
       "      <td>0.070000</td>\n",
       "      <td>0.000000</td>\n",
       "      <td>0.006000</td>\n",
       "      <td>0.007600</td>\n",
       "      <td>0.000000</td>\n",
       "      <td>0.000000</td>\n",
       "      <td>400.000000</td>\n",
       "      <td>290.000000</td>\n",
       "      <td>479.000000</td>\n",
       "      <td>26.000000</td>\n",
       "      <td>71.000000</td>\n",
       "    </tr>\n",
       "    <tr>\n",
       "      <th>75%</th>\n",
       "      <td>0.200000</td>\n",
       "      <td>0.370000</td>\n",
       "      <td>1.210000</td>\n",
       "      <td>0.018000</td>\n",
       "      <td>0.012000</td>\n",
       "      <td>0.210000</td>\n",
       "      <td>1.000000</td>\n",
       "      <td>0.560000</td>\n",
       "      <td>0.110000</td>\n",
       "      <td>0.070000</td>\n",
       "      <td>0.016000</td>\n",
       "      <td>0.009000</td>\n",
       "      <td>0.000000</td>\n",
       "      <td>0.000000</td>\n",
       "      <td>500.000000</td>\n",
       "      <td>432.500000</td>\n",
       "      <td>575.000000</td>\n",
       "      <td>31.000000</td>\n",
       "      <td>80.000000</td>\n",
       "    </tr>\n",
       "    <tr>\n",
       "      <th>max</th>\n",
       "      <td>0.340000</td>\n",
       "      <td>0.520000</td>\n",
       "      <td>1.480000</td>\n",
       "      <td>0.030000</td>\n",
       "      <td>0.022000</td>\n",
       "      <td>0.600000</td>\n",
       "      <td>1.310000</td>\n",
       "      <td>1.350000</td>\n",
       "      <td>0.250000</td>\n",
       "      <td>0.300000</td>\n",
       "      <td>0.050000</td>\n",
       "      <td>0.015000</td>\n",
       "      <td>0.437000</td>\n",
       "      <td>0.001700</td>\n",
       "      <td>650.000000</td>\n",
       "      <td>690.000000</td>\n",
       "      <td>6661.000000</td>\n",
       "      <td>78.000000</td>\n",
       "      <td>94.000000</td>\n",
       "    </tr>\n",
       "  </tbody>\n",
       "</table>\n",
       "</div>"
      ],
      "text/plain": [
       "                C          Si          Mn           P           S          Ni  \\\n",
       "count  915.000000  915.000000  915.000000  915.000000  915.000000  915.000000   \n",
       "mean     0.174929    0.310918    0.812962    0.014543    0.010602    0.143016   \n",
       "std      0.059674    0.086871    0.342775    0.005244    0.004024    0.172746   \n",
       "min      0.090000    0.180000    0.420000    0.006000    0.003000    0.000000   \n",
       "25%      0.130000    0.240000    0.500000    0.010000    0.008000    0.023000   \n",
       "50%      0.160000    0.300000    0.680000    0.014000    0.010000    0.050000   \n",
       "75%      0.200000    0.370000    1.210000    0.018000    0.012000    0.210000   \n",
       "max      0.340000    0.520000    1.480000    0.030000    0.022000    0.600000   \n",
       "\n",
       "               Cr          Mo          Cu           V          Al           N  \\\n",
       "count  915.000000  915.000000  915.000000  915.000000  915.000000  915.000000   \n",
       "mean     0.427861    0.442870    0.079148    0.060190    0.012435    0.007652   \n",
       "std      0.457568    0.394383    0.058481    0.096403    0.013067    0.002321   \n",
       "min      0.000000    0.005000    0.000000    0.000000    0.002000    0.002500   \n",
       "25%      0.040000    0.050000    0.040000    0.000000    0.004000    0.006200   \n",
       "50%      0.110000    0.500000    0.070000    0.000000    0.006000    0.007600   \n",
       "75%      1.000000    0.560000    0.110000    0.070000    0.016000    0.009000   \n",
       "max      1.310000    1.350000    0.250000    0.300000    0.050000    0.015000   \n",
       "\n",
       "              Ceq     Nb + Ta   Temperature (°C)   0.2% Proof Stress (MPa)  \\\n",
       "count  915.000000  915.000000         915.000000                915.000000   \n",
       "mean     0.093989    0.000041         351.601093                328.218579   \n",
       "std      0.172533    0.000261         189.714773                131.653232   \n",
       "min      0.000000    0.000000          27.000000                 27.000000   \n",
       "25%      0.000000    0.000000         200.000000                220.000000   \n",
       "50%      0.000000    0.000000         400.000000                290.000000   \n",
       "75%      0.000000    0.000000         500.000000                432.500000   \n",
       "max      0.437000    0.001700         650.000000                690.000000   \n",
       "\n",
       "        Tensile Strength (MPa)   Elongation (%)   Reduction in Area (%)  \n",
       "count               915.000000       915.000000              915.000000  \n",
       "mean                496.248087        26.789071               70.206557  \n",
       "std                 239.710650         8.806595               12.389289  \n",
       "min                 162.000000        10.000000               18.000000  \n",
       "25%                 413.000000        20.000000               62.000000  \n",
       "50%                 479.000000        26.000000               71.000000  \n",
       "75%                 575.000000        31.000000               80.000000  \n",
       "max                6661.000000        78.000000               94.000000  "
      ]
     },
     "execution_count": 7,
     "metadata": {},
     "output_type": "execute_result"
    }
   ],
   "source": [
    "steel.describe()"
   ]
  },
  {
   "cell_type": "markdown",
   "id": "46af853f",
   "metadata": {},
   "source": [
    "There seem to be atleast 1 observation with a Tensile strength of 6661 MPa. This will be dropped in the section below"
   ]
  },
  {
   "cell_type": "markdown",
   "id": "38c1e5af",
   "metadata": {},
   "source": [
    "## 3.0 Data Manipulation"
   ]
  },
  {
   "cell_type": "markdown",
   "id": "3c8bf405",
   "metadata": {},
   "source": [
    "### 3.2 Renaming columns\n",
    "\n",
    "For simplicity sake,the columns will be renamed. Yield strength is another name for 0.2% Proof Strength and will be named as such."
   ]
  },
  {
   "cell_type": "code",
   "execution_count": 8,
   "id": "50c82d33",
   "metadata": {},
   "outputs": [
    {
     "data": {
      "text/plain": [
       "Index(['alloy_code', 'c', 'si', 'mn', 'p', 's', 'ni', 'cr', 'mo', 'cu', 'v',\n",
       "       'al', 'n', 'ceq', 'nb+ta', 'temp', 'yield', 'tensile', 'elongation',\n",
       "       'red_area'],\n",
       "      dtype='object')"
      ]
     },
     "execution_count": 8,
     "metadata": {},
     "output_type": "execute_result"
    }
   ],
   "source": [
    "steel.columns = ['alloy_code','c', 'si', 'mn', 'p', 's', 'ni', 'cr', 'mo', 'cu', 'v', 'al', 'n',\\\n",
    "                 'ceq', 'nb+ta', 'temp', 'yield', 'tensile', 'elongation', 'red_area' ]\n",
    "steel.columns"
   ]
  },
  {
   "cell_type": "markdown",
   "id": "74a449ae",
   "metadata": {},
   "source": [
    "### 3.1 Dropping columns and observations\n",
    "\n",
    "Columns such as alloy code aren't useful in this case. Ceq isn't useful either as all other alloying elements are known."
   ]
  },
  {
   "cell_type": "code",
   "execution_count": 9,
   "id": "cfce9149",
   "metadata": {},
   "outputs": [
    {
     "data": {
      "text/plain": [
       "(915, 20)"
      ]
     },
     "execution_count": 9,
     "metadata": {},
     "output_type": "execute_result"
    }
   ],
   "source": [
    "steel.shape"
   ]
  },
  {
   "cell_type": "code",
   "execution_count": 10,
   "id": "a03b85be",
   "metadata": {},
   "outputs": [],
   "source": [
    "steel = steel.drop_duplicates()"
   ]
  },
  {
   "cell_type": "code",
   "execution_count": 11,
   "id": "86508b1d",
   "metadata": {},
   "outputs": [
    {
     "data": {
      "text/plain": [
       "(915, 20)"
      ]
     },
     "execution_count": 11,
     "metadata": {},
     "output_type": "execute_result"
    }
   ],
   "source": [
    "steel.shape"
   ]
  },
  {
   "cell_type": "code",
   "execution_count": 12,
   "id": "1649a105",
   "metadata": {},
   "outputs": [],
   "source": [
    "steel = steel.drop(columns=['alloy_code', 'ceq'])"
   ]
  },
  {
   "cell_type": "code",
   "execution_count": 13,
   "id": "526f98a8",
   "metadata": {
    "scrolled": false
   },
   "outputs": [
    {
     "data": {
      "text/plain": [
       "27     95\n",
       "100    95\n",
       "200    95\n",
       "300    95\n",
       "400    95\n",
       "450    95\n",
       "500    95\n",
       "550    95\n",
       "600    76\n",
       "350    45\n",
       "650    30\n",
       "150     2\n",
       "250     2\n",
       "Name: temp, dtype: int64"
      ]
     },
     "execution_count": 13,
     "metadata": {},
     "output_type": "execute_result"
    }
   ],
   "source": [
    "steel['temp'].value_counts()"
   ]
  },
  {
   "cell_type": "markdown",
   "id": "4fe2b74d",
   "metadata": {},
   "source": [
    "As it can be seen, the upper range of temperature reaches 650 degC which is not a practical temperature for the use of steel in typical engineering settings. Therefore, temperatures above 500 degC will be dropped."
   ]
  },
  {
   "cell_type": "code",
   "execution_count": 14,
   "id": "82107d32",
   "metadata": {},
   "outputs": [],
   "source": [
    "steel = steel[steel['temp'] < 500]"
   ]
  },
  {
   "cell_type": "code",
   "execution_count": 15,
   "id": "ea50c48f",
   "metadata": {},
   "outputs": [
    {
     "data": {
      "text/plain": [
       "array([ 27, 100, 200, 300, 400, 450, 350, 150, 250])"
      ]
     },
     "execution_count": 15,
     "metadata": {},
     "output_type": "execute_result"
    }
   ],
   "source": [
    "steel['temp'].unique()"
   ]
  },
  {
   "cell_type": "markdown",
   "id": "d97d2a52",
   "metadata": {},
   "source": [
    "#### The data seems to be free of null values, however there is the issue of the unusally high tensile strength observation"
   ]
  },
  {
   "cell_type": "code",
   "execution_count": 16,
   "id": "a580bdba",
   "metadata": {
    "scrolled": true
   },
   "outputs": [
    {
     "data": {
      "text/html": [
       "<div>\n",
       "<style scoped>\n",
       "    .dataframe tbody tr th:only-of-type {\n",
       "        vertical-align: middle;\n",
       "    }\n",
       "\n",
       "    .dataframe tbody tr th {\n",
       "        vertical-align: top;\n",
       "    }\n",
       "\n",
       "    .dataframe thead th {\n",
       "        text-align: right;\n",
       "    }\n",
       "</style>\n",
       "<table border=\"1\" class=\"dataframe\">\n",
       "  <thead>\n",
       "    <tr style=\"text-align: right;\">\n",
       "      <th></th>\n",
       "      <th>c</th>\n",
       "      <th>si</th>\n",
       "      <th>mn</th>\n",
       "      <th>p</th>\n",
       "      <th>s</th>\n",
       "      <th>ni</th>\n",
       "      <th>cr</th>\n",
       "      <th>mo</th>\n",
       "      <th>cu</th>\n",
       "      <th>v</th>\n",
       "      <th>al</th>\n",
       "      <th>n</th>\n",
       "      <th>nb+ta</th>\n",
       "      <th>temp</th>\n",
       "      <th>yield</th>\n",
       "      <th>tensile</th>\n",
       "      <th>elongation</th>\n",
       "      <th>red_area</th>\n",
       "    </tr>\n",
       "  </thead>\n",
       "  <tbody>\n",
       "    <tr>\n",
       "      <th>626</th>\n",
       "      <td>0.18</td>\n",
       "      <td>0.37</td>\n",
       "      <td>0.66</td>\n",
       "      <td>0.018</td>\n",
       "      <td>0.017</td>\n",
       "      <td>0.1</td>\n",
       "      <td>1.07</td>\n",
       "      <td>1.03</td>\n",
       "      <td>0.12</td>\n",
       "      <td>0.3</td>\n",
       "      <td>0.02</td>\n",
       "      <td>0.0081</td>\n",
       "      <td>0.0</td>\n",
       "      <td>300</td>\n",
       "      <td>519</td>\n",
       "      <td>6661</td>\n",
       "      <td>11</td>\n",
       "      <td>28</td>\n",
       "    </tr>\n",
       "  </tbody>\n",
       "</table>\n",
       "</div>"
      ],
      "text/plain": [
       "        c    si    mn      p      s   ni    cr    mo    cu    v    al       n  \\\n",
       "626  0.18  0.37  0.66  0.018  0.017  0.1  1.07  1.03  0.12  0.3  0.02  0.0081   \n",
       "\n",
       "     nb+ta  temp  yield  tensile  elongation  red_area  \n",
       "626    0.0   300    519     6661          11        28  "
      ]
     },
     "execution_count": 16,
     "metadata": {},
     "output_type": "execute_result"
    }
   ],
   "source": [
    "outlier = steel[steel['tensile']==6661]\n",
    "outlier"
   ]
  },
  {
   "cell_type": "code",
   "execution_count": 17,
   "id": "8560d605",
   "metadata": {},
   "outputs": [],
   "source": [
    "# Dropping outlier\n",
    "steel = steel.drop(index = outlier.index)"
   ]
  },
  {
   "cell_type": "code",
   "execution_count": 18,
   "id": "2aa1a54e",
   "metadata": {},
   "outputs": [
    {
     "data": {
      "text/html": [
       "<div>\n",
       "<style scoped>\n",
       "    .dataframe tbody tr th:only-of-type {\n",
       "        vertical-align: middle;\n",
       "    }\n",
       "\n",
       "    .dataframe tbody tr th {\n",
       "        vertical-align: top;\n",
       "    }\n",
       "\n",
       "    .dataframe thead th {\n",
       "        text-align: right;\n",
       "    }\n",
       "</style>\n",
       "<table border=\"1\" class=\"dataframe\">\n",
       "  <thead>\n",
       "    <tr style=\"text-align: right;\">\n",
       "      <th></th>\n",
       "      <th>c</th>\n",
       "      <th>si</th>\n",
       "      <th>mn</th>\n",
       "      <th>p</th>\n",
       "      <th>s</th>\n",
       "      <th>ni</th>\n",
       "      <th>cr</th>\n",
       "      <th>mo</th>\n",
       "      <th>cu</th>\n",
       "      <th>v</th>\n",
       "      <th>al</th>\n",
       "      <th>n</th>\n",
       "      <th>nb+ta</th>\n",
       "      <th>temp</th>\n",
       "      <th>yield</th>\n",
       "      <th>tensile</th>\n",
       "      <th>elongation</th>\n",
       "      <th>red_area</th>\n",
       "    </tr>\n",
       "  </thead>\n",
       "  <tbody>\n",
       "    <tr>\n",
       "      <th>391</th>\n",
       "      <td>0.29</td>\n",
       "      <td>0.20</td>\n",
       "      <td>0.75</td>\n",
       "      <td>0.010</td>\n",
       "      <td>0.009</td>\n",
       "      <td>0.34</td>\n",
       "      <td>1.00</td>\n",
       "      <td>1.25</td>\n",
       "      <td>0.14</td>\n",
       "      <td>0.26</td>\n",
       "      <td>0.002</td>\n",
       "      <td>0.0075</td>\n",
       "      <td>0.0</td>\n",
       "      <td>27</td>\n",
       "      <td>690</td>\n",
       "      <td>830</td>\n",
       "      <td>17</td>\n",
       "      <td>59</td>\n",
       "    </tr>\n",
       "    <tr>\n",
       "      <th>421</th>\n",
       "      <td>0.29</td>\n",
       "      <td>0.26</td>\n",
       "      <td>0.76</td>\n",
       "      <td>0.009</td>\n",
       "      <td>0.007</td>\n",
       "      <td>0.45</td>\n",
       "      <td>1.12</td>\n",
       "      <td>1.18</td>\n",
       "      <td>0.07</td>\n",
       "      <td>0.23</td>\n",
       "      <td>0.003</td>\n",
       "      <td>0.0103</td>\n",
       "      <td>0.0</td>\n",
       "      <td>27</td>\n",
       "      <td>685</td>\n",
       "      <td>830</td>\n",
       "      <td>17</td>\n",
       "      <td>62</td>\n",
       "    </tr>\n",
       "    <tr>\n",
       "      <th>431</th>\n",
       "      <td>0.29</td>\n",
       "      <td>0.26</td>\n",
       "      <td>0.77</td>\n",
       "      <td>0.009</td>\n",
       "      <td>0.007</td>\n",
       "      <td>0.46</td>\n",
       "      <td>1.12</td>\n",
       "      <td>1.20</td>\n",
       "      <td>0.08</td>\n",
       "      <td>0.23</td>\n",
       "      <td>0.004</td>\n",
       "      <td>0.0095</td>\n",
       "      <td>0.0</td>\n",
       "      <td>27</td>\n",
       "      <td>660</td>\n",
       "      <td>820</td>\n",
       "      <td>17</td>\n",
       "      <td>59</td>\n",
       "    </tr>\n",
       "    <tr>\n",
       "      <th>451</th>\n",
       "      <td>0.30</td>\n",
       "      <td>0.27</td>\n",
       "      <td>0.70</td>\n",
       "      <td>0.012</td>\n",
       "      <td>0.012</td>\n",
       "      <td>0.44</td>\n",
       "      <td>1.10</td>\n",
       "      <td>1.35</td>\n",
       "      <td>0.11</td>\n",
       "      <td>0.27</td>\n",
       "      <td>0.003</td>\n",
       "      <td>0.0082</td>\n",
       "      <td>0.0</td>\n",
       "      <td>27</td>\n",
       "      <td>655</td>\n",
       "      <td>810</td>\n",
       "      <td>18</td>\n",
       "      <td>62</td>\n",
       "    </tr>\n",
       "    <tr>\n",
       "      <th>381</th>\n",
       "      <td>0.28</td>\n",
       "      <td>0.18</td>\n",
       "      <td>0.75</td>\n",
       "      <td>0.012</td>\n",
       "      <td>0.009</td>\n",
       "      <td>0.32</td>\n",
       "      <td>1.00</td>\n",
       "      <td>1.25</td>\n",
       "      <td>0.14</td>\n",
       "      <td>0.27</td>\n",
       "      <td>0.002</td>\n",
       "      <td>0.0090</td>\n",
       "      <td>0.0</td>\n",
       "      <td>27</td>\n",
       "      <td>665</td>\n",
       "      <td>810</td>\n",
       "      <td>18</td>\n",
       "      <td>63</td>\n",
       "    </tr>\n",
       "  </tbody>\n",
       "</table>\n",
       "</div>"
      ],
      "text/plain": [
       "        c    si    mn      p      s    ni    cr    mo    cu     v     al  \\\n",
       "391  0.29  0.20  0.75  0.010  0.009  0.34  1.00  1.25  0.14  0.26  0.002   \n",
       "421  0.29  0.26  0.76  0.009  0.007  0.45  1.12  1.18  0.07  0.23  0.003   \n",
       "431  0.29  0.26  0.77  0.009  0.007  0.46  1.12  1.20  0.08  0.23  0.004   \n",
       "451  0.30  0.27  0.70  0.012  0.012  0.44  1.10  1.35  0.11  0.27  0.003   \n",
       "381  0.28  0.18  0.75  0.012  0.009  0.32  1.00  1.25  0.14  0.27  0.002   \n",
       "\n",
       "          n  nb+ta  temp  yield  tensile  elongation  red_area  \n",
       "391  0.0075    0.0    27    690      830          17        59  \n",
       "421  0.0103    0.0    27    685      830          17        62  \n",
       "431  0.0095    0.0    27    660      820          17        59  \n",
       "451  0.0082    0.0    27    655      810          18        62  \n",
       "381  0.0090    0.0    27    665      810          18        63  "
      ]
     },
     "execution_count": 18,
     "metadata": {},
     "output_type": "execute_result"
    }
   ],
   "source": [
    "# Ensuring there are no other outliers\n",
    "steel.sort_values(by='tensile', ascending=False).head()"
   ]
  },
  {
   "cell_type": "markdown",
   "id": "8c31e9f7",
   "metadata": {},
   "source": [
    "## 4.0 Data Cleaning"
   ]
  },
  {
   "cell_type": "code",
   "execution_count": 19,
   "id": "7533632b",
   "metadata": {},
   "outputs": [
    {
     "data": {
      "text/plain": [
       "c             0\n",
       "si            0\n",
       "mn            0\n",
       "p             0\n",
       "s             0\n",
       "ni            0\n",
       "cr            0\n",
       "mo            0\n",
       "cu            0\n",
       "v             0\n",
       "al            0\n",
       "n             0\n",
       "nb+ta         0\n",
       "temp          0\n",
       "yield         0\n",
       "tensile       0\n",
       "elongation    0\n",
       "red_area      0\n",
       "dtype: int64"
      ]
     },
     "execution_count": 19,
     "metadata": {},
     "output_type": "execute_result"
    }
   ],
   "source": [
    "# Finding NA values\n",
    "steel.isna().sum()"
   ]
  },
  {
   "cell_type": "code",
   "execution_count": 20,
   "id": "c9cb604b",
   "metadata": {},
   "outputs": [
    {
     "data": {
      "text/html": [
       "<div>\n",
       "<style scoped>\n",
       "    .dataframe tbody tr th:only-of-type {\n",
       "        vertical-align: middle;\n",
       "    }\n",
       "\n",
       "    .dataframe tbody tr th {\n",
       "        vertical-align: top;\n",
       "    }\n",
       "\n",
       "    .dataframe thead th {\n",
       "        text-align: right;\n",
       "    }\n",
       "</style>\n",
       "<table border=\"1\" class=\"dataframe\">\n",
       "  <thead>\n",
       "    <tr style=\"text-align: right;\">\n",
       "      <th></th>\n",
       "      <th>c</th>\n",
       "      <th>si</th>\n",
       "      <th>mn</th>\n",
       "      <th>p</th>\n",
       "      <th>s</th>\n",
       "      <th>ni</th>\n",
       "      <th>cr</th>\n",
       "      <th>mo</th>\n",
       "      <th>cu</th>\n",
       "      <th>v</th>\n",
       "      <th>al</th>\n",
       "      <th>n</th>\n",
       "      <th>nb+ta</th>\n",
       "      <th>temp</th>\n",
       "      <th>yield</th>\n",
       "      <th>tensile</th>\n",
       "      <th>elongation</th>\n",
       "      <th>red_area</th>\n",
       "    </tr>\n",
       "  </thead>\n",
       "  <tbody>\n",
       "    <tr>\n",
       "      <th>0</th>\n",
       "      <td>0.12</td>\n",
       "      <td>0.36</td>\n",
       "      <td>0.52</td>\n",
       "      <td>0.009</td>\n",
       "      <td>0.003</td>\n",
       "      <td>0.089</td>\n",
       "      <td>0.97</td>\n",
       "      <td>0.61</td>\n",
       "      <td>0.04</td>\n",
       "      <td>0.0</td>\n",
       "      <td>0.003</td>\n",
       "      <td>0.0066</td>\n",
       "      <td>0.0</td>\n",
       "      <td>27</td>\n",
       "      <td>342</td>\n",
       "      <td>490</td>\n",
       "      <td>30</td>\n",
       "      <td>71</td>\n",
       "    </tr>\n",
       "    <tr>\n",
       "      <th>1</th>\n",
       "      <td>0.12</td>\n",
       "      <td>0.36</td>\n",
       "      <td>0.52</td>\n",
       "      <td>0.009</td>\n",
       "      <td>0.003</td>\n",
       "      <td>0.089</td>\n",
       "      <td>0.97</td>\n",
       "      <td>0.61</td>\n",
       "      <td>0.04</td>\n",
       "      <td>0.0</td>\n",
       "      <td>0.003</td>\n",
       "      <td>0.0066</td>\n",
       "      <td>0.0</td>\n",
       "      <td>100</td>\n",
       "      <td>338</td>\n",
       "      <td>454</td>\n",
       "      <td>27</td>\n",
       "      <td>72</td>\n",
       "    </tr>\n",
       "    <tr>\n",
       "      <th>2</th>\n",
       "      <td>0.12</td>\n",
       "      <td>0.36</td>\n",
       "      <td>0.52</td>\n",
       "      <td>0.009</td>\n",
       "      <td>0.003</td>\n",
       "      <td>0.089</td>\n",
       "      <td>0.97</td>\n",
       "      <td>0.61</td>\n",
       "      <td>0.04</td>\n",
       "      <td>0.0</td>\n",
       "      <td>0.003</td>\n",
       "      <td>0.0066</td>\n",
       "      <td>0.0</td>\n",
       "      <td>200</td>\n",
       "      <td>337</td>\n",
       "      <td>465</td>\n",
       "      <td>23</td>\n",
       "      <td>69</td>\n",
       "    </tr>\n",
       "    <tr>\n",
       "      <th>3</th>\n",
       "      <td>0.12</td>\n",
       "      <td>0.36</td>\n",
       "      <td>0.52</td>\n",
       "      <td>0.009</td>\n",
       "      <td>0.003</td>\n",
       "      <td>0.089</td>\n",
       "      <td>0.97</td>\n",
       "      <td>0.61</td>\n",
       "      <td>0.04</td>\n",
       "      <td>0.0</td>\n",
       "      <td>0.003</td>\n",
       "      <td>0.0066</td>\n",
       "      <td>0.0</td>\n",
       "      <td>300</td>\n",
       "      <td>346</td>\n",
       "      <td>495</td>\n",
       "      <td>21</td>\n",
       "      <td>70</td>\n",
       "    </tr>\n",
       "    <tr>\n",
       "      <th>4</th>\n",
       "      <td>0.12</td>\n",
       "      <td>0.36</td>\n",
       "      <td>0.52</td>\n",
       "      <td>0.009</td>\n",
       "      <td>0.003</td>\n",
       "      <td>0.089</td>\n",
       "      <td>0.97</td>\n",
       "      <td>0.61</td>\n",
       "      <td>0.04</td>\n",
       "      <td>0.0</td>\n",
       "      <td>0.003</td>\n",
       "      <td>0.0066</td>\n",
       "      <td>0.0</td>\n",
       "      <td>400</td>\n",
       "      <td>316</td>\n",
       "      <td>489</td>\n",
       "      <td>26</td>\n",
       "      <td>79</td>\n",
       "    </tr>\n",
       "  </tbody>\n",
       "</table>\n",
       "</div>"
      ],
      "text/plain": [
       "      c    si    mn      p      s     ni    cr    mo    cu    v     al  \\\n",
       "0  0.12  0.36  0.52  0.009  0.003  0.089  0.97  0.61  0.04  0.0  0.003   \n",
       "1  0.12  0.36  0.52  0.009  0.003  0.089  0.97  0.61  0.04  0.0  0.003   \n",
       "2  0.12  0.36  0.52  0.009  0.003  0.089  0.97  0.61  0.04  0.0  0.003   \n",
       "3  0.12  0.36  0.52  0.009  0.003  0.089  0.97  0.61  0.04  0.0  0.003   \n",
       "4  0.12  0.36  0.52  0.009  0.003  0.089  0.97  0.61  0.04  0.0  0.003   \n",
       "\n",
       "        n  nb+ta  temp  yield  tensile  elongation  red_area  \n",
       "0  0.0066    0.0    27    342      490          30        71  \n",
       "1  0.0066    0.0   100    338      454          27        72  \n",
       "2  0.0066    0.0   200    337      465          23        69  \n",
       "3  0.0066    0.0   300    346      495          21        70  \n",
       "4  0.0066    0.0   400    316      489          26        79  "
      ]
     },
     "execution_count": 20,
     "metadata": {},
     "output_type": "execute_result"
    }
   ],
   "source": [
    "steel.head()"
   ]
  },
  {
   "cell_type": "code",
   "execution_count": 21,
   "id": "884c6ff0",
   "metadata": {},
   "outputs": [
    {
     "data": {
      "text/plain": [
       "(618, 18)"
      ]
     },
     "execution_count": 21,
     "metadata": {},
     "output_type": "execute_result"
    }
   ],
   "source": [
    "steel.shape"
   ]
  },
  {
   "cell_type": "markdown",
   "id": "7be7d9ac",
   "metadata": {},
   "source": [
    "#### The columns have been renamed, outliers have been dropped and observations at more reasonable temperatures have been selected. The dataset is now ready to be used in the next stage of analysis."
   ]
  },
  {
   "cell_type": "code",
   "execution_count": 22,
   "id": "5a6d091b",
   "metadata": {},
   "outputs": [],
   "source": [
    "steel.to_csv('/Users/chinmayasukumar/Documents/Springboard/Capstone #2/data/raw/steel_clean.csv', index=False)"
   ]
  }
 ],
 "metadata": {
  "kernelspec": {
   "display_name": "Python 3 (ipykernel)",
   "language": "python",
   "name": "python3"
  },
  "language_info": {
   "codemirror_mode": {
    "name": "ipython",
    "version": 3
   },
   "file_extension": ".py",
   "mimetype": "text/x-python",
   "name": "python",
   "nbconvert_exporter": "python",
   "pygments_lexer": "ipython3",
   "version": "3.9.12"
  }
 },
 "nbformat": 4,
 "nbformat_minor": 5
}
