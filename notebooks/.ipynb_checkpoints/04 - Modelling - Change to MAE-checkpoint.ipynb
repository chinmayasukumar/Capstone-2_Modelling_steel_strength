{
 "cells": [
  {
   "cell_type": "markdown",
   "id": "834e6b02",
   "metadata": {},
   "source": [
    "# Modelling - Change to MAE"
   ]
  },
  {
   "cell_type": "markdown",
   "id": "f64e185f",
   "metadata": {},
   "source": [
    "# 1.0 Importing libraries and loading data"
   ]
  },
  {
   "cell_type": "code",
   "execution_count": 1,
   "id": "5563887a",
   "metadata": {},
   "outputs": [],
   "source": [
    "# Importing necessary packages\n",
    "import pandas as pd\n",
    "import numpy as np\n",
    "import seaborn as sns\n",
    "import matplotlib.pyplot as plt\n",
    "from sklearn.linear_model import LinearRegression, Lasso\n",
    "from sklearn.ensemble import RandomForestRegressor, GradientBoostingRegressor\n",
    "from sklearn.dummy import DummyRegressor\n",
    "from sklearn.metrics import mean_squared_error, r2_score, accuracy_score, mean_absolute_error\n",
    "from sklearn.model_selection import RandomizedSearchCV, GridSearchCV, cross_val_score, cross_validate, KFold\n",
    "from sklearn.ensemble import VotingRegressor\n",
    "import time\n",
    "from pycaret.regression import *\n",
    "import pickle\n",
    "import random"
   ]
  },
  {
   "cell_type": "code",
   "execution_count": 4,
   "id": "d0a10c1c",
   "metadata": {},
   "outputs": [],
   "source": [
    "mainpath = '/Users/chinmayasukumar/Documents/Capstone Projects/Capstone-2_Modelling_streel_strength/data/interim/'\n",
    "\n",
    "# Loading datasets from Preprocessing\n",
    "steel = pd.read_csv(mainpath + 'steel_clean_final.csv')\n",
    "X = np.array(pd.read_csv(mainpath + 'X.csv'))\n",
    "y = np.array(pd.read_csv(mainpath + 'y.csv'))\n",
    "X_train = np.array(pd.read_csv(mainpath + 'X_train.csv'))\n",
    "y_train = np.array(pd.read_csv(mainpath + 'y_train.csv'))\n",
    "X_valid = np.array(pd.read_csv(mainpath + 'X_valid.csv'))\n",
    "y_valid = np.array(pd.read_csv(mainpath + 'y_valid.csv'))\n",
    "X_test = np.array(pd.read_csv(mainpath + 'X_test.csv'))\n",
    "y_test = np.array(pd.read_csv(mainpath + 'y_test.csv'))"
   ]
  },
  {
   "cell_type": "code",
   "execution_count": 5,
   "id": "dc856bb5",
   "metadata": {},
   "outputs": [
    {
     "data": {
      "text/plain": [
       "((432, 14), (432, 1), (124, 14), (124, 1), (62, 14), (62, 1), (618, 1))"
      ]
     },
     "execution_count": 5,
     "metadata": {},
     "output_type": "execute_result"
    }
   ],
   "source": [
    "# Confirming shape\n",
    "X_train.shape, y_train.shape, X_test.shape, y_test.shape, X_valid.shape, y_valid.shape, y.shape"
   ]
  },
  {
   "cell_type": "code",
   "execution_count": 6,
   "id": "58fe5d3b",
   "metadata": {},
   "outputs": [],
   "source": [
    "# Reshaping\n",
    "y, y_train, y_valid, y_test = y.reshape(y.shape[0],), y_train.reshape(y_train.shape[0],), \\\n",
    "                            y_valid.reshape(y_valid.shape[0],), y_test.reshape(y_test.shape[0],)"
   ]
  },
  {
   "cell_type": "code",
   "execution_count": 7,
   "id": "d4edafa4",
   "metadata": {},
   "outputs": [
    {
     "data": {
      "text/plain": [
       "((432,), (124,), (618,))"
      ]
     },
     "execution_count": 7,
     "metadata": {},
     "output_type": "execute_result"
    }
   ],
   "source": [
    "y_train.shape, y_test.shape, y.shape"
   ]
  },
  {
   "cell_type": "code",
   "execution_count": 8,
   "id": "d125ea13",
   "metadata": {},
   "outputs": [],
   "source": [
    "# Setting random seed\n",
    "np.random.seed(132)\n",
    "random.seed(132)"
   ]
  },
  {
   "cell_type": "markdown",
   "id": "3a3dfd17",
   "metadata": {},
   "source": [
    "# 2.0 Top 3 models using PyCaret"
   ]
  },
  {
   "cell_type": "markdown",
   "id": "7fb87dc4",
   "metadata": {},
   "source": [
    "### Using pycaret, the top 3 models will be chosen to build a weighted Ensemble model"
   ]
  },
  {
   "cell_type": "code",
   "execution_count": 9,
   "id": "519b2249",
   "metadata": {
    "scrolled": true
   },
   "outputs": [
    {
     "data": {
      "text/html": [
       "<div>\n",
       "<style scoped>\n",
       "    .dataframe tbody tr th:only-of-type {\n",
       "        vertical-align: middle;\n",
       "    }\n",
       "\n",
       "    .dataframe tbody tr th {\n",
       "        vertical-align: top;\n",
       "    }\n",
       "\n",
       "    .dataframe thead th {\n",
       "        text-align: right;\n",
       "    }\n",
       "</style>\n",
       "<table border=\"1\" class=\"dataframe\">\n",
       "  <thead>\n",
       "    <tr style=\"text-align: right;\">\n",
       "      <th></th>\n",
       "      <th>c</th>\n",
       "      <th>si</th>\n",
       "      <th>mn</th>\n",
       "      <th>p</th>\n",
       "      <th>s</th>\n",
       "      <th>ni</th>\n",
       "      <th>cr</th>\n",
       "      <th>mo</th>\n",
       "      <th>cu</th>\n",
       "      <th>v</th>\n",
       "      <th>al</th>\n",
       "      <th>n</th>\n",
       "      <th>nb+ta</th>\n",
       "      <th>temp</th>\n",
       "      <th>yield</th>\n",
       "    </tr>\n",
       "  </thead>\n",
       "  <tbody>\n",
       "    <tr>\n",
       "      <th>0</th>\n",
       "      <td>0.12</td>\n",
       "      <td>0.36</td>\n",
       "      <td>0.52</td>\n",
       "      <td>0.009</td>\n",
       "      <td>0.003</td>\n",
       "      <td>0.089</td>\n",
       "      <td>0.97</td>\n",
       "      <td>0.61</td>\n",
       "      <td>0.04</td>\n",
       "      <td>0.0</td>\n",
       "      <td>0.003</td>\n",
       "      <td>0.0066</td>\n",
       "      <td>0.0</td>\n",
       "      <td>27</td>\n",
       "      <td>342</td>\n",
       "    </tr>\n",
       "    <tr>\n",
       "      <th>1</th>\n",
       "      <td>0.12</td>\n",
       "      <td>0.36</td>\n",
       "      <td>0.52</td>\n",
       "      <td>0.009</td>\n",
       "      <td>0.003</td>\n",
       "      <td>0.089</td>\n",
       "      <td>0.97</td>\n",
       "      <td>0.61</td>\n",
       "      <td>0.04</td>\n",
       "      <td>0.0</td>\n",
       "      <td>0.003</td>\n",
       "      <td>0.0066</td>\n",
       "      <td>0.0</td>\n",
       "      <td>100</td>\n",
       "      <td>338</td>\n",
       "    </tr>\n",
       "    <tr>\n",
       "      <th>2</th>\n",
       "      <td>0.12</td>\n",
       "      <td>0.36</td>\n",
       "      <td>0.52</td>\n",
       "      <td>0.009</td>\n",
       "      <td>0.003</td>\n",
       "      <td>0.089</td>\n",
       "      <td>0.97</td>\n",
       "      <td>0.61</td>\n",
       "      <td>0.04</td>\n",
       "      <td>0.0</td>\n",
       "      <td>0.003</td>\n",
       "      <td>0.0066</td>\n",
       "      <td>0.0</td>\n",
       "      <td>200</td>\n",
       "      <td>337</td>\n",
       "    </tr>\n",
       "    <tr>\n",
       "      <th>3</th>\n",
       "      <td>0.12</td>\n",
       "      <td>0.36</td>\n",
       "      <td>0.52</td>\n",
       "      <td>0.009</td>\n",
       "      <td>0.003</td>\n",
       "      <td>0.089</td>\n",
       "      <td>0.97</td>\n",
       "      <td>0.61</td>\n",
       "      <td>0.04</td>\n",
       "      <td>0.0</td>\n",
       "      <td>0.003</td>\n",
       "      <td>0.0066</td>\n",
       "      <td>0.0</td>\n",
       "      <td>300</td>\n",
       "      <td>346</td>\n",
       "    </tr>\n",
       "    <tr>\n",
       "      <th>4</th>\n",
       "      <td>0.12</td>\n",
       "      <td>0.36</td>\n",
       "      <td>0.52</td>\n",
       "      <td>0.009</td>\n",
       "      <td>0.003</td>\n",
       "      <td>0.089</td>\n",
       "      <td>0.97</td>\n",
       "      <td>0.61</td>\n",
       "      <td>0.04</td>\n",
       "      <td>0.0</td>\n",
       "      <td>0.003</td>\n",
       "      <td>0.0066</td>\n",
       "      <td>0.0</td>\n",
       "      <td>400</td>\n",
       "      <td>316</td>\n",
       "    </tr>\n",
       "  </tbody>\n",
       "</table>\n",
       "</div>"
      ],
      "text/plain": [
       "      c    si    mn      p      s     ni    cr    mo    cu    v     al  \\\n",
       "0  0.12  0.36  0.52  0.009  0.003  0.089  0.97  0.61  0.04  0.0  0.003   \n",
       "1  0.12  0.36  0.52  0.009  0.003  0.089  0.97  0.61  0.04  0.0  0.003   \n",
       "2  0.12  0.36  0.52  0.009  0.003  0.089  0.97  0.61  0.04  0.0  0.003   \n",
       "3  0.12  0.36  0.52  0.009  0.003  0.089  0.97  0.61  0.04  0.0  0.003   \n",
       "4  0.12  0.36  0.52  0.009  0.003  0.089  0.97  0.61  0.04  0.0  0.003   \n",
       "\n",
       "        n  nb+ta  temp  yield  \n",
       "0  0.0066    0.0    27    342  \n",
       "1  0.0066    0.0   100    338  \n",
       "2  0.0066    0.0   200    337  \n",
       "3  0.0066    0.0   300    346  \n",
       "4  0.0066    0.0   400    316  "
      ]
     },
     "execution_count": 9,
     "metadata": {},
     "output_type": "execute_result"
    }
   ],
   "source": [
    "steel.head()"
   ]
  },
  {
   "cell_type": "code",
   "execution_count": 10,
   "id": "3fa0e2e5",
   "metadata": {},
   "outputs": [
    {
     "data": {
      "text/html": [
       "<style type=\"text/css\">\n",
       "#T_10088_row8_col1 {\n",
       "  background-color: lightgreen;\n",
       "}\n",
       "</style>\n",
       "<table id=\"T_10088\">\n",
       "  <thead>\n",
       "    <tr>\n",
       "      <th class=\"blank level0\" >&nbsp;</th>\n",
       "      <th id=\"T_10088_level0_col0\" class=\"col_heading level0 col0\" >Description</th>\n",
       "      <th id=\"T_10088_level0_col1\" class=\"col_heading level0 col1\" >Value</th>\n",
       "    </tr>\n",
       "  </thead>\n",
       "  <tbody>\n",
       "    <tr>\n",
       "      <th id=\"T_10088_level0_row0\" class=\"row_heading level0 row0\" >0</th>\n",
       "      <td id=\"T_10088_row0_col0\" class=\"data row0 col0\" >Session id</td>\n",
       "      <td id=\"T_10088_row0_col1\" class=\"data row0 col1\" >123</td>\n",
       "    </tr>\n",
       "    <tr>\n",
       "      <th id=\"T_10088_level0_row1\" class=\"row_heading level0 row1\" >1</th>\n",
       "      <td id=\"T_10088_row1_col0\" class=\"data row1 col0\" >Target</td>\n",
       "      <td id=\"T_10088_row1_col1\" class=\"data row1 col1\" >yield</td>\n",
       "    </tr>\n",
       "    <tr>\n",
       "      <th id=\"T_10088_level0_row2\" class=\"row_heading level0 row2\" >2</th>\n",
       "      <td id=\"T_10088_row2_col0\" class=\"data row2 col0\" >Target type</td>\n",
       "      <td id=\"T_10088_row2_col1\" class=\"data row2 col1\" >Regression</td>\n",
       "    </tr>\n",
       "    <tr>\n",
       "      <th id=\"T_10088_level0_row3\" class=\"row_heading level0 row3\" >3</th>\n",
       "      <td id=\"T_10088_row3_col0\" class=\"data row3 col0\" >Original data shape</td>\n",
       "      <td id=\"T_10088_row3_col1\" class=\"data row3 col1\" >(618, 15)</td>\n",
       "    </tr>\n",
       "    <tr>\n",
       "      <th id=\"T_10088_level0_row4\" class=\"row_heading level0 row4\" >4</th>\n",
       "      <td id=\"T_10088_row4_col0\" class=\"data row4 col0\" >Transformed data shape</td>\n",
       "      <td id=\"T_10088_row4_col1\" class=\"data row4 col1\" >(618, 15)</td>\n",
       "    </tr>\n",
       "    <tr>\n",
       "      <th id=\"T_10088_level0_row5\" class=\"row_heading level0 row5\" >5</th>\n",
       "      <td id=\"T_10088_row5_col0\" class=\"data row5 col0\" >Transformed train set shape</td>\n",
       "      <td id=\"T_10088_row5_col1\" class=\"data row5 col1\" >(432, 15)</td>\n",
       "    </tr>\n",
       "    <tr>\n",
       "      <th id=\"T_10088_level0_row6\" class=\"row_heading level0 row6\" >6</th>\n",
       "      <td id=\"T_10088_row6_col0\" class=\"data row6 col0\" >Transformed test set shape</td>\n",
       "      <td id=\"T_10088_row6_col1\" class=\"data row6 col1\" >(186, 15)</td>\n",
       "    </tr>\n",
       "    <tr>\n",
       "      <th id=\"T_10088_level0_row7\" class=\"row_heading level0 row7\" >7</th>\n",
       "      <td id=\"T_10088_row7_col0\" class=\"data row7 col0\" >Numeric features</td>\n",
       "      <td id=\"T_10088_row7_col1\" class=\"data row7 col1\" >14</td>\n",
       "    </tr>\n",
       "    <tr>\n",
       "      <th id=\"T_10088_level0_row8\" class=\"row_heading level0 row8\" >8</th>\n",
       "      <td id=\"T_10088_row8_col0\" class=\"data row8 col0\" >Preprocess</td>\n",
       "      <td id=\"T_10088_row8_col1\" class=\"data row8 col1\" >True</td>\n",
       "    </tr>\n",
       "    <tr>\n",
       "      <th id=\"T_10088_level0_row9\" class=\"row_heading level0 row9\" >9</th>\n",
       "      <td id=\"T_10088_row9_col0\" class=\"data row9 col0\" >Imputation type</td>\n",
       "      <td id=\"T_10088_row9_col1\" class=\"data row9 col1\" >simple</td>\n",
       "    </tr>\n",
       "    <tr>\n",
       "      <th id=\"T_10088_level0_row10\" class=\"row_heading level0 row10\" >10</th>\n",
       "      <td id=\"T_10088_row10_col0\" class=\"data row10 col0\" >Numeric imputation</td>\n",
       "      <td id=\"T_10088_row10_col1\" class=\"data row10 col1\" >mean</td>\n",
       "    </tr>\n",
       "    <tr>\n",
       "      <th id=\"T_10088_level0_row11\" class=\"row_heading level0 row11\" >11</th>\n",
       "      <td id=\"T_10088_row11_col0\" class=\"data row11 col0\" >Categorical imputation</td>\n",
       "      <td id=\"T_10088_row11_col1\" class=\"data row11 col1\" >mode</td>\n",
       "    </tr>\n",
       "    <tr>\n",
       "      <th id=\"T_10088_level0_row12\" class=\"row_heading level0 row12\" >12</th>\n",
       "      <td id=\"T_10088_row12_col0\" class=\"data row12 col0\" >Fold Generator</td>\n",
       "      <td id=\"T_10088_row12_col1\" class=\"data row12 col1\" >KFold</td>\n",
       "    </tr>\n",
       "    <tr>\n",
       "      <th id=\"T_10088_level0_row13\" class=\"row_heading level0 row13\" >13</th>\n",
       "      <td id=\"T_10088_row13_col0\" class=\"data row13 col0\" >Fold Number</td>\n",
       "      <td id=\"T_10088_row13_col1\" class=\"data row13 col1\" >10</td>\n",
       "    </tr>\n",
       "    <tr>\n",
       "      <th id=\"T_10088_level0_row14\" class=\"row_heading level0 row14\" >14</th>\n",
       "      <td id=\"T_10088_row14_col0\" class=\"data row14 col0\" >CPU Jobs</td>\n",
       "      <td id=\"T_10088_row14_col1\" class=\"data row14 col1\" >-1</td>\n",
       "    </tr>\n",
       "    <tr>\n",
       "      <th id=\"T_10088_level0_row15\" class=\"row_heading level0 row15\" >15</th>\n",
       "      <td id=\"T_10088_row15_col0\" class=\"data row15 col0\" >Use GPU</td>\n",
       "      <td id=\"T_10088_row15_col1\" class=\"data row15 col1\" >False</td>\n",
       "    </tr>\n",
       "    <tr>\n",
       "      <th id=\"T_10088_level0_row16\" class=\"row_heading level0 row16\" >16</th>\n",
       "      <td id=\"T_10088_row16_col0\" class=\"data row16 col0\" >Log Experiment</td>\n",
       "      <td id=\"T_10088_row16_col1\" class=\"data row16 col1\" >False</td>\n",
       "    </tr>\n",
       "    <tr>\n",
       "      <th id=\"T_10088_level0_row17\" class=\"row_heading level0 row17\" >17</th>\n",
       "      <td id=\"T_10088_row17_col0\" class=\"data row17 col0\" >Experiment Name</td>\n",
       "      <td id=\"T_10088_row17_col1\" class=\"data row17 col1\" >reg-default-name</td>\n",
       "    </tr>\n",
       "    <tr>\n",
       "      <th id=\"T_10088_level0_row18\" class=\"row_heading level0 row18\" >18</th>\n",
       "      <td id=\"T_10088_row18_col0\" class=\"data row18 col0\" >USI</td>\n",
       "      <td id=\"T_10088_row18_col1\" class=\"data row18 col1\" >9ac7</td>\n",
       "    </tr>\n",
       "  </tbody>\n",
       "</table>\n"
      ],
      "text/plain": [
       "<pandas.io.formats.style.Styler at 0x7fc9b3625100>"
      ]
     },
     "metadata": {},
     "output_type": "display_data"
    }
   ],
   "source": [
    "# Setting up experiment using pycaret\n",
    "# Target is yield\n",
    "s = setup(steel, target='yield', session_id=123)"
   ]
  },
  {
   "cell_type": "code",
   "execution_count": 11,
   "id": "aef30069",
   "metadata": {
    "scrolled": false
   },
   "outputs": [
    {
     "data": {
      "text/html": [],
      "text/plain": [
       "<IPython.core.display.HTML object>"
      ]
     },
     "metadata": {},
     "output_type": "display_data"
    },
    {
     "data": {
      "text/html": [
       "<style type=\"text/css\">\n",
       "#T_6e879 th {\n",
       "  text-align: left;\n",
       "}\n",
       "#T_6e879_row0_col0, #T_6e879_row1_col0, #T_6e879_row1_col1, #T_6e879_row1_col2, #T_6e879_row1_col3, #T_6e879_row1_col4, #T_6e879_row1_col5, #T_6e879_row1_col6, #T_6e879_row2_col0, #T_6e879_row2_col1, #T_6e879_row2_col2, #T_6e879_row2_col3, #T_6e879_row2_col4, #T_6e879_row2_col5, #T_6e879_row2_col6, #T_6e879_row3_col0, #T_6e879_row3_col1, #T_6e879_row3_col2, #T_6e879_row3_col3, #T_6e879_row3_col4, #T_6e879_row3_col5, #T_6e879_row3_col6, #T_6e879_row4_col0, #T_6e879_row4_col1, #T_6e879_row4_col2, #T_6e879_row4_col3, #T_6e879_row4_col4, #T_6e879_row4_col5, #T_6e879_row4_col6, #T_6e879_row5_col0, #T_6e879_row5_col1, #T_6e879_row5_col2, #T_6e879_row5_col3, #T_6e879_row5_col4, #T_6e879_row5_col5, #T_6e879_row5_col6, #T_6e879_row6_col0, #T_6e879_row6_col1, #T_6e879_row6_col2, #T_6e879_row6_col3, #T_6e879_row6_col4, #T_6e879_row6_col5, #T_6e879_row6_col6, #T_6e879_row7_col0, #T_6e879_row7_col1, #T_6e879_row7_col2, #T_6e879_row7_col3, #T_6e879_row7_col4, #T_6e879_row7_col5, #T_6e879_row7_col6, #T_6e879_row8_col0, #T_6e879_row8_col1, #T_6e879_row8_col2, #T_6e879_row8_col3, #T_6e879_row8_col4, #T_6e879_row8_col5, #T_6e879_row8_col6, #T_6e879_row9_col0, #T_6e879_row9_col1, #T_6e879_row9_col2, #T_6e879_row9_col3, #T_6e879_row9_col4, #T_6e879_row9_col5, #T_6e879_row9_col6, #T_6e879_row10_col0, #T_6e879_row10_col1, #T_6e879_row10_col2, #T_6e879_row10_col3, #T_6e879_row10_col4, #T_6e879_row10_col5, #T_6e879_row10_col6, #T_6e879_row11_col0, #T_6e879_row11_col1, #T_6e879_row11_col2, #T_6e879_row11_col3, #T_6e879_row11_col4, #T_6e879_row11_col5, #T_6e879_row11_col6, #T_6e879_row12_col0, #T_6e879_row12_col1, #T_6e879_row12_col2, #T_6e879_row12_col3, #T_6e879_row12_col4, #T_6e879_row12_col5, #T_6e879_row12_col6, #T_6e879_row13_col0, #T_6e879_row13_col1, #T_6e879_row13_col2, #T_6e879_row13_col3, #T_6e879_row13_col4, #T_6e879_row13_col5, #T_6e879_row13_col6, #T_6e879_row14_col0, #T_6e879_row14_col1, #T_6e879_row14_col2, #T_6e879_row14_col3, #T_6e879_row14_col4, #T_6e879_row14_col5, #T_6e879_row14_col6, #T_6e879_row15_col0, #T_6e879_row15_col1, #T_6e879_row15_col2, #T_6e879_row15_col3, #T_6e879_row15_col4, #T_6e879_row15_col5, #T_6e879_row15_col6, #T_6e879_row16_col0, #T_6e879_row16_col1, #T_6e879_row16_col2, #T_6e879_row16_col3, #T_6e879_row16_col4, #T_6e879_row16_col5, #T_6e879_row16_col6, #T_6e879_row17_col0, #T_6e879_row17_col1, #T_6e879_row17_col2, #T_6e879_row17_col3, #T_6e879_row17_col4, #T_6e879_row17_col5, #T_6e879_row17_col6, #T_6e879_row18_col0, #T_6e879_row18_col1, #T_6e879_row18_col2, #T_6e879_row18_col3, #T_6e879_row18_col4, #T_6e879_row18_col5, #T_6e879_row18_col6, #T_6e879_row19_col0, #T_6e879_row19_col1, #T_6e879_row19_col2, #T_6e879_row19_col3, #T_6e879_row19_col4, #T_6e879_row19_col5, #T_6e879_row19_col6 {\n",
       "  text-align: left;\n",
       "}\n",
       "#T_6e879_row0_col1, #T_6e879_row0_col2, #T_6e879_row0_col3, #T_6e879_row0_col4, #T_6e879_row0_col5, #T_6e879_row0_col6 {\n",
       "  text-align: left;\n",
       "  background-color: yellow;\n",
       "}\n",
       "#T_6e879_row0_col7, #T_6e879_row1_col7, #T_6e879_row2_col7, #T_6e879_row3_col7, #T_6e879_row4_col7, #T_6e879_row5_col7, #T_6e879_row6_col7, #T_6e879_row7_col7, #T_6e879_row8_col7, #T_6e879_row9_col7, #T_6e879_row10_col7, #T_6e879_row12_col7, #T_6e879_row13_col7, #T_6e879_row14_col7, #T_6e879_row15_col7, #T_6e879_row16_col7, #T_6e879_row17_col7, #T_6e879_row18_col7, #T_6e879_row19_col7 {\n",
       "  text-align: left;\n",
       "  background-color: lightgrey;\n",
       "}\n",
       "#T_6e879_row11_col7 {\n",
       "  text-align: left;\n",
       "  background-color: yellow;\n",
       "  background-color: lightgrey;\n",
       "}\n",
       "</style>\n",
       "<table id=\"T_6e879\">\n",
       "  <thead>\n",
       "    <tr>\n",
       "      <th class=\"blank level0\" >&nbsp;</th>\n",
       "      <th id=\"T_6e879_level0_col0\" class=\"col_heading level0 col0\" >Model</th>\n",
       "      <th id=\"T_6e879_level0_col1\" class=\"col_heading level0 col1\" >MAE</th>\n",
       "      <th id=\"T_6e879_level0_col2\" class=\"col_heading level0 col2\" >MSE</th>\n",
       "      <th id=\"T_6e879_level0_col3\" class=\"col_heading level0 col3\" >RMSE</th>\n",
       "      <th id=\"T_6e879_level0_col4\" class=\"col_heading level0 col4\" >R2</th>\n",
       "      <th id=\"T_6e879_level0_col5\" class=\"col_heading level0 col5\" >RMSLE</th>\n",
       "      <th id=\"T_6e879_level0_col6\" class=\"col_heading level0 col6\" >MAPE</th>\n",
       "      <th id=\"T_6e879_level0_col7\" class=\"col_heading level0 col7\" >TT (Sec)</th>\n",
       "    </tr>\n",
       "  </thead>\n",
       "  <tbody>\n",
       "    <tr>\n",
       "      <th id=\"T_6e879_level0_row0\" class=\"row_heading level0 row0\" >catboost</th>\n",
       "      <td id=\"T_6e879_row0_col0\" class=\"data row0 col0\" >CatBoost Regressor</td>\n",
       "      <td id=\"T_6e879_row0_col1\" class=\"data row0 col1\" >14.9141</td>\n",
       "      <td id=\"T_6e879_row0_col2\" class=\"data row0 col2\" >735.7980</td>\n",
       "      <td id=\"T_6e879_row0_col3\" class=\"data row0 col3\" >24.5215</td>\n",
       "      <td id=\"T_6e879_row0_col4\" class=\"data row0 col4\" >0.9557</td>\n",
       "      <td id=\"T_6e879_row0_col5\" class=\"data row0 col5\" >0.0699</td>\n",
       "      <td id=\"T_6e879_row0_col6\" class=\"data row0 col6\" >0.0454</td>\n",
       "      <td id=\"T_6e879_row0_col7\" class=\"data row0 col7\" >1.0370</td>\n",
       "    </tr>\n",
       "    <tr>\n",
       "      <th id=\"T_6e879_level0_row1\" class=\"row_heading level0 row1\" >lightgbm</th>\n",
       "      <td id=\"T_6e879_row1_col0\" class=\"data row1 col0\" >Light Gradient Boosting Machine</td>\n",
       "      <td id=\"T_6e879_row1_col1\" class=\"data row1 col1\" >16.5407</td>\n",
       "      <td id=\"T_6e879_row1_col2\" class=\"data row1 col2\" >824.1776</td>\n",
       "      <td id=\"T_6e879_row1_col3\" class=\"data row1 col3\" >26.0469</td>\n",
       "      <td id=\"T_6e879_row1_col4\" class=\"data row1 col4\" >0.9508</td>\n",
       "      <td id=\"T_6e879_row1_col5\" class=\"data row1 col5\" >0.0731</td>\n",
       "      <td id=\"T_6e879_row1_col6\" class=\"data row1 col6\" >0.0493</td>\n",
       "      <td id=\"T_6e879_row1_col7\" class=\"data row1 col7\" >0.3860</td>\n",
       "    </tr>\n",
       "    <tr>\n",
       "      <th id=\"T_6e879_level0_row2\" class=\"row_heading level0 row2\" >et</th>\n",
       "      <td id=\"T_6e879_row2_col0\" class=\"data row2 col0\" >Extra Trees Regressor</td>\n",
       "      <td id=\"T_6e879_row2_col1\" class=\"data row2 col1\" >17.2057</td>\n",
       "      <td id=\"T_6e879_row2_col2\" class=\"data row2 col2\" >812.8257</td>\n",
       "      <td id=\"T_6e879_row2_col3\" class=\"data row2 col3\" >26.4365</td>\n",
       "      <td id=\"T_6e879_row2_col4\" class=\"data row2 col4\" >0.9508</td>\n",
       "      <td id=\"T_6e879_row2_col5\" class=\"data row2 col5\" >0.0759</td>\n",
       "      <td id=\"T_6e879_row2_col6\" class=\"data row2 col6\" >0.0511</td>\n",
       "      <td id=\"T_6e879_row2_col7\" class=\"data row2 col7\" >0.2830</td>\n",
       "    </tr>\n",
       "    <tr>\n",
       "      <th id=\"T_6e879_level0_row3\" class=\"row_heading level0 row3\" >gbr</th>\n",
       "      <td id=\"T_6e879_row3_col0\" class=\"data row3 col0\" >Gradient Boosting Regressor</td>\n",
       "      <td id=\"T_6e879_row3_col1\" class=\"data row3 col1\" >17.9938</td>\n",
       "      <td id=\"T_6e879_row3_col2\" class=\"data row3 col2\" >875.5949</td>\n",
       "      <td id=\"T_6e879_row3_col3\" class=\"data row3 col3\" >27.4723</td>\n",
       "      <td id=\"T_6e879_row3_col4\" class=\"data row3 col4\" >0.9475</td>\n",
       "      <td id=\"T_6e879_row3_col5\" class=\"data row3 col5\" >0.0789</td>\n",
       "      <td id=\"T_6e879_row3_col6\" class=\"data row3 col6\" >0.0545</td>\n",
       "      <td id=\"T_6e879_row3_col7\" class=\"data row3 col7\" >0.1930</td>\n",
       "    </tr>\n",
       "    <tr>\n",
       "      <th id=\"T_6e879_level0_row4\" class=\"row_heading level0 row4\" >xgboost</th>\n",
       "      <td id=\"T_6e879_row4_col0\" class=\"data row4 col0\" >Extreme Gradient Boosting</td>\n",
       "      <td id=\"T_6e879_row4_col1\" class=\"data row4 col1\" >16.9166</td>\n",
       "      <td id=\"T_6e879_row4_col2\" class=\"data row4 col2\" >894.2253</td>\n",
       "      <td id=\"T_6e879_row4_col3\" class=\"data row4 col3\" >27.1273</td>\n",
       "      <td id=\"T_6e879_row4_col4\" class=\"data row4 col4\" >0.9468</td>\n",
       "      <td id=\"T_6e879_row4_col5\" class=\"data row4 col5\" >0.0756</td>\n",
       "      <td id=\"T_6e879_row4_col6\" class=\"data row4 col6\" >0.0500</td>\n",
       "      <td id=\"T_6e879_row4_col7\" class=\"data row4 col7\" >0.1790</td>\n",
       "    </tr>\n",
       "    <tr>\n",
       "      <th id=\"T_6e879_level0_row5\" class=\"row_heading level0 row5\" >rf</th>\n",
       "      <td id=\"T_6e879_row5_col0\" class=\"data row5 col0\" >Random Forest Regressor</td>\n",
       "      <td id=\"T_6e879_row5_col1\" class=\"data row5 col1\" >17.9213</td>\n",
       "      <td id=\"T_6e879_row5_col2\" class=\"data row5 col2\" >882.6691</td>\n",
       "      <td id=\"T_6e879_row5_col3\" class=\"data row5 col3\" >27.7950</td>\n",
       "      <td id=\"T_6e879_row5_col4\" class=\"data row5 col4\" >0.9468</td>\n",
       "      <td id=\"T_6e879_row5_col5\" class=\"data row5 col5\" >0.0789</td>\n",
       "      <td id=\"T_6e879_row5_col6\" class=\"data row5 col6\" >0.0529</td>\n",
       "      <td id=\"T_6e879_row5_col7\" class=\"data row5 col7\" >0.3000</td>\n",
       "    </tr>\n",
       "    <tr>\n",
       "      <th id=\"T_6e879_level0_row6\" class=\"row_heading level0 row6\" >dt</th>\n",
       "      <td id=\"T_6e879_row6_col0\" class=\"data row6 col0\" >Decision Tree Regressor</td>\n",
       "      <td id=\"T_6e879_row6_col1\" class=\"data row6 col1\" >22.7973</td>\n",
       "      <td id=\"T_6e879_row6_col2\" class=\"data row6 col2\" >1534.3729</td>\n",
       "      <td id=\"T_6e879_row6_col3\" class=\"data row6 col3\" >35.7140</td>\n",
       "      <td id=\"T_6e879_row6_col4\" class=\"data row6 col4\" >0.9083</td>\n",
       "      <td id=\"T_6e879_row6_col5\" class=\"data row6 col5\" >0.1026</td>\n",
       "      <td id=\"T_6e879_row6_col6\" class=\"data row6 col6\" >0.0646</td>\n",
       "      <td id=\"T_6e879_row6_col7\" class=\"data row6 col7\" >0.1350</td>\n",
       "    </tr>\n",
       "    <tr>\n",
       "      <th id=\"T_6e879_level0_row7\" class=\"row_heading level0 row7\" >ada</th>\n",
       "      <td id=\"T_6e879_row7_col0\" class=\"data row7 col0\" >AdaBoost Regressor</td>\n",
       "      <td id=\"T_6e879_row7_col1\" class=\"data row7 col1\" >35.2418</td>\n",
       "      <td id=\"T_6e879_row7_col2\" class=\"data row7 col2\" >2148.1269</td>\n",
       "      <td id=\"T_6e879_row7_col3\" class=\"data row7 col3\" >45.6406</td>\n",
       "      <td id=\"T_6e879_row7_col4\" class=\"data row7 col4\" >0.8711</td>\n",
       "      <td id=\"T_6e879_row7_col5\" class=\"data row7 col5\" >0.1412</td>\n",
       "      <td id=\"T_6e879_row7_col6\" class=\"data row7 col6\" >0.1130</td>\n",
       "      <td id=\"T_6e879_row7_col7\" class=\"data row7 col7\" >0.1490</td>\n",
       "    </tr>\n",
       "    <tr>\n",
       "      <th id=\"T_6e879_level0_row8\" class=\"row_heading level0 row8\" >knn</th>\n",
       "      <td id=\"T_6e879_row8_col0\" class=\"data row8 col0\" >K Neighbors Regressor</td>\n",
       "      <td id=\"T_6e879_row8_col1\" class=\"data row8 col1\" >35.2107</td>\n",
       "      <td id=\"T_6e879_row8_col2\" class=\"data row8 col2\" >2448.9948</td>\n",
       "      <td id=\"T_6e879_row8_col3\" class=\"data row8 col3\" >48.7628</td>\n",
       "      <td id=\"T_6e879_row8_col4\" class=\"data row8 col4\" >0.8511</td>\n",
       "      <td id=\"T_6e879_row8_col5\" class=\"data row8 col5\" >0.1421</td>\n",
       "      <td id=\"T_6e879_row8_col6\" class=\"data row8 col6\" >0.1054</td>\n",
       "      <td id=\"T_6e879_row8_col7\" class=\"data row8 col7\" >0.1370</td>\n",
       "    </tr>\n",
       "    <tr>\n",
       "      <th id=\"T_6e879_level0_row9\" class=\"row_heading level0 row9\" >lar</th>\n",
       "      <td id=\"T_6e879_row9_col0\" class=\"data row9 col0\" >Least Angle Regression</td>\n",
       "      <td id=\"T_6e879_row9_col1\" class=\"data row9 col1\" >35.6690</td>\n",
       "      <td id=\"T_6e879_row9_col2\" class=\"data row9 col2\" >2459.3196</td>\n",
       "      <td id=\"T_6e879_row9_col3\" class=\"data row9 col3\" >48.0963</td>\n",
       "      <td id=\"T_6e879_row9_col4\" class=\"data row9 col4\" >0.8506</td>\n",
       "      <td id=\"T_6e879_row9_col5\" class=\"data row9 col5\" >0.1394</td>\n",
       "      <td id=\"T_6e879_row9_col6\" class=\"data row9 col6\" >0.1070</td>\n",
       "      <td id=\"T_6e879_row9_col7\" class=\"data row9 col7\" >0.2140</td>\n",
       "    </tr>\n",
       "    <tr>\n",
       "      <th id=\"T_6e879_level0_row10\" class=\"row_heading level0 row10\" >lr</th>\n",
       "      <td id=\"T_6e879_row10_col0\" class=\"data row10 col0\" >Linear Regression</td>\n",
       "      <td id=\"T_6e879_row10_col1\" class=\"data row10 col1\" >35.6690</td>\n",
       "      <td id=\"T_6e879_row10_col2\" class=\"data row10 col2\" >2459.3196</td>\n",
       "      <td id=\"T_6e879_row10_col3\" class=\"data row10 col3\" >48.0963</td>\n",
       "      <td id=\"T_6e879_row10_col4\" class=\"data row10 col4\" >0.8506</td>\n",
       "      <td id=\"T_6e879_row10_col5\" class=\"data row10 col5\" >0.1394</td>\n",
       "      <td id=\"T_6e879_row10_col6\" class=\"data row10 col6\" >0.1070</td>\n",
       "      <td id=\"T_6e879_row10_col7\" class=\"data row10 col7\" >2.1740</td>\n",
       "    </tr>\n",
       "    <tr>\n",
       "      <th id=\"T_6e879_level0_row11\" class=\"row_heading level0 row11\" >ridge</th>\n",
       "      <td id=\"T_6e879_row11_col0\" class=\"data row11 col0\" >Ridge Regression</td>\n",
       "      <td id=\"T_6e879_row11_col1\" class=\"data row11 col1\" >40.9514</td>\n",
       "      <td id=\"T_6e879_row11_col2\" class=\"data row11 col2\" >2992.1428</td>\n",
       "      <td id=\"T_6e879_row11_col3\" class=\"data row11 col3\" >54.0125</td>\n",
       "      <td id=\"T_6e879_row11_col4\" class=\"data row11 col4\" >0.8192</td>\n",
       "      <td id=\"T_6e879_row11_col5\" class=\"data row11 col5\" >0.1539</td>\n",
       "      <td id=\"T_6e879_row11_col6\" class=\"data row11 col6\" >0.1236</td>\n",
       "      <td id=\"T_6e879_row11_col7\" class=\"data row11 col7\" >0.1200</td>\n",
       "    </tr>\n",
       "    <tr>\n",
       "      <th id=\"T_6e879_level0_row12\" class=\"row_heading level0 row12\" >lasso</th>\n",
       "      <td id=\"T_6e879_row12_col0\" class=\"data row12 col0\" >Lasso Regression</td>\n",
       "      <td id=\"T_6e879_row12_col1\" class=\"data row12 col1\" >41.4166</td>\n",
       "      <td id=\"T_6e879_row12_col2\" class=\"data row12 col2\" >3059.8898</td>\n",
       "      <td id=\"T_6e879_row12_col3\" class=\"data row12 col3\" >54.5351</td>\n",
       "      <td id=\"T_6e879_row12_col4\" class=\"data row12 col4\" >0.8160</td>\n",
       "      <td id=\"T_6e879_row12_col5\" class=\"data row12 col5\" >0.1565</td>\n",
       "      <td id=\"T_6e879_row12_col6\" class=\"data row12 col6\" >0.1253</td>\n",
       "      <td id=\"T_6e879_row12_col7\" class=\"data row12 col7\" >0.1360</td>\n",
       "    </tr>\n",
       "    <tr>\n",
       "      <th id=\"T_6e879_level0_row13\" class=\"row_heading level0 row13\" >huber</th>\n",
       "      <td id=\"T_6e879_row13_col0\" class=\"data row13 col0\" >Huber Regressor</td>\n",
       "      <td id=\"T_6e879_row13_col1\" class=\"data row13 col1\" >43.7361</td>\n",
       "      <td id=\"T_6e879_row13_col2\" class=\"data row13 col2\" >3794.5206</td>\n",
       "      <td id=\"T_6e879_row13_col3\" class=\"data row13 col3\" >60.8082</td>\n",
       "      <td id=\"T_6e879_row13_col4\" class=\"data row13 col4\" >0.7654</td>\n",
       "      <td id=\"T_6e879_row13_col5\" class=\"data row13 col5\" >0.1724</td>\n",
       "      <td id=\"T_6e879_row13_col6\" class=\"data row13 col6\" >0.1359</td>\n",
       "      <td id=\"T_6e879_row13_col7\" class=\"data row13 col7\" >0.1660</td>\n",
       "    </tr>\n",
       "    <tr>\n",
       "      <th id=\"T_6e879_level0_row14\" class=\"row_heading level0 row14\" >llar</th>\n",
       "      <td id=\"T_6e879_row14_col0\" class=\"data row14 col0\" >Lasso Least Angle Regression</td>\n",
       "      <td id=\"T_6e879_row14_col1\" class=\"data row14 col1\" >49.7018</td>\n",
       "      <td id=\"T_6e879_row14_col2\" class=\"data row14 col2\" >4143.6245</td>\n",
       "      <td id=\"T_6e879_row14_col3\" class=\"data row14 col3\" >63.6416</td>\n",
       "      <td id=\"T_6e879_row14_col4\" class=\"data row14 col4\" >0.7498</td>\n",
       "      <td id=\"T_6e879_row14_col5\" class=\"data row14 col5\" >0.1961</td>\n",
       "      <td id=\"T_6e879_row14_col6\" class=\"data row14 col6\" >0.1620</td>\n",
       "      <td id=\"T_6e879_row14_col7\" class=\"data row14 col7\" >0.1570</td>\n",
       "    </tr>\n",
       "    <tr>\n",
       "      <th id=\"T_6e879_level0_row15\" class=\"row_heading level0 row15\" >omp</th>\n",
       "      <td id=\"T_6e879_row15_col0\" class=\"data row15 col0\" >Orthogonal Matching Pursuit</td>\n",
       "      <td id=\"T_6e879_row15_col1\" class=\"data row15 col1\" >74.7910</td>\n",
       "      <td id=\"T_6e879_row15_col2\" class=\"data row15 col2\" >8478.9247</td>\n",
       "      <td id=\"T_6e879_row15_col3\" class=\"data row15 col3\" >91.4311</td>\n",
       "      <td id=\"T_6e879_row15_col4\" class=\"data row15 col4\" >0.4851</td>\n",
       "      <td id=\"T_6e879_row15_col5\" class=\"data row15 col5\" >0.2741</td>\n",
       "      <td id=\"T_6e879_row15_col6\" class=\"data row15 col6\" >0.2395</td>\n",
       "      <td id=\"T_6e879_row15_col7\" class=\"data row15 col7\" >0.1620</td>\n",
       "    </tr>\n",
       "    <tr>\n",
       "      <th id=\"T_6e879_level0_row16\" class=\"row_heading level0 row16\" >en</th>\n",
       "      <td id=\"T_6e879_row16_col0\" class=\"data row16 col0\" >Elastic Net</td>\n",
       "      <td id=\"T_6e879_row16_col1\" class=\"data row16 col1\" >100.9028</td>\n",
       "      <td id=\"T_6e879_row16_col2\" class=\"data row16 col2\" >12555.6427</td>\n",
       "      <td id=\"T_6e879_row16_col3\" class=\"data row16 col3\" >111.7267</td>\n",
       "      <td id=\"T_6e879_row16_col4\" class=\"data row16 col4\" >0.2413</td>\n",
       "      <td id=\"T_6e879_row16_col5\" class=\"data row16 col5\" >0.3226</td>\n",
       "      <td id=\"T_6e879_row16_col6\" class=\"data row16 col6\" >0.3170</td>\n",
       "      <td id=\"T_6e879_row16_col7\" class=\"data row16 col7\" >0.1210</td>\n",
       "    </tr>\n",
       "    <tr>\n",
       "      <th id=\"T_6e879_level0_row17\" class=\"row_heading level0 row17\" >br</th>\n",
       "      <td id=\"T_6e879_row17_col0\" class=\"data row17 col0\" >Bayesian Ridge</td>\n",
       "      <td id=\"T_6e879_row17_col1\" class=\"data row17 col1\" >115.6011</td>\n",
       "      <td id=\"T_6e879_row17_col2\" class=\"data row17 col2\" >16476.7786</td>\n",
       "      <td id=\"T_6e879_row17_col3\" class=\"data row17 col3\" >128.0708</td>\n",
       "      <td id=\"T_6e879_row17_col4\" class=\"data row17 col4\" >0.0018</td>\n",
       "      <td id=\"T_6e879_row17_col5\" class=\"data row17 col5\" >0.3671</td>\n",
       "      <td id=\"T_6e879_row17_col6\" class=\"data row17 col6\" >0.3641</td>\n",
       "      <td id=\"T_6e879_row17_col7\" class=\"data row17 col7\" >0.2300</td>\n",
       "    </tr>\n",
       "    <tr>\n",
       "      <th id=\"T_6e879_level0_row18\" class=\"row_heading level0 row18\" >dummy</th>\n",
       "      <td id=\"T_6e879_row18_col0\" class=\"data row18 col0\" >Dummy Regressor</td>\n",
       "      <td id=\"T_6e879_row18_col1\" class=\"data row18 col1\" >115.8905</td>\n",
       "      <td id=\"T_6e879_row18_col2\" class=\"data row18 col2\" >17603.3737</td>\n",
       "      <td id=\"T_6e879_row18_col3\" class=\"data row18 col3\" >132.5126</td>\n",
       "      <td id=\"T_6e879_row18_col4\" class=\"data row18 col4\" >-0.0683</td>\n",
       "      <td id=\"T_6e879_row18_col5\" class=\"data row18 col5\" >0.3809</td>\n",
       "      <td id=\"T_6e879_row18_col6\" class=\"data row18 col6\" >0.3712</td>\n",
       "      <td id=\"T_6e879_row18_col7\" class=\"data row18 col7\" >0.2720</td>\n",
       "    </tr>\n",
       "    <tr>\n",
       "      <th id=\"T_6e879_level0_row19\" class=\"row_heading level0 row19\" >par</th>\n",
       "      <td id=\"T_6e879_row19_col0\" class=\"data row19 col0\" >Passive Aggressive Regressor</td>\n",
       "      <td id=\"T_6e879_row19_col1\" class=\"data row19 col1\" >169.0727</td>\n",
       "      <td id=\"T_6e879_row19_col2\" class=\"data row19 col2\" >72248.7847</td>\n",
       "      <td id=\"T_6e879_row19_col3\" class=\"data row19 col3\" >198.3392</td>\n",
       "      <td id=\"T_6e879_row19_col4\" class=\"data row19 col4\" >-3.2809</td>\n",
       "      <td id=\"T_6e879_row19_col5\" class=\"data row19 col5\" >0.4168</td>\n",
       "      <td id=\"T_6e879_row19_col6\" class=\"data row19 col6\" >0.5522</td>\n",
       "      <td id=\"T_6e879_row19_col7\" class=\"data row19 col7\" >0.1730</td>\n",
       "    </tr>\n",
       "  </tbody>\n",
       "</table>\n"
      ],
      "text/plain": [
       "<pandas.io.formats.style.Styler at 0x7fc9b05c0d90>"
      ]
     },
     "metadata": {},
     "output_type": "display_data"
    },
    {
     "data": {
      "application/vnd.jupyter.widget-view+json": {
       "model_id": "",
       "version_major": 2,
       "version_minor": 0
      },
      "text/plain": [
       "Processing:   0%|          | 0/87 [00:00<?, ?it/s]"
      ]
     },
     "metadata": {},
     "output_type": "display_data"
    }
   ],
   "source": [
    "# Returning top 3 models from training\n",
    "top3 = compare_models(n_select=3)"
   ]
  },
  {
   "cell_type": "markdown",
   "id": "1ac34ffa",
   "metadata": {},
   "source": [
    "#### The top 3 models are a Cat Boost Regressor, Light Gradient Boosting Regressor and an Extra Trees Regressor"
   ]
  },
  {
   "cell_type": "code",
   "execution_count": 12,
   "id": "65f1c8e4",
   "metadata": {},
   "outputs": [
    {
     "data": {
      "text/html": [],
      "text/plain": [
       "<IPython.core.display.HTML object>"
      ]
     },
     "metadata": {},
     "output_type": "display_data"
    },
    {
     "data": {
      "image/png": "[encoded data removed]",
      "text/plain": [
       "<Figure size 800x500 with 1 Axes>"
      ]
     },
     "metadata": {
      "needs_background": "light"
     },
     "output_type": "display_data"
    }
   ],
   "source": [
    "# CatBoost Regressor\n",
    "plot_model(top3[0], plot=\"feature_all\")"
   ]
  },
  {
   "cell_type": "code",
   "execution_count": 28,
   "id": "62ecbcd4",
   "metadata": {
    "scrolled": false
   },
   "outputs": [
    {
     "data": {
      "text/html": [],
      "text/plain": [
       "<IPython.core.display.HTML object>"
      ]
     },
     "metadata": {},
     "output_type": "display_data"
    },
    {
     "data": {
      "image/png": "[encoded data removed]",
      "text/plain": [
       "<Figure size 800x500 with 1 Axes>"
      ]
     },
     "metadata": {
      "needs_background": "light"
     },
     "output_type": "display_data"
    }
   ],
   "source": [
    "# LGBM Regressor\n",
    "plot_model(top3[1], plot=\"feature_all\")"
   ]
  },
  {
   "cell_type": "code",
   "execution_count": 30,
   "id": "c14db3e0",
   "metadata": {
    "scrolled": false
   },
   "outputs": [
    {
     "data": {
      "text/html": [],
      "text/plain": [
       "<IPython.core.display.HTML object>"
      ]
     },
     "metadata": {},
     "output_type": "display_data"
    },
    {
     "data": {
      "image/png": "[encoded data removed]",
      "text/plain": [
       "<Figure size 800x500 with 1 Axes>"
      ]
     },
     "metadata": {
      "needs_background": "light"
     },
     "output_type": "display_data"
    }
   ],
   "source": [
    "# Extra Trees Regressor\n",
    "plot_model(top3[2], 'feature_all')"
   ]
  },
  {
   "cell_type": "code",
   "execution_count": 13,
   "id": "44bdf91b",
   "metadata": {},
   "outputs": [],
   "source": [
    "cat, lgbm, xt = top3[0], top3[1], top3[2]"
   ]
  },
  {
   "cell_type": "markdown",
   "id": "ce9dd1c0",
   "metadata": {},
   "source": [
    "### Each regressor will be tuned before use in a Voting Regressor"
   ]
  },
  {
   "cell_type": "markdown",
   "id": "79e00669",
   "metadata": {},
   "source": [
    "# 3.0 CatBoostRegressor"
   ]
  },
  {
   "cell_type": "markdown",
   "id": "d5682736",
   "metadata": {},
   "source": [
    "## 3.1 Hyperparameter tuning"
   ]
  },
  {
   "cell_type": "code",
   "execution_count": 34,
   "id": "619a3312",
   "metadata": {
    "scrolled": true
   },
   "outputs": [
    {
     "name": "stdout",
     "output_type": "stream",
     "text": [
      "CV score - CatBoostRegressor: 0.9568347253427676\n",
      "Best params:  {'depth': 6, 'iterations': 200, 'learning_rate': 0.3}\n"
     ]
    }
   ],
   "source": [
    "# Finding an optimal CatBoostRegressor\n",
    "# Setting parameters for GridSearch\n",
    "params = {'depth':[2,4,6,8], 'learning_rate':[0.001,0.05,0.1,0.2,0.3,0.5,0.7,1.0], \\\n",
    "          'iterations':[30,50,100,150,200,500]}\n",
    "\n",
    "# Creating GridSearch object\n",
    "cat_cv = GridSearchCV(cat, params)\n",
    "\n",
    "# Fitting and scoring using CV\n",
    "cat_cv.fit(X_train, y_train)\n",
    "print('CV score - CatBoostRegressor:',cat_cv.best_score_)\n",
    "print('Best params: ',cat_cv.best_params_)\n",
    "\n",
    "# We will assign a name to the best regressor \n",
    "best_cat = cat_cv.best_estimator_"
   ]
  },
  {
   "cell_type": "markdown",
   "id": "f3a097ac",
   "metadata": {},
   "source": [
    "## 3.2 Scoring - default CatBoost"
   ]
  },
  {
   "cell_type": "markdown",
   "id": "c9da1063",
   "metadata": {},
   "source": [
    "### Setting up scoring functions"
   ]
  },
  {
   "cell_type": "code",
   "execution_count": 16,
   "id": "498212a8",
   "metadata": {},
   "outputs": [],
   "source": [
    "# Takes model and scoring method\n",
    "# Returns CV score\n",
    "def cv(model, scoring):\n",
    "    return np.abs(cross_val_score(model, X, y, scoring=scoring, cv=KFold(5, shuffle=True, random_state=132)).mean())\n",
    "\n",
    "# Predicts then scores specified model and X, y data \n",
    "# Returns MAE and MSE\n",
    "def scorer(model, X, y):\n",
    "    y_pred = model.predict(X)\n",
    "    return model.score(X, y), mean_absolute_error(y_pred, y), mean_squared_error(y_pred, y)\n",
    "\n",
    "# Returns CV score using R2, MAE and MSE\n",
    "def scorer_cv(model):\n",
    "    return cv(model, 'r2'), cv(model, 'neg_mean_absolute_error'), cv(model, 'neg_mean_squared_error')"
   ]
  },
  {
   "cell_type": "markdown",
   "id": "636e2d46",
   "metadata": {},
   "source": [
    "#### The untuned model will be scored to serve as a benchmark"
   ]
  },
  {
   "cell_type": "code",
   "execution_count": 33,
   "id": "1d194003",
   "metadata": {
    "scrolled": true
   },
   "outputs": [],
   "source": [
    "# Scoring on the untuned model\n",
    "cat.fit(X_train, y_train)\n",
    "\n",
    "# Assigning r2, MAE and MSE scores using train, valid and test datasets on default CatBoostRegressor\n",
    "# Also returns CV score metrics using defauly CatBoostRegressor\n",
    "train_cat0_r2, train_cat0_mae, train_cat0_mse = scorer(cat, X_train, y_train)\n",
    "valid_cat0_r2, valid_cat0_mae, valid_cat0_mse = scorer(cat, X_valid, y_valid)\n",
    "test_cat0_r2, test_cat0_mae, test_cat0_mse = scorer(cat, X_test, y_test)\n",
    "entire_cat0_r2, entire_cat0_mae, entire_cat0_mse = scorer_cv(cat)"
   ]
  },
  {
   "cell_type": "markdown",
   "id": "84722e80",
   "metadata": {},
   "source": [
    "## 3.3 Scoring on tuned CatBoost"
   ]
  },
  {
   "cell_type": "code",
   "execution_count": 37,
   "id": "f404b64e",
   "metadata": {},
   "outputs": [],
   "source": [
    "# Fitting training sets on the optimal CatBoostRegressor model\n",
    "best_cat.fit(X_train, y_train)\n",
    "\n",
    "# Getting score metrics on train set using scorer function\n",
    "train_cat_r2, train_cat_mae, train_cat_mse = scorer(best_cat, X_train, y_train)"
   ]
  },
  {
   "cell_type": "code",
   "execution_count": 38,
   "id": "01a5e6ab",
   "metadata": {},
   "outputs": [],
   "source": [
    "# Getting score metrics on test set using scorer function\n",
    "test_cat_r2, test_cat_mae, test_cat_mse = scorer(best_cat, X_test, y_test)"
   ]
  },
  {
   "cell_type": "code",
   "execution_count": 39,
   "id": "afba7468",
   "metadata": {
    "scrolled": true
   },
   "outputs": [],
   "source": [
    "# Getting score metrics on validation set using scorer function\n",
    "valid_cat_r2, valid_cat_mae, valid_cat_mse = scorer(best_cat, X_valid, y_valid)"
   ]
  },
  {
   "cell_type": "code",
   "execution_count": 40,
   "id": "b3dcd768",
   "metadata": {},
   "outputs": [],
   "source": [
    "# Getting score metrics using CV on entire datase using scorer function\n",
    "entire_cat_r2, entire_cat_mae, entire_cat_mse = scorer_cv(best_cat)"
   ]
  },
  {
   "cell_type": "markdown",
   "id": "76dc7ef5",
   "metadata": {},
   "source": [
    "## 3.3 CatBoost Results"
   ]
  },
  {
   "cell_type": "code",
   "execution_count": 41,
   "id": "dc43fff1",
   "metadata": {
    "scrolled": false
   },
   "outputs": [
    {
     "data": {
      "text/html": [
       "<div>\n",
       "<style scoped>\n",
       "    .dataframe tbody tr th:only-of-type {\n",
       "        vertical-align: middle;\n",
       "    }\n",
       "\n",
       "    .dataframe tbody tr th {\n",
       "        vertical-align: top;\n",
       "    }\n",
       "\n",
       "    .dataframe thead th {\n",
       "        text-align: right;\n",
       "    }\n",
       "</style>\n",
       "<table border=\"1\" class=\"dataframe\">\n",
       "  <thead>\n",
       "    <tr style=\"text-align: right;\">\n",
       "      <th></th>\n",
       "      <th></th>\n",
       "      <th>Untuned CatBoost</th>\n",
       "      <th>CatBoost</th>\n",
       "    </tr>\n",
       "  </thead>\n",
       "  <tbody>\n",
       "    <tr>\n",
       "      <th rowspan=\"3\" valign=\"top\">Train</th>\n",
       "      <th>R2</th>\n",
       "      <td>0.998044</td>\n",
       "      <td>0.999429</td>\n",
       "    </tr>\n",
       "    <tr>\n",
       "      <th>MAE</th>\n",
       "      <td>4.381501</td>\n",
       "      <td>2.509424</td>\n",
       "    </tr>\n",
       "    <tr>\n",
       "      <th>MSE</th>\n",
       "      <td>34.055890</td>\n",
       "      <td>9.948996</td>\n",
       "    </tr>\n",
       "    <tr>\n",
       "      <th rowspan=\"3\" valign=\"top\">Valid</th>\n",
       "      <th>R2</th>\n",
       "      <td>0.983944</td>\n",
       "      <td>0.982376</td>\n",
       "    </tr>\n",
       "    <tr>\n",
       "      <th>MAE</th>\n",
       "      <td>12.452790</td>\n",
       "      <td>13.496551</td>\n",
       "    </tr>\n",
       "    <tr>\n",
       "      <th>MSE</th>\n",
       "      <td>311.425003</td>\n",
       "      <td>341.836147</td>\n",
       "    </tr>\n",
       "    <tr>\n",
       "      <th rowspan=\"3\" valign=\"top\">Test</th>\n",
       "      <th>R2</th>\n",
       "      <td>0.927087</td>\n",
       "      <td>0.923388</td>\n",
       "    </tr>\n",
       "    <tr>\n",
       "      <th>MAE</th>\n",
       "      <td>16.969241</td>\n",
       "      <td>17.255153</td>\n",
       "    </tr>\n",
       "    <tr>\n",
       "      <th>MSE</th>\n",
       "      <td>1303.243063</td>\n",
       "      <td>1369.360729</td>\n",
       "    </tr>\n",
       "    <tr>\n",
       "      <th rowspan=\"3\" valign=\"top\">CV entire</th>\n",
       "      <th>R2</th>\n",
       "      <td>0.956715</td>\n",
       "      <td>0.955564</td>\n",
       "    </tr>\n",
       "    <tr>\n",
       "      <th>MAE</th>\n",
       "      <td>14.185969</td>\n",
       "      <td>14.636312</td>\n",
       "    </tr>\n",
       "    <tr>\n",
       "      <th>MSE</th>\n",
       "      <td>762.429021</td>\n",
       "      <td>784.740332</td>\n",
       "    </tr>\n",
       "  </tbody>\n",
       "</table>\n",
       "</div>"
      ],
      "text/plain": [
       "               Untuned CatBoost     CatBoost\n",
       "Train     R2           0.998044     0.999429\n",
       "          MAE          4.381501     2.509424\n",
       "          MSE         34.055890     9.948996\n",
       "Valid     R2           0.983944     0.982376\n",
       "          MAE         12.452790    13.496551\n",
       "          MSE        311.425003   341.836147\n",
       "Test      R2           0.927087     0.923388\n",
       "          MAE         16.969241    17.255153\n",
       "          MSE       1303.243063  1369.360729\n",
       "CV entire R2           0.956715     0.955564\n",
       "          MAE         14.185969    14.636312\n",
       "          MSE        762.429021   784.740332"
      ]
     },
     "execution_count": 41,
     "metadata": {},
     "output_type": "execute_result"
    }
   ],
   "source": [
    "# Creating a DataFrame to house metrics collected above\n",
    "index = [['Train', 'Train', 'Train', 'Valid', 'Valid', 'Valid', 'Test', 'Test', 'Test', 'CV entire', 'CV entire',\\\n",
    "          'CV entire'],\n",
    "         ['R2', 'MAE', 'MSE', 'R2', 'MAE', 'MSE', 'R2', 'MAE', 'MSE', 'R2', 'MAE', 'MSE']]\n",
    "\n",
    "# Creating dictionary with metrics for Untuned and optimal CatBoost\n",
    "data = {'Untuned CatBoost':[train_cat0_r2, train_cat0_mae, train_cat0_mse, valid_cat0_r2, valid_cat0_mae, \\\n",
    "                           valid_cat0_mse, test_cat0_r2, test_cat0_mae, test_cat0_mse, entire_cat0_r2, \\\n",
    "                            entire_cat0_mae, entire_cat0_mse],\n",
    "       'CatBoost': [train_cat_r2, train_cat_mae, train_cat_mse, valid_cat_r2, valid_cat_mae, \\\n",
    "                           valid_cat_mse, test_cat_r2, test_cat_mae, test_cat_mse, entire_cat_r2, \\\n",
    "                            entire_cat_mae, entire_cat_mse]}\n",
    "catboost_df = pd.DataFrame(data, index=index)\n",
    "\n",
    "catboost_df"
   ]
  },
  {
   "cell_type": "markdown",
   "id": "8b4c06e0",
   "metadata": {},
   "source": [
    "#### Since the tuned regressor is performing poorly compared to the default model, the default model will be chosen"
   ]
  },
  {
   "cell_type": "markdown",
   "id": "47ed31dd",
   "metadata": {},
   "source": [
    "\n",
    "# 4.0 Light Gradient Boosting Machine"
   ]
  },
  {
   "cell_type": "markdown",
   "id": "08c023a7",
   "metadata": {},
   "source": [
    "## 4.1 Hyperparameter tuning - LGBM"
   ]
  },
  {
   "cell_type": "code",
   "execution_count": 14,
   "id": "4629c0df",
   "metadata": {
    "scrolled": true
   },
   "outputs": [
    {
     "name": "stdout",
     "output_type": "stream",
     "text": [
      "CV score - LGBM:  0.9566370645451399\n",
      "Best params:  {'learning_rate': 0.3, 'max_depth': 4, 'n_estimators': 100, 'num_leaves': 8}\n"
     ]
    }
   ],
   "source": [
    "# Finding an optimal LGBM\n",
    "# Setting parameters for GridSearch\n",
    "params = {'num_leaves':[2,3,4,6,8,10,15,20,30], 'max_depth':[-1,2,3,4,5,10,15,20], \\\n",
    "          'n_estimators':[10,20,50,100,150,200,300,500], 'learning_rate':[0.001, 0.05, 0.1, 0.2, 0.3, 0.4, 0.5]}\n",
    "\n",
    "# Creating GridSearch object\n",
    "lgbm_cv = GridSearchCV(lgbm, params)\n",
    "\n",
    "# Fitting\n",
    "lgbm_cv.fit(X_train, y_train)\n",
    "\n",
    "# Fitting and scoring using CV\n",
    "print('CV score - LGBM: ', lgbm_cv.best_score_)\n",
    "print('Best params: ', lgbm_cv.best_params_)\n",
    "\n",
    "best_lgbm = lgbm_cv.best_estimator_"
   ]
  },
  {
   "cell_type": "markdown",
   "id": "65843af8",
   "metadata": {},
   "source": [
    "## 4.2 Scoring - untuned LGBM"
   ]
  },
  {
   "cell_type": "code",
   "execution_count": 17,
   "id": "bc522cf5",
   "metadata": {
    "scrolled": true
   },
   "outputs": [],
   "source": [
    "# Scoring on the untuned model\n",
    "lgbm.fit(X_train, y_train)\n",
    "\n",
    "# Assigning r2, MAE and MSE scores using train, valid and test datasets on default LGBM\n",
    "# Also returns CV score metrics using default LGBM\n",
    "train_lgbm0_r2, train_lgbm0_mae, train_lgbm0_mse = scorer(lgbm, X_train, y_train)\n",
    "valid_lgbm0_r2, valid_lgbm0_mae, valid_lgbm0_mse = scorer(lgbm, X_valid, y_valid)\n",
    "test_lgbm0_r2, test_lgbm0_mae, test_lgbm0_mse = scorer(lgbm, X_test, y_test)\n",
    "entire_lgbm0_r2, entire_lgbm0_mae, entire_lgbm0_mse = scorer_cv(lgbm)"
   ]
  },
  {
   "cell_type": "markdown",
   "id": "03b25f12",
   "metadata": {},
   "source": [
    "## 4.3 Scoring - tuned LGBM"
   ]
  },
  {
   "cell_type": "code",
   "execution_count": 18,
   "id": "6a0ecb31",
   "metadata": {},
   "outputs": [],
   "source": [
    "# Fitting training sets on the optimal LGBM model\n",
    "best_lgbm.fit(X_train, y_train)\n",
    "\n",
    "train_lgbm_r2, train_lgbm_mae, train_lgbm_mse = scorer(best_lgbm, X_train, y_train)"
   ]
  },
  {
   "cell_type": "code",
   "execution_count": 19,
   "id": "4b2332d7",
   "metadata": {},
   "outputs": [],
   "source": [
    "# Getting score metrics on test set using scorer function\n",
    "test_lgbm_r2, test_lgbm_mae, test_lgbm_mse = scorer(best_lgbm, X_test, y_test)"
   ]
  },
  {
   "cell_type": "code",
   "execution_count": 20,
   "id": "4d911cbf",
   "metadata": {},
   "outputs": [],
   "source": [
    "# Getting score metrics on valid set using scorer function\n",
    "valid_lgbm_r2, valid_lgbm_mae, valid_lgbm_mse = scorer(best_lgbm, X_valid, y_valid)"
   ]
  },
  {
   "cell_type": "code",
   "execution_count": 21,
   "id": "03e8d14f",
   "metadata": {
    "scrolled": true
   },
   "outputs": [],
   "source": [
    "# Getting score metrics using CV on entire datase using scorer function\n",
    "entire_lgbm_r2, entire_lgbm_mae, entire_lgbm_mse = scorer_cv(best_lgbm)"
   ]
  },
  {
   "cell_type": "code",
   "execution_count": 23,
   "id": "684eedf3",
   "metadata": {},
   "outputs": [],
   "source": [
    "index = [['Train', 'Train', 'Train', 'Valid', 'Valid', 'Valid', 'Test', 'Test', 'Test', 'CV entire', 'CV entire',\\\n",
    "          'CV entire'],\n",
    "         ['R2', 'MAE', 'MSE', 'R2', 'MAE', 'MSE', 'R2', 'MAE', 'MSE', 'R2', 'MAE', 'MSE']]"
   ]
  },
  {
   "cell_type": "markdown",
   "id": "9fb55234",
   "metadata": {},
   "source": [
    "## 4.3 LGBM Results"
   ]
  },
  {
   "cell_type": "code",
   "execution_count": 24,
   "id": "1cdfdc65",
   "metadata": {
    "scrolled": true
   },
   "outputs": [
    {
     "data": {
      "text/html": [
       "<div>\n",
       "<style scoped>\n",
       "    .dataframe tbody tr th:only-of-type {\n",
       "        vertical-align: middle;\n",
       "    }\n",
       "\n",
       "    .dataframe tbody tr th {\n",
       "        vertical-align: top;\n",
       "    }\n",
       "\n",
       "    .dataframe thead th {\n",
       "        text-align: right;\n",
       "    }\n",
       "</style>\n",
       "<table border=\"1\" class=\"dataframe\">\n",
       "  <thead>\n",
       "    <tr style=\"text-align: right;\">\n",
       "      <th></th>\n",
       "      <th></th>\n",
       "      <th>Untuned LGBM</th>\n",
       "      <th>LGBM</th>\n",
       "    </tr>\n",
       "  </thead>\n",
       "  <tbody>\n",
       "    <tr>\n",
       "      <th rowspan=\"3\" valign=\"top\">Train</th>\n",
       "      <th>R2</th>\n",
       "      <td>0.984709</td>\n",
       "      <td>0.988166</td>\n",
       "    </tr>\n",
       "    <tr>\n",
       "      <th>MAE</th>\n",
       "      <td>8.633846</td>\n",
       "      <td>8.457923</td>\n",
       "    </tr>\n",
       "    <tr>\n",
       "      <th>MSE</th>\n",
       "      <td>266.223392</td>\n",
       "      <td>206.045577</td>\n",
       "    </tr>\n",
       "    <tr>\n",
       "      <th rowspan=\"3\" valign=\"top\">Valid</th>\n",
       "      <th>R2</th>\n",
       "      <td>0.982793</td>\n",
       "      <td>0.984886</td>\n",
       "    </tr>\n",
       "    <tr>\n",
       "      <th>MAE</th>\n",
       "      <td>13.783181</td>\n",
       "      <td>13.106688</td>\n",
       "    </tr>\n",
       "    <tr>\n",
       "      <th>MSE</th>\n",
       "      <td>333.740443</td>\n",
       "      <td>293.156436</td>\n",
       "    </tr>\n",
       "    <tr>\n",
       "      <th rowspan=\"3\" valign=\"top\">Test</th>\n",
       "      <th>R2</th>\n",
       "      <td>0.919589</td>\n",
       "      <td>0.920844</td>\n",
       "    </tr>\n",
       "    <tr>\n",
       "      <th>MAE</th>\n",
       "      <td>16.959305</td>\n",
       "      <td>18.451850</td>\n",
       "    </tr>\n",
       "    <tr>\n",
       "      <th>MSE</th>\n",
       "      <td>1437.257607</td>\n",
       "      <td>1414.834575</td>\n",
       "    </tr>\n",
       "    <tr>\n",
       "      <th rowspan=\"3\" valign=\"top\">CV entire</th>\n",
       "      <th>R2</th>\n",
       "      <td>0.956656</td>\n",
       "      <td>0.953459</td>\n",
       "    </tr>\n",
       "    <tr>\n",
       "      <th>MAE</th>\n",
       "      <td>14.964037</td>\n",
       "      <td>15.970620</td>\n",
       "    </tr>\n",
       "    <tr>\n",
       "      <th>MSE</th>\n",
       "      <td>767.336223</td>\n",
       "      <td>823.500995</td>\n",
       "    </tr>\n",
       "  </tbody>\n",
       "</table>\n",
       "</div>"
      ],
      "text/plain": [
       "               Untuned LGBM         LGBM\n",
       "Train     R2       0.984709     0.988166\n",
       "          MAE      8.633846     8.457923\n",
       "          MSE    266.223392   206.045577\n",
       "Valid     R2       0.982793     0.984886\n",
       "          MAE     13.783181    13.106688\n",
       "          MSE    333.740443   293.156436\n",
       "Test      R2       0.919589     0.920844\n",
       "          MAE     16.959305    18.451850\n",
       "          MSE   1437.257607  1414.834575\n",
       "CV entire R2       0.956656     0.953459\n",
       "          MAE     14.964037    15.970620\n",
       "          MSE    767.336223   823.500995"
      ]
     },
     "execution_count": 24,
     "metadata": {},
     "output_type": "execute_result"
    }
   ],
   "source": [
    "# Creating dictionary with metrics for Untuned and optimal LGBM\n",
    "\n",
    "data = {'Untuned LGBM':[train_lgbm0_r2, train_lgbm0_mae, train_lgbm0_mse, valid_lgbm0_r2, valid_lgbm0_mae, \\\n",
    "                           valid_lgbm0_mse, test_lgbm0_r2, test_lgbm0_mae, test_lgbm0_mse, entire_lgbm0_r2, \\\n",
    "                            entire_lgbm0_mae, entire_lgbm0_mse],\n",
    "       'LGBM': [train_lgbm_r2, train_lgbm_mae, train_lgbm_mse, valid_lgbm_r2, valid_lgbm_mae, \\\n",
    "                           valid_lgbm_mse, test_lgbm_r2, test_lgbm_mae, test_lgbm_mse, entire_lgbm_r2, \\\n",
    "                            entire_lgbm_mae, entire_lgbm_mse]}\n",
    "lgbm_df = pd.DataFrame(data, index=index)\n",
    "\n",
    "lgbm_df"
   ]
  },
  {
   "cell_type": "markdown",
   "id": "8b17b7e1",
   "metadata": {},
   "source": [
    "#### The tuned regressor will be chosen"
   ]
  },
  {
   "cell_type": "markdown",
   "id": "92f3bda8",
   "metadata": {},
   "source": [
    "# 5.0 Extra Trees Regressor"
   ]
  },
  {
   "cell_type": "markdown",
   "id": "891c6c3c",
   "metadata": {},
   "source": [
    "## 5.1 Hyperparameter tuning - ExtraTrees"
   ]
  },
  {
   "cell_type": "code",
   "execution_count": 25,
   "id": "7bac5f97",
   "metadata": {},
   "outputs": [
    {
     "name": "stdout",
     "output_type": "stream",
     "text": [
      "CV score - Extra Trees Regressor:  0.93658598188161\n",
      "Best params:  {'n_estimators': 10, 'min_samples_split': 2, 'min_samples_leaf': 2, 'max_depth': 50}\n"
     ]
    }
   ],
   "source": [
    "# Finding an optimal CatBoostRegressor\n",
    "# Setting parameters for GridSearch\n",
    "params = {'n_estimators':[10,20,30,40,50,100], 'max_depth':[5,10,15,20,30,50], 'min_samples_split':[1,2,3,4,5,10],\\\n",
    "         'min_samples_leaf':[1,2,3,4,5,10]}\n",
    "\n",
    "# Creating GridSearch object\n",
    "xt_cv = RandomizedSearchCV(xt, params)\n",
    "\n",
    "# Fitting and scoring using CV\n",
    "xt_cv.fit(X_train, y_train)\n",
    "print('CV score - Extra Trees Regressor: ', xt_cv.best_score_)\n",
    "print('Best params: ', xt_cv.best_params_)\n",
    "\n",
    "# Assigning variable to best regressor \n",
    "best_xt = xt_cv.best_estimator_"
   ]
  },
  {
   "cell_type": "markdown",
   "id": "3cce0944",
   "metadata": {},
   "source": [
    "## 5.2 Scoring - default ExtraTrees"
   ]
  },
  {
   "cell_type": "code",
   "execution_count": 26,
   "id": "4847d4ab",
   "metadata": {},
   "outputs": [],
   "source": [
    "# Scoring untuned model\n",
    "xt.fit(X_train, y_train)\n",
    "\n",
    "# Assigning r2, MAE and MSE scores using train, valid and test datasets on default ExtraTrees\n",
    "# Also returns CV score metrics using default LGBM\n",
    "train_xt0_r2, train_xt0_mae, train_xt0_mse = scorer(xt, X_train, y_train)\n",
    "valid_xt0_r2, valid_xt0_mae, valid_xt0_mse = scorer(xt, X_valid, y_valid)\n",
    "test_xt0_r2, test_xt0_mae, test_xt0_mse = scorer(xt, X_test, y_test)\n",
    "entire_xt0_r2, entire_xt0_mae, entire_xt0_mse = scorer_cv(xt)"
   ]
  },
  {
   "cell_type": "markdown",
   "id": "4b3f8e7b",
   "metadata": {},
   "source": [
    "## 5.3 Scoring - tuned ExtraTrees"
   ]
  },
  {
   "cell_type": "code",
   "execution_count": 27,
   "id": "52a551b2",
   "metadata": {},
   "outputs": [],
   "source": [
    "# Fitting best ExtraTrees on training data\n",
    "best_xt.fit(X_train, y_train)\n",
    "\n",
    "# Getting r2, MAE and MSE from predicting on training set\n",
    "train_xt_r2, train_xt_mae, train_xt_mse = scorer(best_xt, X_train, y_train)"
   ]
  },
  {
   "cell_type": "code",
   "execution_count": 28,
   "id": "8ced8f8c",
   "metadata": {},
   "outputs": [],
   "source": [
    "# Getting r2, MAE and MSE from predicting on test set\n",
    "test_xt_r2, test_xt_mae, test_xt_mse = scorer(best_xt, X_test, y_test)"
   ]
  },
  {
   "cell_type": "code",
   "execution_count": 29,
   "id": "0c508cbd",
   "metadata": {},
   "outputs": [],
   "source": [
    "# Getting r2, MAE and MSE from predicting on validation set\n",
    "valid_xt_r2, valid_xt_mae, valid_xt_mse = scorer(best_xt, X_valid, y_valid)"
   ]
  },
  {
   "cell_type": "code",
   "execution_count": 30,
   "id": "d4076221",
   "metadata": {},
   "outputs": [],
   "source": [
    "# Getting r2, MAE and MSE from predicting on CV of entire set\n",
    "entire_xt_r2, entire_xt_mae, entire_xt_mse = scorer_cv(best_xt)"
   ]
  },
  {
   "cell_type": "markdown",
   "id": "941be278",
   "metadata": {},
   "source": [
    "## 5.4 ExtraTrees Results"
   ]
  },
  {
   "cell_type": "code",
   "execution_count": 31,
   "id": "7ef9afe2",
   "metadata": {},
   "outputs": [
    {
     "data": {
      "text/html": [
       "<div>\n",
       "<style scoped>\n",
       "    .dataframe tbody tr th:only-of-type {\n",
       "        vertical-align: middle;\n",
       "    }\n",
       "\n",
       "    .dataframe tbody tr th {\n",
       "        vertical-align: top;\n",
       "    }\n",
       "\n",
       "    .dataframe thead th {\n",
       "        text-align: right;\n",
       "    }\n",
       "</style>\n",
       "<table border=\"1\" class=\"dataframe\">\n",
       "  <thead>\n",
       "    <tr style=\"text-align: right;\">\n",
       "      <th></th>\n",
       "      <th></th>\n",
       "      <th>Untuned ExtraTrees</th>\n",
       "      <th>ExtraTrees</th>\n",
       "    </tr>\n",
       "  </thead>\n",
       "  <tbody>\n",
       "    <tr>\n",
       "      <th rowspan=\"3\" valign=\"top\">Train</th>\n",
       "      <th>R2</th>\n",
       "      <td>1.000000</td>\n",
       "      <td>0.986647</td>\n",
       "    </tr>\n",
       "    <tr>\n",
       "      <th>MAE</th>\n",
       "      <td>0.000000</td>\n",
       "      <td>7.848477</td>\n",
       "    </tr>\n",
       "    <tr>\n",
       "      <th>MSE</th>\n",
       "      <td>0.000000</td>\n",
       "      <td>232.490730</td>\n",
       "    </tr>\n",
       "    <tr>\n",
       "      <th rowspan=\"3\" valign=\"top\">Valid</th>\n",
       "      <th>R2</th>\n",
       "      <td>0.982518</td>\n",
       "      <td>0.982185</td>\n",
       "    </tr>\n",
       "    <tr>\n",
       "      <th>MAE</th>\n",
       "      <td>15.066129</td>\n",
       "      <td>14.395180</td>\n",
       "    </tr>\n",
       "    <tr>\n",
       "      <th>MSE</th>\n",
       "      <td>339.085687</td>\n",
       "      <td>345.528359</td>\n",
       "    </tr>\n",
       "    <tr>\n",
       "      <th rowspan=\"3\" valign=\"top\">Test</th>\n",
       "      <th>R2</th>\n",
       "      <td>0.916665</td>\n",
       "      <td>0.918335</td>\n",
       "    </tr>\n",
       "    <tr>\n",
       "      <th>MAE</th>\n",
       "      <td>19.181290</td>\n",
       "      <td>19.775359</td>\n",
       "    </tr>\n",
       "    <tr>\n",
       "      <th>MSE</th>\n",
       "      <td>1489.526024</td>\n",
       "      <td>1459.678204</td>\n",
       "    </tr>\n",
       "    <tr>\n",
       "      <th rowspan=\"3\" valign=\"top\">CV entire</th>\n",
       "      <th>R2</th>\n",
       "      <td>0.949130</td>\n",
       "      <td>0.945194</td>\n",
       "    </tr>\n",
       "    <tr>\n",
       "      <th>MAE</th>\n",
       "      <td>16.578632</td>\n",
       "      <td>18.417266</td>\n",
       "    </tr>\n",
       "    <tr>\n",
       "      <th>MSE</th>\n",
       "      <td>902.902177</td>\n",
       "      <td>970.964947</td>\n",
       "    </tr>\n",
       "  </tbody>\n",
       "</table>\n",
       "</div>"
      ],
      "text/plain": [
       "               Untuned ExtraTrees   ExtraTrees\n",
       "Train     R2             1.000000     0.986647\n",
       "          MAE            0.000000     7.848477\n",
       "          MSE            0.000000   232.490730\n",
       "Valid     R2             0.982518     0.982185\n",
       "          MAE           15.066129    14.395180\n",
       "          MSE          339.085687   345.528359\n",
       "Test      R2             0.916665     0.918335\n",
       "          MAE           19.181290    19.775359\n",
       "          MSE         1489.526024  1459.678204\n",
       "CV entire R2             0.949130     0.945194\n",
       "          MAE           16.578632    18.417266\n",
       "          MSE          902.902177   970.964947"
      ]
     },
     "execution_count": 31,
     "metadata": {},
     "output_type": "execute_result"
    }
   ],
   "source": [
    "# Assigning r2, MAE and MSE scores using train, valid and test datasets on default ExtraTrees\n",
    "# Also returns CV score metrics using default ExtraTrees\n",
    "\n",
    "data = {'Untuned ExtraTrees':[train_xt0_r2, train_xt0_mae, train_xt0_mse, valid_xt0_r2, valid_xt0_mae, \\\n",
    "                           valid_xt0_mse, test_xt0_r2, test_xt0_mae, test_xt0_mse, entire_xt0_r2, \\\n",
    "                            entire_xt0_mae, entire_xt0_mse],\n",
    "       'ExtraTrees': [train_xt_r2, train_xt_mae, train_xt_mse, valid_xt_r2, valid_xt_mae, \\\n",
    "                           valid_xt_mse, test_xt_r2, test_xt_mae, test_xt_mse, entire_xt_r2, \\\n",
    "                            entire_xt_mae, entire_xt_mse]}\n",
    "xt_df = pd.DataFrame(data, index=index)\n",
    "\n",
    "xt_df"
   ]
  },
  {
   "cell_type": "markdown",
   "id": "1ece948e",
   "metadata": {},
   "source": [
    "#### The tuned regressor will be chosen"
   ]
  },
  {
   "cell_type": "markdown",
   "id": "9eab2734",
   "metadata": {},
   "source": [
    "# 6.0 Combining results"
   ]
  },
  {
   "cell_type": "code",
   "execution_count": 42,
   "id": "34905f97",
   "metadata": {},
   "outputs": [
    {
     "data": {
      "text/html": [
       "<div>\n",
       "<style scoped>\n",
       "    .dataframe tbody tr th:only-of-type {\n",
       "        vertical-align: middle;\n",
       "    }\n",
       "\n",
       "    .dataframe tbody tr th {\n",
       "        vertical-align: top;\n",
       "    }\n",
       "\n",
       "    .dataframe thead th {\n",
       "        text-align: right;\n",
       "    }\n",
       "</style>\n",
       "<table border=\"1\" class=\"dataframe\">\n",
       "  <thead>\n",
       "    <tr style=\"text-align: right;\">\n",
       "      <th></th>\n",
       "      <th></th>\n",
       "      <th>Untuned CatBoost</th>\n",
       "      <th>CatBoost</th>\n",
       "      <th>Untuned LGBM</th>\n",
       "      <th>LGBM</th>\n",
       "      <th>Untuned ExtraTrees</th>\n",
       "      <th>ExtraTrees</th>\n",
       "    </tr>\n",
       "  </thead>\n",
       "  <tbody>\n",
       "    <tr>\n",
       "      <th rowspan=\"3\" valign=\"top\">Train</th>\n",
       "      <th>R2</th>\n",
       "      <td>0.998044</td>\n",
       "      <td>0.999429</td>\n",
       "      <td>0.984709</td>\n",
       "      <td>0.988166</td>\n",
       "      <td>1.000000</td>\n",
       "      <td>0.986647</td>\n",
       "    </tr>\n",
       "    <tr>\n",
       "      <th>MAE</th>\n",
       "      <td>4.381501</td>\n",
       "      <td>2.509424</td>\n",
       "      <td>8.633846</td>\n",
       "      <td>8.457923</td>\n",
       "      <td>0.000000</td>\n",
       "      <td>7.848477</td>\n",
       "    </tr>\n",
       "    <tr>\n",
       "      <th>MSE</th>\n",
       "      <td>34.055890</td>\n",
       "      <td>9.948996</td>\n",
       "      <td>266.223392</td>\n",
       "      <td>206.045577</td>\n",
       "      <td>0.000000</td>\n",
       "      <td>232.490730</td>\n",
       "    </tr>\n",
       "    <tr>\n",
       "      <th rowspan=\"3\" valign=\"top\">Valid</th>\n",
       "      <th>R2</th>\n",
       "      <td>0.983944</td>\n",
       "      <td>0.982376</td>\n",
       "      <td>0.982793</td>\n",
       "      <td>0.984886</td>\n",
       "      <td>0.982518</td>\n",
       "      <td>0.982185</td>\n",
       "    </tr>\n",
       "    <tr>\n",
       "      <th>MAE</th>\n",
       "      <td>12.452790</td>\n",
       "      <td>13.496551</td>\n",
       "      <td>13.783181</td>\n",
       "      <td>13.106688</td>\n",
       "      <td>15.066129</td>\n",
       "      <td>14.395180</td>\n",
       "    </tr>\n",
       "    <tr>\n",
       "      <th>MSE</th>\n",
       "      <td>311.425003</td>\n",
       "      <td>341.836147</td>\n",
       "      <td>333.740443</td>\n",
       "      <td>293.156436</td>\n",
       "      <td>339.085687</td>\n",
       "      <td>345.528359</td>\n",
       "    </tr>\n",
       "    <tr>\n",
       "      <th rowspan=\"3\" valign=\"top\">Test</th>\n",
       "      <th>R2</th>\n",
       "      <td>0.927087</td>\n",
       "      <td>0.923388</td>\n",
       "      <td>0.919589</td>\n",
       "      <td>0.920844</td>\n",
       "      <td>0.916665</td>\n",
       "      <td>0.918335</td>\n",
       "    </tr>\n",
       "    <tr>\n",
       "      <th>MAE</th>\n",
       "      <td>16.969241</td>\n",
       "      <td>17.255153</td>\n",
       "      <td>16.959305</td>\n",
       "      <td>18.451850</td>\n",
       "      <td>19.181290</td>\n",
       "      <td>19.775359</td>\n",
       "    </tr>\n",
       "    <tr>\n",
       "      <th>MSE</th>\n",
       "      <td>1303.243063</td>\n",
       "      <td>1369.360729</td>\n",
       "      <td>1437.257607</td>\n",
       "      <td>1414.834575</td>\n",
       "      <td>1489.526024</td>\n",
       "      <td>1459.678204</td>\n",
       "    </tr>\n",
       "    <tr>\n",
       "      <th rowspan=\"3\" valign=\"top\">CV entire</th>\n",
       "      <th>R2</th>\n",
       "      <td>0.956715</td>\n",
       "      <td>0.955564</td>\n",
       "      <td>0.956656</td>\n",
       "      <td>0.953459</td>\n",
       "      <td>0.949130</td>\n",
       "      <td>0.945194</td>\n",
       "    </tr>\n",
       "    <tr>\n",
       "      <th>MAE</th>\n",
       "      <td>14.185969</td>\n",
       "      <td>14.636312</td>\n",
       "      <td>14.964037</td>\n",
       "      <td>15.970620</td>\n",
       "      <td>16.578632</td>\n",
       "      <td>18.417266</td>\n",
       "    </tr>\n",
       "    <tr>\n",
       "      <th>MSE</th>\n",
       "      <td>762.429021</td>\n",
       "      <td>784.740332</td>\n",
       "      <td>767.336223</td>\n",
       "      <td>823.500995</td>\n",
       "      <td>902.902177</td>\n",
       "      <td>970.964947</td>\n",
       "    </tr>\n",
       "  </tbody>\n",
       "</table>\n",
       "</div>"
      ],
      "text/plain": [
       "               Untuned CatBoost     CatBoost  Untuned LGBM         LGBM  \\\n",
       "Train     R2           0.998044     0.999429      0.984709     0.988166   \n",
       "          MAE          4.381501     2.509424      8.633846     8.457923   \n",
       "          MSE         34.055890     9.948996    266.223392   206.045577   \n",
       "Valid     R2           0.983944     0.982376      0.982793     0.984886   \n",
       "          MAE         12.452790    13.496551     13.783181    13.106688   \n",
       "          MSE        311.425003   341.836147    333.740443   293.156436   \n",
       "Test      R2           0.927087     0.923388      0.919589     0.920844   \n",
       "          MAE         16.969241    17.255153     16.959305    18.451850   \n",
       "          MSE       1303.243063  1369.360729   1437.257607  1414.834575   \n",
       "CV entire R2           0.956715     0.955564      0.956656     0.953459   \n",
       "          MAE         14.185969    14.636312     14.964037    15.970620   \n",
       "          MSE        762.429021   784.740332    767.336223   823.500995   \n",
       "\n",
       "               Untuned ExtraTrees   ExtraTrees  \n",
       "Train     R2             1.000000     0.986647  \n",
       "          MAE            0.000000     7.848477  \n",
       "          MSE            0.000000   232.490730  \n",
       "Valid     R2             0.982518     0.982185  \n",
       "          MAE           15.066129    14.395180  \n",
       "          MSE          339.085687   345.528359  \n",
       "Test      R2             0.916665     0.918335  \n",
       "          MAE           19.181290    19.775359  \n",
       "          MSE         1489.526024  1459.678204  \n",
       "CV entire R2             0.949130     0.945194  \n",
       "          MAE           16.578632    18.417266  \n",
       "          MSE          902.902177   970.964947  "
      ]
     },
     "execution_count": 42,
     "metadata": {},
     "output_type": "execute_result"
    }
   ],
   "source": [
    "# Combined DataFrame\n",
    "\n",
    "combined = pd.concat([catboost_df, lgbm_df, xt_df], axis=1)\n",
    "combined"
   ]
  },
  {
   "cell_type": "markdown",
   "id": "f9f531c9",
   "metadata": {},
   "source": [
    "# 7.0 Creating Ensemble Model"
   ]
  },
  {
   "cell_type": "markdown",
   "id": "b1d801d2",
   "metadata": {},
   "source": [
    "## 7.1 Finding weights"
   ]
  },
  {
   "cell_type": "code",
   "execution_count": 44,
   "id": "e6a07c75",
   "metadata": {
    "scrolled": true
   },
   "outputs": [],
   "source": [
    "# Weights will be assigned iteratively to each model in a Voting Regressor to discover the most accurate model\n",
    "\n",
    "# Initialize empty lists for CatBoost weights\n",
    "weights1 = []\n",
    "\n",
    "# Initialize empty list for LGBM weights\n",
    "weights2 = []\n",
    "\n",
    "# Initialize empty list for ExtraTrees weights\n",
    "weights3 = []\n",
    "\n",
    "# Empty list for scoring\n",
    "scores = []\n",
    "\n",
    "# All weights range (0.1,0.9)\n",
    "\n",
    "# Looping through CatBoost weights\n",
    "for i in np.arange(0.1,1,0.1):\n",
    "    \n",
    "    # Looping through LGBM weights\n",
    "    for j in np.arange(0.1,1,0.1):\n",
    "        \n",
    "        # Looping through ExtraTrees weights\n",
    "        for k in np.arange(0.1,1,0.1):\n",
    "            \n",
    "            # Initializing VotingRegressor with to be determined weights\n",
    "            vote_reg = VotingRegressor([('cat', cat), ('lgbm', best_lgbm), ('xt', best_xt)], weights = [i,j,k])\n",
    "            # Fitting onto training data\n",
    "            vote_reg.fit(X_train, y_train)\n",
    "            # Getting prediction\n",
    "            y_pred = vote_reg.predict(X_test)\n",
    "            # Getting r2 score\n",
    "            score = mean_absolute_error(y_pred, y_test)\n",
    "            \n",
    "            # Appending scores and weights to respective lists\n",
    "            scores.append(score)\n",
    "            weights1.append(i)\n",
    "            weights2.append(j)\n",
    "            weights3.append(k)"
   ]
  },
  {
   "cell_type": "markdown",
   "id": "0f558560",
   "metadata": {},
   "source": [
    "## 7.2 Consolidating weights to DataFrame"
   ]
  },
  {
   "cell_type": "code",
   "execution_count": 46,
   "id": "098a1bfc",
   "metadata": {
    "scrolled": true
   },
   "outputs": [
    {
     "data": {
      "text/html": [
       "<div>\n",
       "<style scoped>\n",
       "    .dataframe tbody tr th:only-of-type {\n",
       "        vertical-align: middle;\n",
       "    }\n",
       "\n",
       "    .dataframe tbody tr th {\n",
       "        vertical-align: top;\n",
       "    }\n",
       "\n",
       "    .dataframe thead th {\n",
       "        text-align: right;\n",
       "    }\n",
       "</style>\n",
       "<table border=\"1\" class=\"dataframe\">\n",
       "  <thead>\n",
       "    <tr style=\"text-align: right;\">\n",
       "      <th></th>\n",
       "      <th>cat weights</th>\n",
       "      <th>lgbm weights</th>\n",
       "      <th>xt weights</th>\n",
       "      <th>score</th>\n",
       "    </tr>\n",
       "  </thead>\n",
       "  <tbody>\n",
       "    <tr>\n",
       "      <th>567</th>\n",
       "      <td>0.8</td>\n",
       "      <td>0.1</td>\n",
       "      <td>0.1</td>\n",
       "      <td>16.926525</td>\n",
       "    </tr>\n",
       "    <tr>\n",
       "      <th>487</th>\n",
       "      <td>0.7</td>\n",
       "      <td>0.1</td>\n",
       "      <td>0.2</td>\n",
       "      <td>16.965277</td>\n",
       "    </tr>\n",
       "    <tr>\n",
       "      <th>415</th>\n",
       "      <td>0.6</td>\n",
       "      <td>0.2</td>\n",
       "      <td>0.2</td>\n",
       "      <td>16.976680</td>\n",
       "    </tr>\n",
       "    <tr>\n",
       "      <th>423</th>\n",
       "      <td>0.6</td>\n",
       "      <td>0.3</td>\n",
       "      <td>0.1</td>\n",
       "      <td>16.988783</td>\n",
       "    </tr>\n",
       "    <tr>\n",
       "      <th>343</th>\n",
       "      <td>0.5</td>\n",
       "      <td>0.3</td>\n",
       "      <td>0.2</td>\n",
       "      <td>17.017858</td>\n",
       "    </tr>\n",
       "    <tr>\n",
       "      <th>407</th>\n",
       "      <td>0.6</td>\n",
       "      <td>0.1</td>\n",
       "      <td>0.3</td>\n",
       "      <td>17.027598</td>\n",
       "    </tr>\n",
       "    <tr>\n",
       "      <th>335</th>\n",
       "      <td>0.5</td>\n",
       "      <td>0.2</td>\n",
       "      <td>0.3</td>\n",
       "      <td>17.041211</td>\n",
       "    </tr>\n",
       "    <tr>\n",
       "      <th>263</th>\n",
       "      <td>0.4</td>\n",
       "      <td>0.3</td>\n",
       "      <td>0.3</td>\n",
       "      <td>17.072253</td>\n",
       "    </tr>\n",
       "    <tr>\n",
       "      <th>351</th>\n",
       "      <td>0.5</td>\n",
       "      <td>0.4</td>\n",
       "      <td>0.1</td>\n",
       "      <td>17.075398</td>\n",
       "    </tr>\n",
       "    <tr>\n",
       "      <th>271</th>\n",
       "      <td>0.4</td>\n",
       "      <td>0.4</td>\n",
       "      <td>0.2</td>\n",
       "      <td>17.084144</td>\n",
       "    </tr>\n",
       "    <tr>\n",
       "      <th>327</th>\n",
       "      <td>0.5</td>\n",
       "      <td>0.1</td>\n",
       "      <td>0.4</td>\n",
       "      <td>17.132149</td>\n",
       "    </tr>\n",
       "    <tr>\n",
       "      <th>255</th>\n",
       "      <td>0.4</td>\n",
       "      <td>0.2</td>\n",
       "      <td>0.4</td>\n",
       "      <td>17.133435</td>\n",
       "    </tr>\n",
       "    <tr>\n",
       "      <th>191</th>\n",
       "      <td>0.3</td>\n",
       "      <td>0.4</td>\n",
       "      <td>0.3</td>\n",
       "      <td>17.145249</td>\n",
       "    </tr>\n",
       "    <tr>\n",
       "      <th>183</th>\n",
       "      <td>0.3</td>\n",
       "      <td>0.3</td>\n",
       "      <td>0.4</td>\n",
       "      <td>17.164906</td>\n",
       "    </tr>\n",
       "    <tr>\n",
       "      <th>199</th>\n",
       "      <td>0.3</td>\n",
       "      <td>0.5</td>\n",
       "      <td>0.2</td>\n",
       "      <td>17.195526</td>\n",
       "    </tr>\n",
       "    <tr>\n",
       "      <th>279</th>\n",
       "      <td>0.4</td>\n",
       "      <td>0.5</td>\n",
       "      <td>0.1</td>\n",
       "      <td>17.210203</td>\n",
       "    </tr>\n",
       "    <tr>\n",
       "      <th>111</th>\n",
       "      <td>0.2</td>\n",
       "      <td>0.4</td>\n",
       "      <td>0.4</td>\n",
       "      <td>17.244140</td>\n",
       "    </tr>\n",
       "    <tr>\n",
       "      <th>119</th>\n",
       "      <td>0.2</td>\n",
       "      <td>0.5</td>\n",
       "      <td>0.3</td>\n",
       "      <td>17.260653</td>\n",
       "    </tr>\n",
       "    <tr>\n",
       "      <th>39</th>\n",
       "      <td>0.1</td>\n",
       "      <td>0.5</td>\n",
       "      <td>0.4</td>\n",
       "      <td>17.332824</td>\n",
       "    </tr>\n",
       "    <tr>\n",
       "      <th>127</th>\n",
       "      <td>0.2</td>\n",
       "      <td>0.6</td>\n",
       "      <td>0.2</td>\n",
       "      <td>17.350843</td>\n",
       "    </tr>\n",
       "    <tr>\n",
       "      <th>175</th>\n",
       "      <td>0.3</td>\n",
       "      <td>0.2</td>\n",
       "      <td>0.5</td>\n",
       "      <td>17.355690</td>\n",
       "    </tr>\n",
       "    <tr>\n",
       "      <th>247</th>\n",
       "      <td>0.4</td>\n",
       "      <td>0.1</td>\n",
       "      <td>0.5</td>\n",
       "      <td>17.360891</td>\n",
       "    </tr>\n",
       "    <tr>\n",
       "      <th>47</th>\n",
       "      <td>0.1</td>\n",
       "      <td>0.6</td>\n",
       "      <td>0.3</td>\n",
       "      <td>17.382864</td>\n",
       "    </tr>\n",
       "    <tr>\n",
       "      <th>207</th>\n",
       "      <td>0.3</td>\n",
       "      <td>0.6</td>\n",
       "      <td>0.1</td>\n",
       "      <td>17.393823</td>\n",
       "    </tr>\n",
       "    <tr>\n",
       "      <th>103</th>\n",
       "      <td>0.2</td>\n",
       "      <td>0.3</td>\n",
       "      <td>0.5</td>\n",
       "      <td>17.400091</td>\n",
       "    </tr>\n",
       "    <tr>\n",
       "      <th>31</th>\n",
       "      <td>0.1</td>\n",
       "      <td>0.4</td>\n",
       "      <td>0.5</td>\n",
       "      <td>17.455141</td>\n",
       "    </tr>\n",
       "    <tr>\n",
       "      <th>55</th>\n",
       "      <td>0.1</td>\n",
       "      <td>0.7</td>\n",
       "      <td>0.2</td>\n",
       "      <td>17.543084</td>\n",
       "    </tr>\n",
       "    <tr>\n",
       "      <th>95</th>\n",
       "      <td>0.2</td>\n",
       "      <td>0.2</td>\n",
       "      <td>0.6</td>\n",
       "      <td>17.707834</td>\n",
       "    </tr>\n",
       "    <tr>\n",
       "      <th>167</th>\n",
       "      <td>0.3</td>\n",
       "      <td>0.1</td>\n",
       "      <td>0.6</td>\n",
       "      <td>17.714409</td>\n",
       "    </tr>\n",
       "    <tr>\n",
       "      <th>23</th>\n",
       "      <td>0.1</td>\n",
       "      <td>0.3</td>\n",
       "      <td>0.6</td>\n",
       "      <td>17.724446</td>\n",
       "    </tr>\n",
       "    <tr>\n",
       "      <th>63</th>\n",
       "      <td>0.1</td>\n",
       "      <td>0.8</td>\n",
       "      <td>0.1</td>\n",
       "      <td>17.822283</td>\n",
       "    </tr>\n",
       "    <tr>\n",
       "      <th>87</th>\n",
       "      <td>0.2</td>\n",
       "      <td>0.1</td>\n",
       "      <td>0.7</td>\n",
       "      <td>18.118675</td>\n",
       "    </tr>\n",
       "    <tr>\n",
       "      <th>15</th>\n",
       "      <td>0.1</td>\n",
       "      <td>0.2</td>\n",
       "      <td>0.7</td>\n",
       "      <td>18.128182</td>\n",
       "    </tr>\n",
       "    <tr>\n",
       "      <th>7</th>\n",
       "      <td>0.1</td>\n",
       "      <td>0.1</td>\n",
       "      <td>0.8</td>\n",
       "      <td>18.595139</td>\n",
       "    </tr>\n",
       "  </tbody>\n",
       "</table>\n",
       "</div>"
      ],
      "text/plain": [
       "     cat weights  lgbm weights  xt weights      score\n",
       "567          0.8           0.1         0.1  16.926525\n",
       "487          0.7           0.1         0.2  16.965277\n",
       "415          0.6           0.2         0.2  16.976680\n",
       "423          0.6           0.3         0.1  16.988783\n",
       "343          0.5           0.3         0.2  17.017858\n",
       "407          0.6           0.1         0.3  17.027598\n",
       "335          0.5           0.2         0.3  17.041211\n",
       "263          0.4           0.3         0.3  17.072253\n",
       "351          0.5           0.4         0.1  17.075398\n",
       "271          0.4           0.4         0.2  17.084144\n",
       "327          0.5           0.1         0.4  17.132149\n",
       "255          0.4           0.2         0.4  17.133435\n",
       "191          0.3           0.4         0.3  17.145249\n",
       "183          0.3           0.3         0.4  17.164906\n",
       "199          0.3           0.5         0.2  17.195526\n",
       "279          0.4           0.5         0.1  17.210203\n",
       "111          0.2           0.4         0.4  17.244140\n",
       "119          0.2           0.5         0.3  17.260653\n",
       "39           0.1           0.5         0.4  17.332824\n",
       "127          0.2           0.6         0.2  17.350843\n",
       "175          0.3           0.2         0.5  17.355690\n",
       "247          0.4           0.1         0.5  17.360891\n",
       "47           0.1           0.6         0.3  17.382864\n",
       "207          0.3           0.6         0.1  17.393823\n",
       "103          0.2           0.3         0.5  17.400091\n",
       "31           0.1           0.4         0.5  17.455141\n",
       "55           0.1           0.7         0.2  17.543084\n",
       "95           0.2           0.2         0.6  17.707834\n",
       "167          0.3           0.1         0.6  17.714409\n",
       "23           0.1           0.3         0.6  17.724446\n",
       "63           0.1           0.8         0.1  17.822283\n",
       "87           0.2           0.1         0.7  18.118675\n",
       "15           0.1           0.2         0.7  18.128182\n",
       "7            0.1           0.1         0.8  18.595139"
      ]
     },
     "execution_count": 46,
     "metadata": {},
     "output_type": "execute_result"
    }
   ],
   "source": [
    "# Combining weights into a DataFrame\n",
    "scores_df = pd.DataFrame({'cat weights':weights1, 'lgbm weights':weights2, 'xt weights':weights3, 'score':scores})\n",
    "\n",
    "# The sum of the weights must equal 1 so combinations of weights with a sum less than 1 are excluded\n",
    "scores_df = scores_df[scores_df[['cat weights', 'lgbm weights', 'xt weights']].sum(axis=1) == 1]\n",
    "# Sorting scores from highest to lowest\n",
    "scores_df.sort_values(by='score')"
   ]
  },
  {
   "cell_type": "markdown",
   "id": "6d9053e5",
   "metadata": {},
   "source": [
    "## 7.3 Building tuned Ensemble Model"
   ]
  },
  {
   "cell_type": "code",
   "execution_count": 48,
   "id": "248b027b",
   "metadata": {},
   "outputs": [
    {
     "data": {
      "text/plain": [
       "VotingRegressor(estimators=[('cat',\n",
       "                             <catboost.core.CatBoostRegressor object at 0x7fc9b2558460>),\n",
       "                            ('lgbm',\n",
       "                             LGBMRegressor(learning_rate=0.3, max_depth=4,\n",
       "                                           num_leaves=8, random_state=123)),\n",
       "                            ('xt',\n",
       "                             ExtraTreesRegressor(max_depth=50,\n",
       "                                                 min_samples_leaf=2,\n",
       "                                                 n_estimators=10, n_jobs=-1,\n",
       "                                                 random_state=123))],\n",
       "                weights=[0.8, 0.1, 0.1])"
      ]
     },
     "execution_count": 48,
     "metadata": {},
     "output_type": "execute_result"
    }
   ],
   "source": [
    "# The weights [0.7, 0.1, 0.2] are the ones which result in the highest score\n",
    "# Creating Ensemble model with those weights\n",
    "vote_reg = VotingRegressor([ ('cat', cat), ('lgbm', best_lgbm), ('xt', best_xt),], weights = [0.8, 0.1, 0.1])\n",
    "\n",
    "# Fitting to training data\n",
    "vote_reg.fit(X_train, y_train)"
   ]
  },
  {
   "cell_type": "markdown",
   "id": "3de7d538",
   "metadata": {},
   "source": [
    "## 7.4 Scoring - tuned Ensemble Model"
   ]
  },
  {
   "cell_type": "code",
   "execution_count": 49,
   "id": "2ce9abce",
   "metadata": {},
   "outputs": [],
   "source": [
    "# Scoring on the train set\n",
    "vote_reg.fit(X_train, y_train)\n",
    "\n",
    "# r2, MAE and MSE from training set\n",
    "train_vote_reg_r2, train_vote_reg_mae, train_vote_reg_mse = scorer(vote_reg, X_train, y_train)"
   ]
  },
  {
   "cell_type": "code",
   "execution_count": 50,
   "id": "618ac6e9",
   "metadata": {},
   "outputs": [],
   "source": [
    "# r2, MAE and MSE from test set\n",
    "test_vote_reg_r2, test_vote_reg_mae, test_vote_reg_mse = scorer(vote_reg, X_test, y_test)"
   ]
  },
  {
   "cell_type": "code",
   "execution_count": 51,
   "id": "f2cbf774",
   "metadata": {},
   "outputs": [],
   "source": [
    "# r2, MAE and MSE from validation set\n",
    "valid_vote_reg_r2, valid_vote_reg_mae, valid_vote_reg_mse = scorer(vote_reg, X_valid, y_valid)"
   ]
  },
  {
   "cell_type": "code",
   "execution_count": 52,
   "id": "a5c5921a",
   "metadata": {},
   "outputs": [],
   "source": [
    "# r2, MAE and MSE from CV of entire set\n",
    "entire_vote_reg_r2, entire_vote_reg_mae, entire_vote_reg_mse = scorer_cv(vote_reg)"
   ]
  },
  {
   "cell_type": "code",
   "execution_count": 53,
   "id": "32c35243",
   "metadata": {},
   "outputs": [
    {
     "data": {
      "text/html": [
       "<div>\n",
       "<style scoped>\n",
       "    .dataframe tbody tr th:only-of-type {\n",
       "        vertical-align: middle;\n",
       "    }\n",
       "\n",
       "    .dataframe tbody tr th {\n",
       "        vertical-align: top;\n",
       "    }\n",
       "\n",
       "    .dataframe thead th {\n",
       "        text-align: right;\n",
       "    }\n",
       "</style>\n",
       "<table border=\"1\" class=\"dataframe\">\n",
       "  <thead>\n",
       "    <tr style=\"text-align: right;\">\n",
       "      <th></th>\n",
       "      <th></th>\n",
       "      <th>VotingRegressor</th>\n",
       "    </tr>\n",
       "  </thead>\n",
       "  <tbody>\n",
       "    <tr>\n",
       "      <th rowspan=\"3\" valign=\"top\">Train</th>\n",
       "      <th>R2</th>\n",
       "      <td>0.997236</td>\n",
       "    </tr>\n",
       "    <tr>\n",
       "      <th>MAE</th>\n",
       "      <td>4.770002</td>\n",
       "    </tr>\n",
       "    <tr>\n",
       "      <th>MSE</th>\n",
       "      <td>48.119869</td>\n",
       "    </tr>\n",
       "    <tr>\n",
       "      <th rowspan=\"3\" valign=\"top\">Valid</th>\n",
       "      <th>R2</th>\n",
       "      <td>0.985467</td>\n",
       "    </tr>\n",
       "    <tr>\n",
       "      <th>MAE</th>\n",
       "      <td>12.143893</td>\n",
       "    </tr>\n",
       "    <tr>\n",
       "      <th>MSE</th>\n",
       "      <td>281.881603</td>\n",
       "    </tr>\n",
       "    <tr>\n",
       "      <th rowspan=\"3\" valign=\"top\">Test</th>\n",
       "      <th>R2</th>\n",
       "      <td>0.927066</td>\n",
       "    </tr>\n",
       "    <tr>\n",
       "      <th>MAE</th>\n",
       "      <td>16.926525</td>\n",
       "    </tr>\n",
       "    <tr>\n",
       "      <th>MSE</th>\n",
       "      <td>1303.629076</td>\n",
       "    </tr>\n",
       "    <tr>\n",
       "      <th rowspan=\"3\" valign=\"top\">CV entire</th>\n",
       "      <th>R2</th>\n",
       "      <td>0.956985</td>\n",
       "    </tr>\n",
       "    <tr>\n",
       "      <th>MAE</th>\n",
       "      <td>14.266548</td>\n",
       "    </tr>\n",
       "    <tr>\n",
       "      <th>MSE</th>\n",
       "      <td>758.760808</td>\n",
       "    </tr>\n",
       "  </tbody>\n",
       "</table>\n",
       "</div>"
      ],
      "text/plain": [
       "               VotingRegressor\n",
       "Train     R2          0.997236\n",
       "          MAE         4.770002\n",
       "          MSE        48.119869\n",
       "Valid     R2          0.985467\n",
       "          MAE        12.143893\n",
       "          MSE       281.881603\n",
       "Test      R2          0.927066\n",
       "          MAE        16.926525\n",
       "          MSE      1303.629076\n",
       "CV entire R2          0.956985\n",
       "          MAE        14.266548\n",
       "          MSE       758.760808"
      ]
     },
     "execution_count": 53,
     "metadata": {},
     "output_type": "execute_result"
    }
   ],
   "source": [
    "# Compiling scores to dictionary\n",
    "data = {'VotingRegressor':[train_vote_reg_r2, train_vote_reg_mae, train_vote_reg_mse,\\\n",
    "                           valid_vote_reg_r2, valid_vote_reg_mae, valid_vote_reg_mse, \\\n",
    "                           test_vote_reg_r2, test_vote_reg_mae, test_vote_reg_mse, \\\n",
    "                           entire_vote_reg_r2, entire_vote_reg_mae, entire_vote_reg_mse]}\n",
    "\n",
    "# Creating DataFrame from dictionary\n",
    "voting_df = pd.DataFrame(data, index=index)\n",
    "voting_df"
   ]
  },
  {
   "cell_type": "markdown",
   "id": "192ad560",
   "metadata": {},
   "source": [
    "# 8.0 Comparing all models"
   ]
  },
  {
   "cell_type": "code",
   "execution_count": 54,
   "id": "d371463b",
   "metadata": {
    "scrolled": true
   },
   "outputs": [
    {
     "data": {
      "text/html": [
       "<div>\n",
       "<style scoped>\n",
       "    .dataframe tbody tr th:only-of-type {\n",
       "        vertical-align: middle;\n",
       "    }\n",
       "\n",
       "    .dataframe tbody tr th {\n",
       "        vertical-align: top;\n",
       "    }\n",
       "\n",
       "    .dataframe thead th {\n",
       "        text-align: right;\n",
       "    }\n",
       "</style>\n",
       "<table border=\"1\" class=\"dataframe\">\n",
       "  <thead>\n",
       "    <tr style=\"text-align: right;\">\n",
       "      <th></th>\n",
       "      <th></th>\n",
       "      <th>Untuned CatBoost</th>\n",
       "      <th>LGBM</th>\n",
       "      <th>ExtraTrees</th>\n",
       "      <th>VotingRegressor</th>\n",
       "    </tr>\n",
       "  </thead>\n",
       "  <tbody>\n",
       "    <tr>\n",
       "      <th rowspan=\"3\" valign=\"top\">Train</th>\n",
       "      <th>R2</th>\n",
       "      <td>0.998044</td>\n",
       "      <td>0.988166</td>\n",
       "      <td>0.986647</td>\n",
       "      <td>0.997236</td>\n",
       "    </tr>\n",
       "    <tr>\n",
       "      <th>MAE</th>\n",
       "      <td>4.381501</td>\n",
       "      <td>8.457923</td>\n",
       "      <td>7.848477</td>\n",
       "      <td>4.770002</td>\n",
       "    </tr>\n",
       "    <tr>\n",
       "      <th>MSE</th>\n",
       "      <td>34.055890</td>\n",
       "      <td>206.045577</td>\n",
       "      <td>232.490730</td>\n",
       "      <td>48.119869</td>\n",
       "    </tr>\n",
       "    <tr>\n",
       "      <th rowspan=\"3\" valign=\"top\">Valid</th>\n",
       "      <th>R2</th>\n",
       "      <td>0.983944</td>\n",
       "      <td>0.984886</td>\n",
       "      <td>0.982185</td>\n",
       "      <td>0.985467</td>\n",
       "    </tr>\n",
       "    <tr>\n",
       "      <th>MAE</th>\n",
       "      <td>12.452790</td>\n",
       "      <td>13.106688</td>\n",
       "      <td>14.395180</td>\n",
       "      <td>12.143893</td>\n",
       "    </tr>\n",
       "    <tr>\n",
       "      <th>MSE</th>\n",
       "      <td>311.425003</td>\n",
       "      <td>293.156436</td>\n",
       "      <td>345.528359</td>\n",
       "      <td>281.881603</td>\n",
       "    </tr>\n",
       "    <tr>\n",
       "      <th rowspan=\"3\" valign=\"top\">Test</th>\n",
       "      <th>R2</th>\n",
       "      <td>0.927087</td>\n",
       "      <td>0.920844</td>\n",
       "      <td>0.918335</td>\n",
       "      <td>0.927066</td>\n",
       "    </tr>\n",
       "    <tr>\n",
       "      <th>MAE</th>\n",
       "      <td>16.969241</td>\n",
       "      <td>18.451850</td>\n",
       "      <td>19.775359</td>\n",
       "      <td>16.926525</td>\n",
       "    </tr>\n",
       "    <tr>\n",
       "      <th>MSE</th>\n",
       "      <td>1303.243063</td>\n",
       "      <td>1414.834575</td>\n",
       "      <td>1459.678204</td>\n",
       "      <td>1303.629076</td>\n",
       "    </tr>\n",
       "    <tr>\n",
       "      <th rowspan=\"3\" valign=\"top\">CV entire</th>\n",
       "      <th>R2</th>\n",
       "      <td>0.956715</td>\n",
       "      <td>0.953459</td>\n",
       "      <td>0.945194</td>\n",
       "      <td>0.956985</td>\n",
       "    </tr>\n",
       "    <tr>\n",
       "      <th>MAE</th>\n",
       "      <td>14.185969</td>\n",
       "      <td>15.970620</td>\n",
       "      <td>18.417266</td>\n",
       "      <td>14.266548</td>\n",
       "    </tr>\n",
       "    <tr>\n",
       "      <th>MSE</th>\n",
       "      <td>762.429021</td>\n",
       "      <td>823.500995</td>\n",
       "      <td>970.964947</td>\n",
       "      <td>758.760808</td>\n",
       "    </tr>\n",
       "  </tbody>\n",
       "</table>\n",
       "</div>"
      ],
      "text/plain": [
       "               Untuned CatBoost         LGBM   ExtraTrees  VotingRegressor\n",
       "Train     R2           0.998044     0.988166     0.986647         0.997236\n",
       "          MAE          4.381501     8.457923     7.848477         4.770002\n",
       "          MSE         34.055890   206.045577   232.490730        48.119869\n",
       "Valid     R2           0.983944     0.984886     0.982185         0.985467\n",
       "          MAE         12.452790    13.106688    14.395180        12.143893\n",
       "          MSE        311.425003   293.156436   345.528359       281.881603\n",
       "Test      R2           0.927087     0.920844     0.918335         0.927066\n",
       "          MAE         16.969241    18.451850    19.775359        16.926525\n",
       "          MSE       1303.243063  1414.834575  1459.678204      1303.629076\n",
       "CV entire R2           0.956715     0.953459     0.945194         0.956985\n",
       "          MAE         14.185969    15.970620    18.417266        14.266548\n",
       "          MSE        762.429021   823.500995   970.964947       758.760808"
      ]
     },
     "execution_count": 54,
     "metadata": {},
     "output_type": "execute_result"
    }
   ],
   "source": [
    "# Combining CatBoost, LGBM and ExtraTrees metrics from respective DataFrames\n",
    "entire_df = pd.concat([catboost_df['Untuned CatBoost'], lgbm_df['LGBM'], xt_df['ExtraTrees'], voting_df], axis=1)\n",
    "\n",
    "entire_df"
   ]
  },
  {
   "cell_type": "markdown",
   "id": "479dfa3f",
   "metadata": {},
   "source": [
    "# 9.0 Saving Ensemble model"
   ]
  },
  {
   "cell_type": "code",
   "execution_count": 319,
   "id": "cc9c1fcb",
   "metadata": {},
   "outputs": [],
   "source": [
    "path = '/Users/chinmayasukumar/Documents/Springboard/Capstone #2/models/Final model'\n",
    "with open(path, \"wb\") as f:\n",
    "    pickle.dump(vote_reg, f)"
   ]
  },
  {
   "cell_type": "code",
   "execution_count": null,
   "id": "9a1ff5de",
   "metadata": {},
   "outputs": [],
   "source": [
    "loaded_vot_reg = "
   ]
  },
  {
   "cell_type": "markdown",
   "id": "b4778726",
   "metadata": {},
   "source": [
    "# 10.0 Evaluation temperature 25˚C"
   ]
  },
  {
   "cell_type": "code",
   "execution_count": null,
   "id": "eacc26c4",
   "metadata": {},
   "outputs": [],
   "source": [
    "# Scoring on temperatures below 50˚C"
   ]
  },
  {
   "cell_type": "code",
   "execution_count": 12,
   "id": "2bfaa14e",
   "metadata": {},
   "outputs": [],
   "source": [
    "# Loading Voting Regressor\n",
    "loaded_vote_reg = pickle.load(open('/Users/chinmayasukumar/Documents/Capstone Projects/Capstone-2_Modelling_streel_strength/models/Final model', 'rb'))"
   ]
  },
  {
   "cell_type": "code",
   "execution_count": 13,
   "id": "d44666a3",
   "metadata": {},
   "outputs": [],
   "source": [
    "# Reinstatiating main path\n",
    "mainpath = '/Users/chinmayasukumar/Documents/Springboard/Capstone #2/data/interim/'"
   ]
  },
  {
   "cell_type": "code",
   "execution_count": 14,
   "id": "f7acac76",
   "metadata": {},
   "outputs": [
    {
     "data": {
      "text/plain": [
       "(618, 15)"
      ]
     },
     "execution_count": 14,
     "metadata": {},
     "output_type": "execute_result"
    }
   ],
   "source": [
    "# Checking shape\n",
    "steel.shape"
   ]
  },
  {
   "cell_type": "code",
   "execution_count": 15,
   "id": "2d608b99",
   "metadata": {},
   "outputs": [
    {
     "data": {
      "text/plain": [
       "temp\n",
       "27     95\n",
       "100    95\n",
       "150     2\n",
       "200    95\n",
       "250     2\n",
       "300    94\n",
       "350    45\n",
       "400    95\n",
       "450    95\n",
       "Name: temp, dtype: int64"
      ]
     },
     "execution_count": 15,
     "metadata": {},
     "output_type": "execute_result"
    }
   ],
   "source": [
    "# Grouping by temperatures\n",
    "steel.groupby(by='temp')['temp'].count()"
   ]
  },
  {
   "cell_type": "code",
   "execution_count": 57,
   "id": "0f958959",
   "metadata": {},
   "outputs": [],
   "source": [
    "# Getting X DataFrame\n",
    "X = np.array(pd.read_csv(mainpath + 'X.csv'))"
   ]
  },
  {
   "cell_type": "code",
   "execution_count": 58,
   "id": "e66ea3b9",
   "metadata": {},
   "outputs": [],
   "source": [
    "# Indexing temperatures under 100˚C\n",
    "steel_ind = steel['temp'] == 27"
   ]
  },
  {
   "cell_type": "code",
   "execution_count": 59,
   "id": "12eca2c7",
   "metadata": {},
   "outputs": [
    {
     "data": {
      "text/plain": [
       "95"
      ]
     },
     "execution_count": 59,
     "metadata": {},
     "output_type": "execute_result"
    }
   ],
   "source": [
    "steel_ind.sum()"
   ]
  },
  {
   "cell_type": "code",
   "execution_count": 60,
   "id": "cb014757",
   "metadata": {},
   "outputs": [],
   "source": [
    "# Subsetting the arrays X ands y with temps < 100˚C\n",
    "X_sub = X[steel_ind]\n",
    "y_sub = y[steel_ind]"
   ]
  },
  {
   "cell_type": "code",
   "execution_count": 61,
   "id": "4a7a0ee7",
   "metadata": {},
   "outputs": [
    {
     "data": {
      "text/plain": [
       "((95, 14), (95,))"
      ]
     },
     "execution_count": 61,
     "metadata": {},
     "output_type": "execute_result"
    }
   ],
   "source": [
    "# Checking shape\n",
    "X_sub.shape, y_sub.shape"
   ]
  },
  {
   "cell_type": "markdown",
   "id": "84a4035d",
   "metadata": {},
   "source": [
    "#### When scoring on temperatures == 27˚C, X_train values must be removed from X_sub to prevent bias"
   ]
  },
  {
   "cell_type": "markdown",
   "id": "124f435e",
   "metadata": {},
   "source": [
    "#### A mask will be created to remove X_train"
   ]
  },
  {
   "cell_type": "code",
   "execution_count": 62,
   "id": "9227d752",
   "metadata": {},
   "outputs": [],
   "source": [
    "mask = list()\n",
    "\n",
    "# Iterating over X_sub\n",
    "for row in X_sub:\n",
    "    \n",
    "    # Boolean if row in X_sub exists anywhere in X_train\n",
    "    row_exists = np.any(np.all(row == X_train, axis=1))\n",
    "    \n",
    "    # Append True or False to mask depending on whether row exists\n",
    "    if row_exists:\n",
    "        mask.append(False)\n",
    "    else:\n",
    "        mask.append(True)"
   ]
  },
  {
   "cell_type": "code",
   "execution_count": 63,
   "id": "55f6f49f",
   "metadata": {},
   "outputs": [],
   "source": [
    "# Subsetting X_sub and y_sub using mask\n",
    "# This excludes training data\n",
    "X_mask = X_sub[mask]\n",
    "y_mask = y_sub[mask]"
   ]
  },
  {
   "cell_type": "code",
   "execution_count": 64,
   "id": "af05fbe1",
   "metadata": {},
   "outputs": [],
   "source": [
    "# Reshaping y_mask\n",
    "y_mask = y_mask.reshape(y_mask.shape[0],)"
   ]
  },
  {
   "cell_type": "code",
   "execution_count": 65,
   "id": "a8270d89",
   "metadata": {},
   "outputs": [
    {
     "data": {
      "text/plain": [
       "((25, 14), (25,))"
      ]
     },
     "execution_count": 65,
     "metadata": {},
     "output_type": "execute_result"
    }
   ],
   "source": [
    "X_mask.shape, y_mask.shape"
   ]
  },
  {
   "cell_type": "code",
   "execution_count": 66,
   "id": "c5bf8ad4",
   "metadata": {},
   "outputs": [],
   "source": [
    "# Function to crossvalidate on X_sub and y_sub\n",
    "def cv_scoring_50(model, scoring): \n",
    "    return np.abs(cross_val_score(model, X_sub, y_sub, scoring=scoring, cv=KFold(5, shuffle=True, random_state=132)).mean())"
   ]
  },
  {
   "cell_type": "code",
   "execution_count": 67,
   "id": "0b516e2f",
   "metadata": {},
   "outputs": [],
   "source": [
    "temp_50_r2_cv, temp_50_mae_cv, temp_50_mse_cv = [cv_scoring_50(vote_reg, scoring) for scoring in \\\n",
    "                                       ['r2','neg_mean_absolute_error','neg_mean_squared_error']]"
   ]
  },
  {
   "cell_type": "code",
   "execution_count": 69,
   "id": "d1a90ba4",
   "metadata": {},
   "outputs": [],
   "source": [
    "temp_50_r2_tv, temp_50_mae_tv, temp_50_mse_tv = scorer(vote_reg, X_mask, y_mask)"
   ]
  },
  {
   "cell_type": "code",
   "execution_count": 70,
   "id": "780679da",
   "metadata": {},
   "outputs": [
    {
     "data": {
      "text/html": [
       "<div>\n",
       "<style scoped>\n",
       "    .dataframe tbody tr th:only-of-type {\n",
       "        vertical-align: middle;\n",
       "    }\n",
       "\n",
       "    .dataframe tbody tr th {\n",
       "        vertical-align: top;\n",
       "    }\n",
       "\n",
       "    .dataframe thead th {\n",
       "        text-align: right;\n",
       "    }\n",
       "</style>\n",
       "<table border=\"1\" class=\"dataframe\">\n",
       "  <thead>\n",
       "    <tr style=\"text-align: right;\">\n",
       "      <th></th>\n",
       "      <th></th>\n",
       "      <th>VotingRegressor &lt; 50</th>\n",
       "    </tr>\n",
       "  </thead>\n",
       "  <tbody>\n",
       "    <tr>\n",
       "      <th rowspan=\"3\" valign=\"top\">Test_Valid</th>\n",
       "      <th>R2</th>\n",
       "      <td>0.958333</td>\n",
       "    </tr>\n",
       "    <tr>\n",
       "      <th>MAE</th>\n",
       "      <td>16.626537</td>\n",
       "    </tr>\n",
       "    <tr>\n",
       "      <th>MSE</th>\n",
       "      <td>897.462237</td>\n",
       "    </tr>\n",
       "    <tr>\n",
       "      <th rowspan=\"3\" valign=\"top\">CV entire</th>\n",
       "      <th>R2</th>\n",
       "      <td>0.906007</td>\n",
       "    </tr>\n",
       "    <tr>\n",
       "      <th>MAE</th>\n",
       "      <td>27.439449</td>\n",
       "    </tr>\n",
       "    <tr>\n",
       "      <th>MSE</th>\n",
       "      <td>1652.750019</td>\n",
       "    </tr>\n",
       "  </tbody>\n",
       "</table>\n",
       "</div>"
      ],
      "text/plain": [
       "                VotingRegressor < 50\n",
       "Test_Valid R2               0.958333\n",
       "           MAE             16.626537\n",
       "           MSE            897.462237\n",
       "CV entire  R2               0.906007\n",
       "           MAE             27.439449\n",
       "           MSE           1652.750019"
      ]
     },
     "execution_count": 70,
     "metadata": {},
     "output_type": "execute_result"
    }
   ],
   "source": [
    "# Creating a DataFrame to house metrics collected above\n",
    "index = [['Test_Valid', 'Test_Valid', 'Test_Valid', 'CV entire', 'CV entire',\\\n",
    "          'CV entire'],\n",
    "         ['R2', 'MAE', 'MSE', 'R2', 'MAE', 'MSE']]\n",
    "\n",
    "# Creating dictionary with metrics for Untuned and optimal CatBoost\n",
    "data = {'VotingRegressor < 50':[temp_50_r2_tv, temp_50_mae_tv, temp_50_mse_tv,\\\n",
    "                                temp_50_r2_cv, temp_50_mae_cv, temp_50_mse_cv]}\n",
    "        \n",
    "temps_50_df = pd.DataFrame(data, index=index)\n",
    "temps_50_df"
   ]
  }
 ],
 "metadata": {
  "kernelspec": {
   "display_name": "Python 3 (ipykernel)",
   "language": "python",
   "name": "python3"
  },
  "language_info": {
   "codemirror_mode": {
    "name": "ipython",
    "version": 3
   },
   "file_extension": ".py",
   "mimetype": "text/x-python",
   "name": "python",
   "nbconvert_exporter": "python",
   "pygments_lexer": "ipython3",
   "version": "3.9.12"
  }
 },
 "nbformat": 4,
 "nbformat_minor": 5
}
