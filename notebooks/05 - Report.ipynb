{
 "cells": [
  {
   "cell_type": "markdown",
   "id": "7ce9579f",
   "metadata": {},
   "source": [
    "# Final Report"
   ]
  },
  {
   "cell_type": "markdown",
   "id": "ef568e95",
   "metadata": {},
   "source": [
    "Steel is one of the most important materials in existence. From bridges to buildings to cars, steel is considered the material of choice due to its cost to strength ratio. In the field of steelmaking, it could be useful to metallurgists to have an estimate for the strength of a grade of steel prior to it being manufactured. In this project, I create a model that estimated the strength of a grade of steel solely based on its constituent elements. "
   ]
  },
  {
   "cell_type": "markdown",
   "id": "e979eebd",
   "metadata": {},
   "source": [
    "## 1.0 Data"
   ]
  },
  {
   "cell_type": "markdown",
   "id": "515bcc4b",
   "metadata": {},
   "source": [
    "Steel chemistry data was collected from the machine learning data repository Kaggle:\n",
    "- [Steel chemistry data](https://www.kaggle.com/datasets/rohannemade/mechanical-properties-of-low-alloy-steels?resource=download)"
   ]
  },
  {
   "cell_type": "markdown",
   "id": "b0559db1",
   "metadata": {},
   "source": [
    "Here is an ![example](https://github.com/chinmayasukumar/Capstone-2_Modelling_streel_strength/blob/main/images/Screen%20Shot%202022-11-19%20at%205.23.08%20PM.png) of the features:"
   ]
  },
  {
   "cell_type": "code",
   "execution_count": null,
   "id": "da409fe4",
   "metadata": {},
   "outputs": [],
   "source": []
  }
 ],
 "metadata": {
  "kernelspec": {
   "display_name": "Python 3 (ipykernel)",
   "language": "python",
   "name": "python3"
  },
  "language_info": {
   "codemirror_mode": {
    "name": "ipython",
    "version": 3
   },
   "file_extension": ".py",
   "mimetype": "text/x-python",
   "name": "python",
   "nbconvert_exporter": "python",
   "pygments_lexer": "ipython3",
   "version": "3.9.12"
  }
 },
 "nbformat": 4,
 "nbformat_minor": 5
}
