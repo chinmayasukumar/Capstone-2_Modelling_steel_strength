{
 "cells": [
  {
   "cell_type": "code",
   "execution_count": 6,
   "id": "6487d637",
   "metadata": {},
   "outputs": [],
   "source": [
    "from collections import defaultdict\n",
    "import re\n",
    "string = \"Fe0.620C0.000953Mn0.000521Si0.00102Cr0.000110Ni0.192Mo0.0176V0.000112Nb0.0000616Co0.146Al0.00318Ti0.0185\""
   ]
  },
  {
   "cell_type": "code",
   "execution_count": 7,
   "id": "e0b31ce8",
   "metadata": {},
   "outputs": [],
   "source": [
    "d = defaultdict(list)"
   ]
  },
  {
   "cell_type": "code",
   "execution_count": 32,
   "id": "fbffd3ac",
   "metadata": {},
   "outputs": [
    {
     "name": "stdout",
     "output_type": "stream",
     "text": [
      "['', '', '0.620', '0.000953', '', '0.000521', '', '0.00102', '', '0.000110', '', '0.192', '', '0.0176', '0.000112', '', '0.0000616', '', '0.146', '', '0.00318', '', '0.0185']\n",
      "['0.620', '0.000953', '0.000521', '0.00102', '0.000110', '0.192', '0.0176', '0.000112', '0.0000616', '0.146', '0.00318', '0.0185']\n"
     ]
    }
   ],
   "source": [
    "x = re.split('[A-z|a-z]', string)\n",
    "print(x)\n",
    "z = [i for i in x if len(i)>1]\n",
    "print(z)"
   ]
  },
  {
   "cell_type": "code",
   "execution_count": 41,
   "id": "1ad075f5",
   "metadata": {},
   "outputs": [
    {
     "name": "stdout",
     "output_type": "stream",
     "text": [
      "['Fe', 'e', 'C', 'Mn', 'n', 'Si', 'i', 'Cr', 'r', 'Ni', 'i', 'Mo', 'o', 'V', 'Nb', 'b', 'Co', 'o', 'Al', 'l', 'Ti', 'i']\n"
     ]
    }
   ],
   "source": [
    "elem = []\n",
    "for i in range(len(string)):\n",
    "    if string[i].isalpha() and string[i+1].isalpha(): \n",
    "        elem.append(string[i] + string[i+1])\n",
    "    elif string[i].isalpha():\n",
    "        elem.append(string[i])\n",
    "\n",
    "print(elem)\n",
    "        "
   ]
  },
  {
   "cell_type": "code",
   "execution_count": 45,
   "id": "0f3192d5",
   "metadata": {},
   "outputs": [
    {
     "name": "stdout",
     "output_type": "stream",
     "text": [
      "['', '', '0', '620', '0', '000953', '', '0', '000521', '', '0', '00102', '', '0', '000110', '', '0', '192', '', '0', '0176', '0', '000112', '', '0', '0000616', '', '0', '146', '', '0', '00318', '', '0', '0185']\n"
     ]
    }
   ],
   "source": [
    "k = re.split('[^0-9$0-9]', string)\n",
    "print(k)"
   ]
  },
  {
   "cell_type": "code",
   "execution_count": null,
   "id": "829a876d",
   "metadata": {},
   "outputs": [],
   "source": []
  }
 ],
 "metadata": {
  "kernelspec": {
   "display_name": "Python 3 (ipykernel)",
   "language": "python",
   "name": "python3"
  },
  "language_info": {
   "codemirror_mode": {
    "name": "ipython",
    "version": 3
   },
   "file_extension": ".py",
   "mimetype": "text/x-python",
   "name": "python",
   "nbconvert_exporter": "python",
   "pygments_lexer": "ipython3",
   "version": "3.9.12"
  }
 },
 "nbformat": 4,
 "nbformat_minor": 5
}
