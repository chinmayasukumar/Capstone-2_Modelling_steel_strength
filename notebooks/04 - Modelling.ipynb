{
 "cells": [
  {
   "cell_type": "markdown",
   "id": "96ad24aa",
   "metadata": {},
   "source": [
    "# Modelling"
   ]
  },
  {
   "cell_type": "markdown",
   "id": "3f782f83",
   "metadata": {},
   "source": [
    "## 1.0 Importing libraries and loading data"
   ]
  },
  {
   "cell_type": "code",
   "execution_count": 80,
   "id": "13a8ca12",
   "metadata": {},
   "outputs": [],
   "source": [
    "import pandas as pd\n",
    "import numpy as np\n",
    "import seaborn as sns\n",
    "import matplotlib.pyplot as plt\n",
    "from sklearn.linear_model import LinearRegression, Lasso\n",
    "from sklearn.ensemble import RandomForestRegressor, GradientBoostingRegressor\n",
    "from sklearn.dummy import DummyRegressor\n",
    "from sklearn.metrics import mean_squared_error\n",
    "from sklearn.model_selection import RandomizedSearchCV, GridSearchCV, cross_val_score\n",
    "import time"
   ]
  },
  {
   "cell_type": "code",
   "execution_count": 2,
   "id": "81fb8d5c",
   "metadata": {},
   "outputs": [],
   "source": [
    "X = pd.read_csv('/Users/chinmayasukumar/Documents/Springboard/Capstone #2/data/interim/X.csv')\n",
    "y = pd.read_csv('/Users/chinmayasukumar/Documents/Springboard/Capstone #2/data/interim/y.csv')\n",
    "X_train = np.array(pd.read_csv('/Users/chinmayasukumar/Documents/Springboard/Capstone #2/data/interim/X_train.csv'))\n",
    "y_train = np.array(pd.read_csv('/Users/chinmayasukumar/Documents/Springboard/Capstone #2/data/interim/y_train.csv'))\n",
    "X_test = np.array(pd.read_csv('/Users/chinmayasukumar/Documents/Springboard/Capstone #2/data/interim/X_test.csv'))\n",
    "y_test = np.array(pd.read_csv('/Users/chinmayasukumar/Documents/Springboard/Capstone #2/data/interim/y_test.csv'))"
   ]
  },
  {
   "cell_type": "code",
   "execution_count": 3,
   "id": "5d259216",
   "metadata": {},
   "outputs": [
    {
     "data": {
      "text/plain": [
       "((639, 14), (639, 1), (275, 14), (275, 1))"
      ]
     },
     "execution_count": 3,
     "metadata": {},
     "output_type": "execute_result"
    }
   ],
   "source": [
    "X_train.shape, y_train.shape, X_test.shape, y_test.shape"
   ]
  },
  {
   "cell_type": "code",
   "execution_count": 4,
   "id": "41ab1004",
   "metadata": {},
   "outputs": [],
   "source": [
    "y_train, y_test = y_train.reshape(y_train.shape[0],), y_test.reshape(y_test.shape[0],)"
   ]
  },
  {
   "cell_type": "code",
   "execution_count": 5,
   "id": "f1b4e48a",
   "metadata": {
    "scrolled": true
   },
   "outputs": [
    {
     "data": {
      "text/plain": [
       "((639,), (275,))"
      ]
     },
     "execution_count": 5,
     "metadata": {},
     "output_type": "execute_result"
    }
   ],
   "source": [
    "y_train.shape, y_test.shape"
   ]
  },
  {
   "cell_type": "code",
   "execution_count": 6,
   "id": "bb00d412",
   "metadata": {},
   "outputs": [],
   "source": [
    "np.random.seed(42)"
   ]
  },
  {
   "cell_type": "markdown",
   "id": "b39ebba6",
   "metadata": {},
   "source": [
    "## 2.0 Selecting a Model"
   ]
  },
  {
   "cell_type": "markdown",
   "id": "cf60a56e",
   "metadata": {},
   "source": [
    "#### Since a benchmark is required, a dummy variable is trained"
   ]
  },
  {
   "cell_type": "markdown",
   "id": "41ee71bd",
   "metadata": {},
   "source": [
    "### 2.1 Dummy Regressor"
   ]
  },
  {
   "cell_type": "code",
   "execution_count": 7,
   "id": "8c61e1fc",
   "metadata": {
    "scrolled": true
   },
   "outputs": [
    {
     "data": {
      "text/plain": [
       "-0.01722274027986135"
      ]
     },
     "execution_count": 7,
     "metadata": {},
     "output_type": "execute_result"
    }
   ],
   "source": [
    "np.mean(cross_val_score(DummyRegressor(), X_train, y_train))"
   ]
  },
  {
   "cell_type": "code",
   "execution_count": 8,
   "id": "30a27551",
   "metadata": {},
   "outputs": [
    {
     "data": {
      "text/plain": [
       "113.21135537972671"
      ]
     },
     "execution_count": 8,
     "metadata": {},
     "output_type": "execute_result"
    }
   ],
   "source": [
    "mae_scores = cross_val_score(DummyRegressor(), X_train, y_train, scoring='neg_mean_absolute_error')\n",
    "np.abs(np.mean(mae_scores))"
   ]
  },
  {
   "cell_type": "markdown",
   "id": "c6d525b7",
   "metadata": {},
   "source": [
    "### 2.2 Linear Regressor"
   ]
  },
  {
   "cell_type": "code",
   "execution_count": 58,
   "id": "feccd386",
   "metadata": {},
   "outputs": [
    {
     "data": {
      "text/plain": [
       "0.7951165830641578"
      ]
     },
     "execution_count": 58,
     "metadata": {},
     "output_type": "execute_result"
    }
   ],
   "source": [
    "scores = cross_val_score(LinearRegression(),X_train, y_train)\n",
    "np.mean(scores)"
   ]
  },
  {
   "cell_type": "code",
   "execution_count": 12,
   "id": "2a53bbb8",
   "metadata": {},
   "outputs": [
    {
     "data": {
      "text/plain": [
       "42.7760975114539"
      ]
     },
     "execution_count": 12,
     "metadata": {},
     "output_type": "execute_result"
    }
   ],
   "source": [
    "mae_scores = cross_val_score(LinearRegression(), X_train, y_train, scoring='neg_mean_absolute_error')\n",
    "np.mean(np.abs(mae_scores))"
   ]
  },
  {
   "cell_type": "markdown",
   "id": "3cb6136d",
   "metadata": {},
   "source": [
    "#### 2.2.0 Model Performance"
   ]
  },
  {
   "cell_type": "code",
   "execution_count": 91,
   "id": "bf2e17b0",
   "metadata": {
    "scrolled": true
   },
   "outputs": [
    {
     "name": "stdout",
     "output_type": "stream",
     "text": [
      "Gradient Boosting Regressor train set performance 0.8103445852247525\n",
      "Gradient Boosting Regressor test set performance 0.8514814004968662\n",
      "Time:  0.008359909057617188\n"
     ]
    }
   ],
   "source": [
    "t0 = time.time()\n",
    "\n",
    "lr = LinearRegression()\n",
    "lr.fit(X_train, y_train)\n",
    "\n",
    "print('Gradient Boosting Regressor train set performance',lr.score(X_train, y_train))\n",
    "print('Gradient Boosting Regressor test set performance',lr.score(X_test, y_test))\n",
    "\n",
    "print('Time: ',time.time() - t0)"
   ]
  },
  {
   "cell_type": "markdown",
   "id": "c430c4af",
   "metadata": {},
   "source": [
    "The model is not over or underfitting since performance is similar in both training and testing sets"
   ]
  },
  {
   "cell_type": "markdown",
   "id": "c6e58c7c",
   "metadata": {},
   "source": [
    "#### 2.2.1 Feature Importance"
   ]
  },
  {
   "cell_type": "code",
   "execution_count": 64,
   "id": "2b54a66e",
   "metadata": {},
   "outputs": [
    {
     "data": {
      "text/plain": [
       "<BarContainer object of 14 artists>"
      ]
     },
     "execution_count": 64,
     "metadata": {},
     "output_type": "execute_result"
    },
    {
     "data": {
      "image/png": "[encoded data removed]",
      "text/plain": [
       "<Figure size 432x288 with 1 Axes>"
      ]
     },
     "metadata": {
      "needs_background": "light"
     },
     "output_type": "display_data"
    }
   ],
   "source": [
    "imp = pd.Series(lr.coef_, index=X.columns).sort_values(ascending=False)\n",
    "plt.bar(imp.index, imp)"
   ]
  },
  {
   "cell_type": "markdown",
   "id": "3c3b7272",
   "metadata": {},
   "source": [
    "As it can be seen, Vanadium and temperature seem to be the values that are the most correlated with the steel strength. Vanadium contributes to strength whereas increases in temperature, understandably reduce strength"
   ]
  },
  {
   "cell_type": "markdown",
   "id": "485db159",
   "metadata": {},
   "source": [
    "### 2.3 Lasso Regressor"
   ]
  },
  {
   "cell_type": "code",
   "execution_count": 52,
   "id": "45be2aa7",
   "metadata": {
    "scrolled": false
   },
   "outputs": [
    {
     "name": "stdout",
     "output_type": "stream",
     "text": [
      "R2:  {'alpha': 0.5} 0.7956069252376017\n",
      "MAE:  {'alpha': 0.2} -42.7724132840526\n"
     ]
    }
   ],
   "source": [
    "lasso = Lasso()\n",
    "lasso_mae = Lasso()\n",
    "\n",
    "params={'alpha':[0.1, 0.2, 0.3, 0.5, 0.7, 0.9, 1.0, 1.5, 2.0, 2.5, 3.0]}\n",
    "\n",
    "lasso_cv, lasso_cv_mae = GridSearchCV(lasso, params, cv=5), GridSearchCV(lasso_mae, params, cv=5, \n",
    "                                                                         scoring='neg_mean_absolute_error')\n",
    "lasso_cv.fit(X_train, y_train)\n",
    "lasso_cv_mae.fit(X_train, y_train)\n",
    "\n",
    "print('R2: ',lasso_cv.best_params_, lasso_cv.best_score_,)\n",
    "print('MAE: ', lasso_cv_mae.best_params_, lasso_cv_mae.best_score_)"
   ]
  },
  {
   "cell_type": "code",
   "execution_count": 53,
   "id": "30f300d5",
   "metadata": {
    "scrolled": true
   },
   "outputs": [
    {
     "data": {
      "image/png": "[encoded data removed]",
      "text/plain": [
       "<Figure size 432x288 with 2 Axes>"
      ]
     },
     "metadata": {
      "needs_background": "light"
     },
     "output_type": "display_data"
    }
   ],
   "source": [
    "alpha = [0.1, 0.2, 0.3, 0.4, 0.5, 0.7, 1.0]\n",
    "scores = []\n",
    "mae_scores = []\n",
    "\n",
    "for i in alpha:\n",
    "    lasso = Lasso(i)\n",
    "    lasso_mae = Lasso(i)\n",
    "    scores.append(np.mean(cross_val_score(lasso,X_train, y_train)))\n",
    "    mae_scores.append((np.mean(cross_val_score(lasso_mae, X_train, y_train, scoring='neg_mean_absolute_error'))))\n",
    "\n",
    "fig, ax = plt.subplots(1,2)\n",
    "\n",
    "ax[0].plot(alpha, scores)\n",
    "ax[0].axvline(0.5)\n",
    "ax[1].plot(alpha, mae_scores)\n",
    "ax[1].axvline(0.2)\n",
    "\n",
    "plt.show()"
   ]
  },
  {
   "cell_type": "markdown",
   "id": "fc9c3c20",
   "metadata": {},
   "source": [
    "#### alpha = 0.5 results in highest accuracy but not by a large margin"
   ]
  },
  {
   "cell_type": "markdown",
   "id": "1d224e91",
   "metadata": {},
   "source": [
    "#### 2.3.0 Model Performance"
   ]
  },
  {
   "cell_type": "code",
   "execution_count": 85,
   "id": "752c7610",
   "metadata": {},
   "outputs": [
    {
     "name": "stdout",
     "output_type": "stream",
     "text": [
      "Gradient Boosting Regressor train set performance 0.8101051594190554\n",
      "Gradient Boosting Regressor test set performance 0.8512405058101677\n",
      "Time:  0.019649028778076172\n"
     ]
    }
   ],
   "source": [
    "t0 = time.time()\n",
    "\n",
    "lasso_model = Lasso(0.5)\n",
    "lasso_model.fit(X_train, y_train)\n",
    "\n",
    "print('Gradient Boosting Regressor train set performance',lasso_model.score(X_train, y_train))\n",
    "print('Gradient Boosting Regressor test set performance',lasso_model.score(X_test, y_test))\n",
    "\n",
    "print('Time: ',time.time() - t0)"
   ]
  },
  {
   "cell_type": "markdown",
   "id": "29a36edb",
   "metadata": {},
   "source": [
    "The model is not over or underfitting since performance is similar in both training and testing sets"
   ]
  },
  {
   "cell_type": "markdown",
   "id": "db15d305",
   "metadata": {},
   "source": [
    "### 2.4 Random Forest Regressor"
   ]
  },
  {
   "cell_type": "markdown",
   "id": "4baeadad",
   "metadata": {},
   "source": [
    "#### This function will be useful in plotting feature importance of the following regressors"
   ]
  },
  {
   "cell_type": "code",
   "execution_count": 17,
   "id": "2f14c4b4",
   "metadata": {},
   "outputs": [],
   "source": [
    "def importance_plotter(model):\n",
    "    plt.subplots(figsize=(10, 5))\n",
    "    imps = model.best_estimator_.feature_importances_\n",
    "    feat_imps = pd.Series(imps, index=X.columns).sort_values(ascending=False)\n",
    "    feat_imps.plot(kind='bar')\n",
    "    plt.xlabel('features')\n",
    "    plt.ylabel('importance')\n",
    "    plt.title('Best random forest regressor feature importances');\n",
    "    plt.show()"
   ]
  },
  {
   "cell_type": "code",
   "execution_count": 18,
   "id": "e3ccca72",
   "metadata": {},
   "outputs": [
    {
     "name": "stdout",
     "output_type": "stream",
     "text": [
      "{'criterion': 'absolute_error', 'n_estimators': 80} 0.9327367752294811\n",
      "RandomForestRegressor(criterion='absolute_error', n_estimators=80)\n"
     ]
    }
   ],
   "source": [
    "params = {'n_estimators':[5,10,20,30,40,50,60,70,80], 'criterion':['squared_error', 'absolute_error', 'poisson']}\n",
    "\n",
    "rf = RandomForestRegressor()\n",
    "rf_cv = GridSearchCV(rf, params, cv=5, n_jobs=-1)\n",
    "rf_cv.fit(X_train, y_train)\n",
    "\n",
    "print(rf_cv.best_params_, rf_cv.best_score_)\n",
    "print(rf_cv.best_estimator_)"
   ]
  },
  {
   "cell_type": "code",
   "execution_count": 19,
   "id": "30c389c6",
   "metadata": {},
   "outputs": [
    {
     "data": {
      "image/png": "[encoded data removed]",
      "text/plain": [
       "<Figure size 720x360 with 1 Axes>"
      ]
     },
     "metadata": {
      "needs_background": "light"
     },
     "output_type": "display_data"
    }
   ],
   "source": [
    "importance_plotter(rf_cv)"
   ]
  },
  {
   "cell_type": "markdown",
   "id": "6970a231",
   "metadata": {},
   "source": [
    "Vanadium and temperature once again are the biggest predictors of strenght"
   ]
  },
  {
   "cell_type": "markdown",
   "id": "89f8da9e",
   "metadata": {},
   "source": [
    "#### 2.4.0 Model Performance"
   ]
  },
  {
   "cell_type": "code",
   "execution_count": 87,
   "id": "7d7139ec",
   "metadata": {},
   "outputs": [
    {
     "name": "stdout",
     "output_type": "stream",
     "text": [
      "Gradient Boosting Regressor train set performance 0.9911438875679653\n",
      "Random Forest Regressor test set performance 0.9713616338199894\n",
      "Time:  1.6884880065917969\n"
     ]
    }
   ],
   "source": [
    "t0 = time.time()\n",
    "\n",
    "rf_model = RandomForestRegressor(criterion='absolute_error', n_estimators=80)\n",
    "rf_model.fit(X_train, y_train)\n",
    "\n",
    "print('Gradient Boosting Regressor train set performance',rf_model.score(X_train, y_train))\n",
    "print('Random Forest Regressor test set performance', rf_model.score(X_test, y_test))\n",
    "\n",
    "print('Time: ', time.time() - t0)"
   ]
  },
  {
   "cell_type": "markdown",
   "id": "0f5b5acb",
   "metadata": {},
   "source": [
    "The model is not over or underfitting since performance is similar in both training and testing sets"
   ]
  },
  {
   "cell_type": "markdown",
   "id": "047be7ac",
   "metadata": {},
   "source": [
    "### Gradient Boosting Regressor"
   ]
  },
  {
   "cell_type": "code",
   "execution_count": 20,
   "id": "4c191013",
   "metadata": {},
   "outputs": [
    {
     "name": "stdout",
     "output_type": "stream",
     "text": [
      "{'learning_rate': 0.5, 'loss': 'squared_error', 'n_estimators': 30} 0.921108812785333\n"
     ]
    }
   ],
   "source": [
    "params = {'loss':['squared_error', 'absolute_error'], 'learning_rate':[0.001, 0.005, 0.01, 0.05, 0.1, 0.5, 1.0], \n",
    "          'n_estimators': [5, 10, 15, 20, 25, 30]}\n",
    "\n",
    "gb_cv = GridSearchCV(GradientBoostingRegressor(), params, cv=5)\n",
    "gb_cv.fit(X_train, y_train)\n",
    "\n",
    "print(gb_cv.best_params_, gb_cv.best_score_)"
   ]
  },
  {
   "cell_type": "code",
   "execution_count": 21,
   "id": "80c868cc",
   "metadata": {},
   "outputs": [
    {
     "data": {
      "image/png": "[encoded data removed]",
      "text/plain": [
       "<Figure size 720x360 with 1 Axes>"
      ]
     },
     "metadata": {
      "needs_background": "light"
     },
     "output_type": "display_data"
    }
   ],
   "source": [
    "importance_plotter(gb_cv)"
   ]
  },
  {
   "cell_type": "code",
   "execution_count": 90,
   "id": "3a12d42e",
   "metadata": {},
   "outputs": [
    {
     "name": "stdout",
     "output_type": "stream",
     "text": [
      "Gradient Boosting Regressor test set performance 0.9888578648405746\n",
      "Gradient Boosting Regressor test set performance 0.9683024581446339\n",
      "Time:  0.9537169933319092\n"
     ]
    }
   ],
   "source": [
    "t0 = time.time()\n",
    "\n",
    "gb_model = RandomForestRegressor(criterion='absolute_error', n_estimators=40)\n",
    "gb_model.fit(X_train, y_train)\n",
    "\n",
    "print('Gradient Boosting Regressor test set performance',gb_model.score(X_train, y_train))\n",
    "print('Gradient Boosting Regressor test set performance',gb_model.score(X_test, y_test))\n",
    "\n",
    "print('Time: ', time.time() - t0)"
   ]
  },
  {
   "cell_type": "markdown",
   "id": "91d18b27",
   "metadata": {},
   "source": [
    "The model is not over or underfitting since performance is similar in both training and testing sets"
   ]
  },
  {
   "cell_type": "markdown",
   "id": "896c6375",
   "metadata": {},
   "source": [
    "#### The linear regressor had an accuracy of 0.8515 and the lasso regressor was marginally less accurate on the tests sets. The Both the Random Forest model and the Gradient Boosting model had accuracies above 96% for both their training and testing sets however the the Gradient Boosting model was much faster. After considering these models, the Gradient Boosting Regressor will be chosen for it's accuracy and speed."
   ]
  }
 ],
 "metadata": {
  "kernelspec": {
   "display_name": "Python 3 (ipykernel)",
   "language": "python",
   "name": "python3"
  },
  "language_info": {
   "codemirror_mode": {
    "name": "ipython",
    "version": 3
   },
   "file_extension": ".py",
   "mimetype": "text/x-python",
   "name": "python",
   "nbconvert_exporter": "python",
   "pygments_lexer": "ipython3",
   "version": "3.9.12"
  }
 },
 "nbformat": 4,
 "nbformat_minor": 5
}
