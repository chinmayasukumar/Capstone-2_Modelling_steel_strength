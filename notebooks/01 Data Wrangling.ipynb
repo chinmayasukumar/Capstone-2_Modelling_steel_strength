{
 "cells": [
  {
   "cell_type": "markdown",
   "id": "1eb78ce9",
   "metadata": {},
   "source": [
    "# Predicting strength of steel based on steel chemistry - Data Wrangling"
   ]
  },
  {
   "cell_type": "markdown",
   "id": "1c31816e",
   "metadata": {},
   "source": [
    "This project will create a model that predicts the physical strength of a steel based on its alloying elements or steel chemistry using 2 databases."
   ]
  },
  {
   "cell_type": "markdown",
   "id": "8638a298",
   "metadata": {},
   "source": [
    "## 1.0 Loading Data"
   ]
  },
  {
   "cell_type": "code",
   "execution_count": 1,
   "id": "1877f85d",
   "metadata": {},
   "outputs": [],
   "source": [
    "# Importing necessary modules\n",
    "import pandas as pd\n",
    "import matplotlib.pyplot as plt\n",
    "import numpy as np"
   ]
  },
  {
   "cell_type": "code",
   "execution_count": 2,
   "id": "538b81f7",
   "metadata": {},
   "outputs": [],
   "source": [
    "# Loading both datasets\n",
    "path_1 = \"/Users/chinmayasukumar/Documents/Springboard/Unit 7/Capstone #2/data/raw/steel_strength.csv\"\n",
    "path_2 = \"/Users/chinmayasukumar/Documents/Springboard/Unit 7/Capstone #2/data/raw/MatNavi Mechanical properties of low-alloy steels.csv\"\n",
    "steel_1 = pd.read_csv(path_1)\n",
    "steel_2 = pd.read_csv(path_2)"
   ]
  },
  {
   "cell_type": "markdown",
   "id": "09cd84b6",
   "metadata": {},
   "source": [
    "## 2.0 Exploring Data"
   ]
  },
  {
   "cell_type": "code",
   "execution_count": 3,
   "id": "1dce7acd",
   "metadata": {},
   "outputs": [
    {
     "name": "stdout",
     "output_type": "stream",
     "text": [
      "steel_1 columns:  Index(['formula', 'c', 'mn', 'si', 'cr', 'ni', 'mo', 'v', 'n', 'nb', 'co', 'w',\n",
      "       'al', 'ti', 'yield strength', 'tensile strength', 'elongation'],\n",
      "      dtype='object') \n",
      "\n",
      "steel_2 columns:  Index(['Alloy code', ' C', ' Si', ' Mn', ' P', ' S', ' Ni', ' Cr', ' Mo',\n",
      "       ' Cu', 'V', ' Al', ' N', 'Ceq', 'Nb + Ta', ' Temperature (°C)',\n",
      "       ' 0.2% Proof Stress (MPa)', ' Tensile Strength (MPa)',\n",
      "       ' Elongation (%)', ' Reduction in Area (%)'],\n",
      "      dtype='object')\n"
     ]
    }
   ],
   "source": [
    "print('steel_1 columns: ', steel_1.columns, '\\n')\n",
    "print('steel_2 columns: ', steel_2.columns)"
   ]
  },
  {
   "cell_type": "code",
   "execution_count": 4,
   "id": "a7af2872",
   "metadata": {},
   "outputs": [
    {
     "name": "stdout",
     "output_type": "stream",
     "text": [
      "steel_1 dtypes:  \n",
      " formula              object\n",
      "c                   float64\n",
      "mn                  float64\n",
      "si                  float64\n",
      "cr                  float64\n",
      "ni                  float64\n",
      "mo                  float64\n",
      "v                   float64\n",
      "n                   float64\n",
      "nb                  float64\n",
      "co                  float64\n",
      "w                   float64\n",
      "al                  float64\n",
      "ti                  float64\n",
      "yield strength      float64\n",
      "tensile strength    float64\n",
      "elongation          float64\n",
      "dtype: object \n",
      "\n",
      "steel_2 dtypes:  \n",
      " Alloy code                   object\n",
      " C                          float64\n",
      " Si                         float64\n",
      " Mn                         float64\n",
      " P                          float64\n",
      " S                          float64\n",
      " Ni                         float64\n",
      " Cr                         float64\n",
      " Mo                         float64\n",
      " Cu                         float64\n",
      "V                           float64\n",
      " Al                         float64\n",
      " N                          float64\n",
      "Ceq                         float64\n",
      "Nb + Ta                     float64\n",
      " Temperature (°C)             int64\n",
      " 0.2% Proof Stress (MPa)      int64\n",
      " Tensile Strength (MPa)       int64\n",
      " Elongation (%)               int64\n",
      " Reduction in Area (%)        int64\n",
      "dtype: object\n"
     ]
    }
   ],
   "source": [
    "print('steel_1 dtypes: ', '\\n', steel_1.dtypes, '\\n')\n",
    "print('steel_2 dtypes: ', '\\n', steel_2.dtypes)"
   ]
  },
  {
   "cell_type": "code",
   "execution_count": 5,
   "id": "bd2c832b",
   "metadata": {},
   "outputs": [
    {
     "name": "stdout",
     "output_type": "stream",
     "text": [
      "steel_1 \n",
      "                 c          mn          si          cr          ni          mo  \\\n",
      "count  312.000000  312.000000  312.000000  312.000000  312.000000  312.000000   \n",
      "mean     0.096442    0.146250    0.221218    8.043830    8.184006    2.766090   \n",
      "std      0.109008    0.397102    0.580796    5.426169    6.337055    1.832908   \n",
      "min      0.000000    0.010000    0.010000    0.010000    0.010000    0.020000   \n",
      "25%      0.010000    0.010000    0.010000    3.100000    0.960000    1.500000   \n",
      "50%      0.030000    0.010000    0.010000    9.050000    8.500000    2.210000   \n",
      "75%      0.182500    0.080000    0.110000   12.520000   12.117500    4.090000   \n",
      "max      0.430000    3.000000    4.750000   17.500000   21.000000    9.670000   \n",
      "\n",
      "                v           n          nb          co           w          al  \\\n",
      "count  312.000000  312.000000  312.000000  312.000000  312.000000  312.000000   \n",
      "mean     0.183750    0.005545    0.035449    7.008782    0.161282    0.239135   \n",
      "std      0.452462    0.018331    0.161537    6.254431    0.920211    0.340110   \n",
      "min      0.000000    0.000000    0.000000    0.010000    0.000000    0.010000   \n",
      "25%      0.010000    0.000000    0.010000    0.010000    0.000000    0.030000   \n",
      "50%      0.010000    0.000000    0.010000    7.085000    0.000000    0.050000   \n",
      "75%      0.127500    0.000000    0.010000   13.480000    0.000000    0.300000   \n",
      "max      4.320000    0.150000    2.500000   20.100000    9.180000    1.800000   \n",
      "\n",
      "               ti  yield strength  tensile strength  elongation  \n",
      "count  312.000000      312.000000        312.000000  303.000000  \n",
      "mean     0.310897     1420.998397       1641.653205   14.007261  \n",
      "std      0.556593      301.894169        346.475179    5.095974  \n",
      "min      0.000000     1005.900000       1019.000000    2.000000  \n",
      "25%      0.000000     1219.475000       1338.125000   10.800000  \n",
      "50%      0.030000     1344.200000       1666.300000   14.800000  \n",
      "75%      0.232500     1576.075000       1899.950000   17.300000  \n",
      "max      2.500000     2510.300000       2570.000000   35.000000  \n"
     ]
    }
   ],
   "source": [
    "print('steel_1', '\\n', steel_1.describe())"
   ]
  },
  {
   "cell_type": "code",
   "execution_count": 6,
   "id": "52874ab4",
   "metadata": {},
   "outputs": [
    {
     "name": "stdout",
     "output_type": "stream",
     "text": [
      "steel_2 \n",
      "                 C          Si          Mn           P           S          Ni  \\\n",
      "count  915.000000  915.000000  915.000000  915.000000  915.000000  915.000000   \n",
      "mean     0.174929    0.310918    0.812962    0.014543    0.010602    0.143016   \n",
      "std      0.059674    0.086871    0.342775    0.005244    0.004024    0.172746   \n",
      "min      0.090000    0.180000    0.420000    0.006000    0.003000    0.000000   \n",
      "25%      0.130000    0.240000    0.500000    0.010000    0.008000    0.023000   \n",
      "50%      0.160000    0.300000    0.680000    0.014000    0.010000    0.050000   \n",
      "75%      0.200000    0.370000    1.210000    0.018000    0.012000    0.210000   \n",
      "max      0.340000    0.520000    1.480000    0.030000    0.022000    0.600000   \n",
      "\n",
      "               Cr          Mo          Cu           V          Al           N  \\\n",
      "count  915.000000  915.000000  915.000000  915.000000  915.000000  915.000000   \n",
      "mean     0.427861    0.442870    0.079148    0.060190    0.012435    0.007652   \n",
      "std      0.457568    0.394383    0.058481    0.096403    0.013067    0.002321   \n",
      "min      0.000000    0.005000    0.000000    0.000000    0.002000    0.002500   \n",
      "25%      0.040000    0.050000    0.040000    0.000000    0.004000    0.006200   \n",
      "50%      0.110000    0.500000    0.070000    0.000000    0.006000    0.007600   \n",
      "75%      1.000000    0.560000    0.110000    0.070000    0.016000    0.009000   \n",
      "max      1.310000    1.350000    0.250000    0.300000    0.050000    0.015000   \n",
      "\n",
      "              Ceq     Nb + Ta   Temperature (°C)   0.2% Proof Stress (MPa)  \\\n",
      "count  915.000000  915.000000         915.000000                915.000000   \n",
      "mean     0.093989    0.000041         351.601093                328.218579   \n",
      "std      0.172533    0.000261         189.714773                131.653232   \n",
      "min      0.000000    0.000000          27.000000                 27.000000   \n",
      "25%      0.000000    0.000000         200.000000                220.000000   \n",
      "50%      0.000000    0.000000         400.000000                290.000000   \n",
      "75%      0.000000    0.000000         500.000000                432.500000   \n",
      "max      0.437000    0.001700         650.000000                690.000000   \n",
      "\n",
      "        Tensile Strength (MPa)   Elongation (%)   Reduction in Area (%)  \n",
      "count               915.000000       915.000000              915.000000  \n",
      "mean                496.248087        26.789071               70.206557  \n",
      "std                 239.710650         8.806595               12.389289  \n",
      "min                 162.000000        10.000000               18.000000  \n",
      "25%                 413.000000        20.000000               62.000000  \n",
      "50%                 479.000000        26.000000               71.000000  \n",
      "75%                 575.000000        31.000000               80.000000  \n",
      "max                6661.000000        78.000000               94.000000  \n"
     ]
    }
   ],
   "source": [
    "print('steel_2','\\n', steel_2.describe())"
   ]
  },
  {
   "cell_type": "markdown",
   "id": "ad5c7e3d",
   "metadata": {},
   "source": [
    "As it can be seen, there can be a few problems joining the data at this stage. First off, the names of the columns between datasets do not match for the same alloying element. Secondly, some dtypes are integers which could cause problems when merging. There also unneccesary columns in steel_2. \n",
    "\n",
    "As for the physical properties, there are no 0 or negative values which is expected however, there are a few suspicious values for the strength in the upper range which will be looked into in the data cleaning section."
   ]
  },
  {
   "cell_type": "markdown",
   "id": "d927dc9d",
   "metadata": {},
   "source": [
    "## 3.0 Data Manipulation "
   ]
  },
  {
   "cell_type": "markdown",
   "id": "1c0fbb9a",
   "metadata": {},
   "source": [
    "### 3.1 Removing temperatures not corresponding to 27 degC\n",
    "\n",
    "\n",
    "From the description of both datasets, it can be seen that the physical properties for the samples in the steel_2 dataset were tested at different temperatures. It is assumed that steel_1 samples were pulled in room temperature, therefore only the tests performed at 27 degC will be included in the final dataset."
   ]
  },
  {
   "cell_type": "code",
   "execution_count": 7,
   "id": "3f8053f1",
   "metadata": {},
   "outputs": [
    {
     "name": "stdout",
     "output_type": "stream",
     "text": [
      "Index(['Alloy code', ' C', ' Si', ' Mn', ' P', ' S', ' Ni', ' Cr', ' Mo',\n",
      "       ' Cu', 'V', ' Al', ' N', 'Ceq', 'Nb + Ta', 'Temperature',\n",
      "       ' 0.2% Proof Stress (MPa)', ' Tensile Strength (MPa)',\n",
      "       ' Elongation (%)', ' Reduction in Area (%)'],\n",
      "      dtype='object')\n",
      "27     95\n",
      "100    95\n",
      "200    95\n",
      "300    95\n",
      "400    95\n",
      "450    95\n",
      "500    95\n",
      "550    95\n",
      "600    76\n",
      "350    45\n",
      "650    30\n",
      "150     2\n",
      "250     2\n",
      "Name: Temperature, dtype: int64\n",
      "27    95\n",
      "Name: Temperature, dtype: int64\n"
     ]
    }
   ],
   "source": [
    "# Rename temperature column for convenience\n",
    "steel_2 = steel_2.rename(columns = {' Temperature (°C)':'Temperature'})\n",
    "print(steel_2.columns)\n",
    "\n",
    "# Remove temperatures > 27 degC from steel_2\n",
    "print(steel_2['Temperature'].value_counts())\n",
    "steel_2 = steel_2[steel_2['Temperature']==27]\n",
    "print(steel_2['Temperature'].value_counts())"
   ]
  },
  {
   "cell_type": "markdown",
   "id": "e592047d",
   "metadata": {},
   "source": [
    "### 3.2 Renaming columns\n",
    "\n",
    "In order for the columns to join, the alloying elements must be renames. Incongruent columns must also be dropped."
   ]
  },
  {
   "cell_type": "code",
   "execution_count": 8,
   "id": "634cad6e",
   "metadata": {},
   "outputs": [
    {
     "name": "stdout",
     "output_type": "stream",
     "text": [
      "Index([' C', ' Si', ' Mn', ' P', ' S', ' Ni', ' Cr', ' Mo', ' Cu', 'V', ' Al',\n",
      "       ' N', ' 0.2% Proof Stress (MPa)', ' Tensile Strength (MPa)',\n",
      "       ' Elongation (%)'],\n",
      "      dtype='object')\n",
      "Index(['c', 'mn', 'si', 'cr', 'ni', 'mo', 'v', 'n', 'nb', 'co', 'w', 'al',\n",
      "       'ti', 'yield strength', 'tensile strength', 'elongation'],\n",
      "      dtype='object')\n"
     ]
    },
    {
     "data": {
      "text/plain": [
       "Index(['c', 'si', 'mn', 'p', 's', 'ni', 'cr', 'mo', 'cu', 'v', 'al', 'n',\n",
       "       'yield strength', 'tensile strength', 'elongation'],\n",
       "      dtype='object')"
      ]
     },
     "execution_count": 8,
     "metadata": {},
     "output_type": "execute_result"
    }
   ],
   "source": [
    "# Remove unneccesary columns and rename\n",
    "steel_2 = steel_2.drop(columns = ['Temperature',' Reduction in Area (%)', 'Alloy code', 'Ceq', 'Nb + Ta'])\n",
    "print(steel_2.columns)\n",
    "\n",
    "steel_1 = steel_1.drop(columns = ['formula'])\n",
    "print(steel_1.columns)\n",
    "\n",
    "steel_2.columns = ['c', 'si', 'mn', 'p', 's', 'ni', 'cr', 'mo', 'cu', 'v', 'al', 'n', 'yield strength', 'tensile strength', 'elongation']\n",
    "steel_2.columns\n"
   ]
  },
  {
   "cell_type": "markdown",
   "id": "6d22fef3",
   "metadata": {},
   "source": [
    "## 4.0 Joining\n",
    "\n",
    "pd.concat is used to join the two datasets"
   ]
  },
  {
   "cell_type": "code",
   "execution_count": 9,
   "id": "091e5e35",
   "metadata": {},
   "outputs": [
    {
     "name": "stdout",
     "output_type": "stream",
     "text": [
      "(312, 16)\n",
      "(95, 15)\n",
      "Index(['c', 'mn', 'si', 'cr', 'ni', 'mo', 'v', 'n', 'nb', 'co', 'w', 'al',\n",
      "       'ti', 'yield strength', 'tensile strength', 'elongation', 'p', 's',\n",
      "       'cu'],\n",
      "      dtype='object')\n",
      "(407, 19)\n"
     ]
    }
   ],
   "source": [
    "# Join data sets\n",
    "print(steel_1.shape)\n",
    "print(steel_2.shape)\n",
    "\n",
    "steel = pd.concat([steel_1, steel_2], ignore_index=True, sort=False)\n",
    "print(steel.columns)\n",
    "print(steel.shape)"
   ]
  },
  {
   "cell_type": "markdown",
   "id": "843486c3",
   "metadata": {},
   "source": [
    "## 5.0 Data Cleaning"
   ]
  },
  {
   "cell_type": "markdown",
   "id": "51e52fd4",
   "metadata": {},
   "source": [
    "### 5.1 Imputing missing values"
   ]
  },
  {
   "cell_type": "code",
   "execution_count": 10,
   "id": "fe56658a",
   "metadata": {},
   "outputs": [
    {
     "name": "stdout",
     "output_type": "stream",
     "text": [
      "c                   float64\n",
      "mn                  float64\n",
      "si                  float64\n",
      "cr                  float64\n",
      "ni                  float64\n",
      "mo                  float64\n",
      "v                   float64\n",
      "n                   float64\n",
      "nb                  float64\n",
      "co                  float64\n",
      "w                   float64\n",
      "al                  float64\n",
      "ti                  float64\n",
      "yield strength      float64\n",
      "tensile strength    float64\n",
      "elongation          float64\n",
      "p                   float64\n",
      "s                   float64\n",
      "cu                  float64\n",
      "dtype: object\n",
      "c                     0\n",
      "mn                    0\n",
      "si                    0\n",
      "cr                    0\n",
      "ni                    0\n",
      "mo                    0\n",
      "v                     0\n",
      "n                     0\n",
      "nb                   95\n",
      "co                   95\n",
      "w                    95\n",
      "al                    0\n",
      "ti                   95\n",
      "yield strength        0\n",
      "tensile strength      0\n",
      "elongation            9\n",
      "p                   312\n",
      "s                   312\n",
      "cu                  312\n",
      "dtype: int64\n"
     ]
    }
   ],
   "source": [
    "# Finding N/A values\n",
    "print(steel.dtypes)\n",
    "print(steel.isna().sum())"
   ]
  },
  {
   "cell_type": "code",
   "execution_count": 11,
   "id": "92007645",
   "metadata": {},
   "outputs": [
    {
     "name": "stdout",
     "output_type": "stream",
     "text": [
      "        c    mn    si    cr     ni    mo    v       n  nb  co   w     al  ti  \\\n",
      "312  0.12  0.52  0.36  0.97  0.089  0.61  0.0  0.0066 NaN NaN NaN  0.003 NaN   \n",
      "313  0.09  0.49  0.37  0.98  0.055  0.57  0.0  0.0080 NaN NaN NaN  0.005 NaN   \n",
      "314  0.10  0.49  0.28  0.90  0.028  0.56  0.0  0.0090 NaN NaN NaN  0.006 NaN   \n",
      "315  0.12  0.48  0.43  0.96  0.051  0.56  0.0  0.0080 NaN NaN NaN  0.006 NaN   \n",
      "316  0.12  0.44  0.28  0.99  0.030  0.54  0.0  0.0100 NaN NaN NaN  0.007 NaN   \n",
      "317  0.12  0.45  0.37  1.00  0.035  0.50  0.0  0.0088 NaN NaN NaN  0.009 NaN   \n",
      "318  0.12  0.45  0.36  1.00  0.028  0.53  0.0  0.0080 NaN NaN NaN  0.007 NaN   \n",
      "319  0.10  0.44  0.35  1.01  0.050  0.51  0.0  0.0082 NaN NaN NaN  0.012 NaN   \n",
      "320  0.09  0.48  0.32  1.05  0.023  0.52  0.0  0.0089 NaN NaN NaN  0.009 NaN   \n",
      "321  0.10  0.51  0.31  1.03  0.020  0.53  0.0  0.0076 NaN NaN NaN  0.009 NaN   \n",
      "\n",
      "     yield strength  tensile strength  elongation      p      s    cu  \n",
      "312           342.0             490.0        30.0  0.009  0.003  0.04  \n",
      "313           310.0             463.0        34.0  0.006  0.005  0.07  \n",
      "314           306.0             463.0        32.0  0.008  0.009  0.08  \n",
      "315           343.0             502.0        32.0  0.014  0.008  0.08  \n",
      "316           339.0             493.0        33.0  0.018  0.008  0.08  \n",
      "317           251.0             456.0        32.0  0.018  0.008  0.06  \n",
      "318           239.0             453.0        35.0  0.018  0.007  0.05  \n",
      "319           241.0             431.0        36.0  0.020  0.007  0.08  \n",
      "320           313.0             464.0        29.0  0.020  0.017  0.04  \n",
      "321           291.0             462.0        30.0  0.022  0.017  0.04  \n"
     ]
    }
   ],
   "source": [
    "print(steel[steel['nb'].isna()].head(10))"
   ]
  },
  {
   "cell_type": "markdown",
   "id": "9dcbbcda",
   "metadata": {},
   "source": [
    "As it can be seen there are 95 missing values in Nb, Co, W and Ti. Since these points still show data for the other alloying elements they can be imputed with a 0 value since they probably do not have the alloying element in question. However, the 9 missing elongation values could skew the data and therefore the rows with empty elongation values will be removed."
   ]
  },
  {
   "cell_type": "code",
   "execution_count": 12,
   "id": "33890a30",
   "metadata": {},
   "outputs": [
    {
     "name": "stdout",
     "output_type": "stream",
     "text": [
      "(398, 19)\n"
     ]
    }
   ],
   "source": [
    "steel = steel[~steel['elongation'].isna()]\n",
    "print(steel.shape)"
   ]
  },
  {
   "cell_type": "code",
   "execution_count": 13,
   "id": "a0d4c377",
   "metadata": {},
   "outputs": [
    {
     "name": "stdout",
     "output_type": "stream",
     "text": [
      "c                   0\n",
      "mn                  0\n",
      "si                  0\n",
      "cr                  0\n",
      "ni                  0\n",
      "mo                  0\n",
      "v                   0\n",
      "n                   0\n",
      "nb                  0\n",
      "co                  0\n",
      "w                   0\n",
      "al                  0\n",
      "ti                  0\n",
      "yield strength      0\n",
      "tensile strength    0\n",
      "elongation          0\n",
      "p                   0\n",
      "s                   0\n",
      "cu                  0\n",
      "dtype: int64\n"
     ]
    },
    {
     "data": {
      "text/plain": [
       "(398, 19)"
      ]
     },
     "execution_count": 13,
     "metadata": {},
     "output_type": "execute_result"
    }
   ],
   "source": [
    "steel = steel.fillna(0)\n",
    "print(steel.isna().sum())\n",
    "steel.shape"
   ]
  },
  {
   "cell_type": "markdown",
   "id": "f047aaf3",
   "metadata": {},
   "source": [
    "The dataset must now be evaluated for the outlying tensile and yield strenghts."
   ]
  },
  {
   "cell_type": "code",
   "execution_count": 14,
   "id": "d2fd3963",
   "metadata": {},
   "outputs": [
    {
     "data": {
      "image/png": "[encoded data removed]",
      "text/plain": [
       "<Figure size 432x288 with 1 Axes>"
      ]
     },
     "metadata": {
      "needs_background": "light"
     },
     "output_type": "display_data"
    }
   ],
   "source": [
    "steel['yield strength'].hist(bins=25)\n",
    "plt.show()"
   ]
  },
  {
   "cell_type": "code",
   "execution_count": 15,
   "id": "c1d12807",
   "metadata": {},
   "outputs": [
    {
     "data": {
      "image/png": "[encoded data removed]",
      "text/plain": [
       "<Figure size 432x288 with 1 Axes>"
      ]
     },
     "metadata": {
      "needs_background": "light"
     },
     "output_type": "display_data"
    }
   ],
   "source": [
    "steel['tensile strength'].hist()\n",
    "plt.show()"
   ]
  },
  {
   "cell_type": "code",
   "execution_count": 16,
   "id": "2fafb307",
   "metadata": {},
   "outputs": [
    {
     "data": {
      "image/png": "[encoded data removed]",
      "text/plain": [
       "<Figure size 432x288 with 1 Axes>"
      ]
     },
     "metadata": {
      "needs_background": "light"
     },
     "output_type": "display_data"
    }
   ],
   "source": [
    "steel['elongation'].hist()\n",
    "plt.show()"
   ]
  },
  {
   "cell_type": "code",
   "execution_count": 17,
   "id": "2391e49c",
   "metadata": {},
   "outputs": [
    {
     "data": {
      "text/plain": [
       "20     2510.3\n",
       "6      2501.1\n",
       "3      2487.3\n",
       "0      2411.5\n",
       "10     2411.5\n",
       "13     2402.3\n",
       "30     2381.6\n",
       "16     2381.6\n",
       "21     2372.4\n",
       "107    2356.4\n",
       "Name: yield strength, dtype: float64"
      ]
     },
     "execution_count": 17,
     "metadata": {},
     "output_type": "execute_result"
    }
   ],
   "source": [
    "steel['yield strength'].sort_values(ascending=False).head(10)"
   ]
  },
  {
   "cell_type": "code",
   "execution_count": 18,
   "id": "b8839a22",
   "metadata": {},
   "outputs": [
    {
     "data": {
      "text/plain": [
       "6      2570.0\n",
       "20     2570.0\n",
       "3      2514.9\n",
       "10     2475.8\n",
       "0      2473.5\n",
       "13     2468.9\n",
       "21     2441.3\n",
       "30     2436.8\n",
       "16     2436.8\n",
       "107    2404.6\n",
       "Name: tensile strength, dtype: float64"
      ]
     },
     "execution_count": 18,
     "metadata": {},
     "output_type": "execute_result"
    }
   ],
   "source": [
    "steel['tensile strength'].sort_values(ascending=False).head(10)"
   ]
  },
  {
   "cell_type": "code",
   "execution_count": 19,
   "id": "17ae6f2c",
   "metadata": {},
   "outputs": [
    {
     "data": {
      "text/plain": [
       "335    36.0\n",
       "337    36.0\n",
       "368    36.0\n",
       "319    36.0\n",
       "334    35.0\n",
       "318    35.0\n",
       "332    35.0\n",
       "131    35.0\n",
       "333    34.0\n",
       "331    34.0\n",
       "Name: elongation, dtype: float64"
      ]
     },
     "execution_count": 19,
     "metadata": {},
     "output_type": "execute_result"
    }
   ],
   "source": [
    "steel['elongation'].sort_values(ascending=False).head(10)"
   ]
  },
  {
   "cell_type": "markdown",
   "id": "2d8c3438",
   "metadata": {},
   "source": [
    "The data with the erroneous yield strength value has already been eliminated, therefore no further cleaning is required"
   ]
  },
  {
   "cell_type": "code",
   "execution_count": 20,
   "id": "6b7d091b",
   "metadata": {},
   "outputs": [
    {
     "data": {
      "text/html": [
       "<div>\n",
       "<style scoped>\n",
       "    .dataframe tbody tr th:only-of-type {\n",
       "        vertical-align: middle;\n",
       "    }\n",
       "\n",
       "    .dataframe tbody tr th {\n",
       "        vertical-align: top;\n",
       "    }\n",
       "\n",
       "    .dataframe thead th {\n",
       "        text-align: right;\n",
       "    }\n",
       "</style>\n",
       "<table border=\"1\" class=\"dataframe\">\n",
       "  <thead>\n",
       "    <tr style=\"text-align: right;\">\n",
       "      <th></th>\n",
       "      <th>c</th>\n",
       "      <th>mn</th>\n",
       "      <th>si</th>\n",
       "      <th>cr</th>\n",
       "      <th>ni</th>\n",
       "      <th>mo</th>\n",
       "      <th>v</th>\n",
       "      <th>n</th>\n",
       "      <th>nb</th>\n",
       "      <th>co</th>\n",
       "      <th>w</th>\n",
       "      <th>al</th>\n",
       "      <th>ti</th>\n",
       "      <th>yield strength</th>\n",
       "      <th>tensile strength</th>\n",
       "      <th>elongation</th>\n",
       "      <th>p</th>\n",
       "      <th>s</th>\n",
       "      <th>cu</th>\n",
       "    </tr>\n",
       "  </thead>\n",
       "  <tbody>\n",
       "    <tr>\n",
       "      <th>count</th>\n",
       "      <td>398.000000</td>\n",
       "      <td>398.000000</td>\n",
       "      <td>398.000000</td>\n",
       "      <td>398.000000</td>\n",
       "      <td>398.000000</td>\n",
       "      <td>398.000000</td>\n",
       "      <td>398.000000</td>\n",
       "      <td>398.000000</td>\n",
       "      <td>398.000000</td>\n",
       "      <td>398.000000</td>\n",
       "      <td>398.000000</td>\n",
       "      <td>398.000000</td>\n",
       "      <td>398.000000</td>\n",
       "      <td>398.000000</td>\n",
       "      <td>398.000000</td>\n",
       "      <td>398.000000</td>\n",
       "      <td>398.000000</td>\n",
       "      <td>398.000000</td>\n",
       "      <td>398.000000</td>\n",
       "    </tr>\n",
       "    <tr>\n",
       "      <th>mean</th>\n",
       "      <td>0.116467</td>\n",
       "      <td>0.305930</td>\n",
       "      <td>0.246985</td>\n",
       "      <td>6.169749</td>\n",
       "      <td>6.231106</td>\n",
       "      <td>2.240977</td>\n",
       "      <td>0.155920</td>\n",
       "      <td>0.006168</td>\n",
       "      <td>0.027563</td>\n",
       "      <td>5.280352</td>\n",
       "      <td>0.125729</td>\n",
       "      <td>0.183515</td>\n",
       "      <td>0.230930</td>\n",
       "      <td>1175.626633</td>\n",
       "      <td>1383.526633</td>\n",
       "      <td>17.023116</td>\n",
       "      <td>0.003455</td>\n",
       "      <td>0.002530</td>\n",
       "      <td>0.018744</td>\n",
       "    </tr>\n",
       "    <tr>\n",
       "      <th>std</th>\n",
       "      <td>0.104438</td>\n",
       "      <td>0.477588</td>\n",
       "      <td>0.515953</td>\n",
       "      <td>5.765578</td>\n",
       "      <td>6.545468</td>\n",
       "      <td>1.906021</td>\n",
       "      <td>0.406029</td>\n",
       "      <td>0.016264</td>\n",
       "      <td>0.143754</td>\n",
       "      <td>6.235153</td>\n",
       "      <td>0.817160</td>\n",
       "      <td>0.314814</td>\n",
       "      <td>0.506307</td>\n",
       "      <td>506.849212</td>\n",
       "      <td>550.051167</td>\n",
       "      <td>7.580671</td>\n",
       "      <td>0.006685</td>\n",
       "      <td>0.004932</td>\n",
       "      <td>0.043925</td>\n",
       "    </tr>\n",
       "    <tr>\n",
       "      <th>min</th>\n",
       "      <td>0.000000</td>\n",
       "      <td>0.010000</td>\n",
       "      <td>0.010000</td>\n",
       "      <td>0.000000</td>\n",
       "      <td>0.000000</td>\n",
       "      <td>0.005000</td>\n",
       "      <td>0.000000</td>\n",
       "      <td>0.000000</td>\n",
       "      <td>0.000000</td>\n",
       "      <td>0.000000</td>\n",
       "      <td>0.000000</td>\n",
       "      <td>0.002000</td>\n",
       "      <td>0.000000</td>\n",
       "      <td>239.000000</td>\n",
       "      <td>430.000000</td>\n",
       "      <td>2.000000</td>\n",
       "      <td>0.000000</td>\n",
       "      <td>0.000000</td>\n",
       "      <td>0.000000</td>\n",
       "    </tr>\n",
       "    <tr>\n",
       "      <th>25%</th>\n",
       "      <td>0.020000</td>\n",
       "      <td>0.010000</td>\n",
       "      <td>0.010000</td>\n",
       "      <td>0.053250</td>\n",
       "      <td>0.050000</td>\n",
       "      <td>0.522500</td>\n",
       "      <td>0.010000</td>\n",
       "      <td>0.000000</td>\n",
       "      <td>0.010000</td>\n",
       "      <td>0.010000</td>\n",
       "      <td>0.000000</td>\n",
       "      <td>0.030000</td>\n",
       "      <td>0.000000</td>\n",
       "      <td>1017.050000</td>\n",
       "      <td>1067.075000</td>\n",
       "      <td>12.000000</td>\n",
       "      <td>0.000000</td>\n",
       "      <td>0.000000</td>\n",
       "      <td>0.000000</td>\n",
       "    </tr>\n",
       "    <tr>\n",
       "      <th>50%</th>\n",
       "      <td>0.120000</td>\n",
       "      <td>0.050000</td>\n",
       "      <td>0.060000</td>\n",
       "      <td>5.005000</td>\n",
       "      <td>4.050000</td>\n",
       "      <td>1.980000</td>\n",
       "      <td>0.010000</td>\n",
       "      <td>0.000000</td>\n",
       "      <td>0.010000</td>\n",
       "      <td>0.010000</td>\n",
       "      <td>0.000000</td>\n",
       "      <td>0.030000</td>\n",
       "      <td>0.000000</td>\n",
       "      <td>1267.450000</td>\n",
       "      <td>1413.800000</td>\n",
       "      <td>16.000000</td>\n",
       "      <td>0.000000</td>\n",
       "      <td>0.000000</td>\n",
       "      <td>0.000000</td>\n",
       "    </tr>\n",
       "    <tr>\n",
       "      <th>75%</th>\n",
       "      <td>0.190000</td>\n",
       "      <td>0.500000</td>\n",
       "      <td>0.300000</td>\n",
       "      <td>12.297500</td>\n",
       "      <td>11.075000</td>\n",
       "      <td>3.150000</td>\n",
       "      <td>0.070000</td>\n",
       "      <td>0.007000</td>\n",
       "      <td>0.010000</td>\n",
       "      <td>12.400000</td>\n",
       "      <td>0.000000</td>\n",
       "      <td>0.167500</td>\n",
       "      <td>0.200000</td>\n",
       "      <td>1460.700000</td>\n",
       "      <td>1794.875000</td>\n",
       "      <td>19.300000</td>\n",
       "      <td>0.000000</td>\n",
       "      <td>0.000000</td>\n",
       "      <td>0.000000</td>\n",
       "    </tr>\n",
       "    <tr>\n",
       "      <th>max</th>\n",
       "      <td>0.430000</td>\n",
       "      <td>3.000000</td>\n",
       "      <td>4.750000</td>\n",
       "      <td>17.500000</td>\n",
       "      <td>21.000000</td>\n",
       "      <td>9.670000</td>\n",
       "      <td>4.320000</td>\n",
       "      <td>0.150000</td>\n",
       "      <td>2.500000</td>\n",
       "      <td>20.100000</td>\n",
       "      <td>9.180000</td>\n",
       "      <td>1.800000</td>\n",
       "      <td>2.500000</td>\n",
       "      <td>2510.300000</td>\n",
       "      <td>2570.000000</td>\n",
       "      <td>36.000000</td>\n",
       "      <td>0.030000</td>\n",
       "      <td>0.022000</td>\n",
       "      <td>0.250000</td>\n",
       "    </tr>\n",
       "  </tbody>\n",
       "</table>\n",
       "</div>"
      ],
      "text/plain": [
       "                c          mn          si          cr          ni          mo  \\\n",
       "count  398.000000  398.000000  398.000000  398.000000  398.000000  398.000000   \n",
       "mean     0.116467    0.305930    0.246985    6.169749    6.231106    2.240977   \n",
       "std      0.104438    0.477588    0.515953    5.765578    6.545468    1.906021   \n",
       "min      0.000000    0.010000    0.010000    0.000000    0.000000    0.005000   \n",
       "25%      0.020000    0.010000    0.010000    0.053250    0.050000    0.522500   \n",
       "50%      0.120000    0.050000    0.060000    5.005000    4.050000    1.980000   \n",
       "75%      0.190000    0.500000    0.300000   12.297500   11.075000    3.150000   \n",
       "max      0.430000    3.000000    4.750000   17.500000   21.000000    9.670000   \n",
       "\n",
       "                v           n          nb          co           w          al  \\\n",
       "count  398.000000  398.000000  398.000000  398.000000  398.000000  398.000000   \n",
       "mean     0.155920    0.006168    0.027563    5.280352    0.125729    0.183515   \n",
       "std      0.406029    0.016264    0.143754    6.235153    0.817160    0.314814   \n",
       "min      0.000000    0.000000    0.000000    0.000000    0.000000    0.002000   \n",
       "25%      0.010000    0.000000    0.010000    0.010000    0.000000    0.030000   \n",
       "50%      0.010000    0.000000    0.010000    0.010000    0.000000    0.030000   \n",
       "75%      0.070000    0.007000    0.010000   12.400000    0.000000    0.167500   \n",
       "max      4.320000    0.150000    2.500000   20.100000    9.180000    1.800000   \n",
       "\n",
       "               ti  yield strength  tensile strength  elongation           p  \\\n",
       "count  398.000000      398.000000        398.000000  398.000000  398.000000   \n",
       "mean     0.230930     1175.626633       1383.526633   17.023116    0.003455   \n",
       "std      0.506307      506.849212        550.051167    7.580671    0.006685   \n",
       "min      0.000000      239.000000        430.000000    2.000000    0.000000   \n",
       "25%      0.000000     1017.050000       1067.075000   12.000000    0.000000   \n",
       "50%      0.000000     1267.450000       1413.800000   16.000000    0.000000   \n",
       "75%      0.200000     1460.700000       1794.875000   19.300000    0.000000   \n",
       "max      2.500000     2510.300000       2570.000000   36.000000    0.030000   \n",
       "\n",
       "                s          cu  \n",
       "count  398.000000  398.000000  \n",
       "mean     0.002530    0.018744  \n",
       "std      0.004932    0.043925  \n",
       "min      0.000000    0.000000  \n",
       "25%      0.000000    0.000000  \n",
       "50%      0.000000    0.000000  \n",
       "75%      0.000000    0.000000  \n",
       "max      0.022000    0.250000  "
      ]
     },
     "execution_count": 20,
     "metadata": {},
     "output_type": "execute_result"
    }
   ],
   "source": [
    "steel.describe()"
   ]
  },
  {
   "cell_type": "code",
   "execution_count": null,
   "id": "d411f64d",
   "metadata": {},
   "outputs": [],
   "source": []
  }
 ],
 "metadata": {
  "kernelspec": {
   "display_name": "Python 3 (ipykernel)",
   "language": "python",
   "name": "python3"
  },
  "language_info": {
   "codemirror_mode": {
    "name": "ipython",
    "version": 3
   },
   "file_extension": ".py",
   "mimetype": "text/x-python",
   "name": "python",
   "nbconvert_exporter": "python",
   "pygments_lexer": "ipython3",
   "version": "3.9.12"
  }
 },
 "nbformat": 4,
 "nbformat_minor": 5
}
