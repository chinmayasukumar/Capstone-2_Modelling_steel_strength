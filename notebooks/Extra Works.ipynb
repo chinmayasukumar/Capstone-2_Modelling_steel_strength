{
 "cells": [
  {
   "cell_type": "code",
   "execution_count": 177,
   "id": "b3a3a340",
   "metadata": {},
   "outputs": [],
   "source": [
    "y_pred = vote_reg.predict(X_test)"
   ]
  },
  {
   "cell_type": "code",
   "execution_count": 180,
   "id": "01f9ac37",
   "metadata": {},
   "outputs": [],
   "source": [
    "ae_vote_reg = y_pred - y_test"
   ]
  },
  {
   "cell_type": "code",
   "execution_count": 194,
   "id": "5c689479",
   "metadata": {},
   "outputs": [
    {
     "data": {
      "text/plain": [
       "16.718535419291104"
      ]
     },
     "execution_count": 194,
     "metadata": {},
     "output_type": "execute_result"
    }
   ],
   "source": [
    "mean_absolute_error(y_pred, y_test)"
   ]
  },
  {
   "cell_type": "code",
   "execution_count": 181,
   "id": "832e7e1a",
   "metadata": {},
   "outputs": [
    {
     "data": {
      "text/plain": [
       "array([   2.53954713,   -7.95649087,    4.75360835,  -24.82354785,\n",
       "         12.69013786,   -4.19447394,  -15.76393538,   -4.49541971,\n",
       "         -5.24399136,    3.16231296,   -6.73358614,    7.33293973,\n",
       "         13.0561255 ,   15.43736816,    4.17610755,    9.62480053,\n",
       "          0.90401833,   -5.65845588,   -0.48038438,   25.19975878,\n",
       "         -2.46594497,   -1.75586421,  -23.12698724,  -10.64102623,\n",
       "        -14.35959471,   11.14736944,  -20.07018265,  -15.56337   ,\n",
       "         11.00889394,    9.99495168,   -8.65777177,   22.9559947 ,\n",
       "         18.68428873,  -15.20298285,  -40.75779616,  -18.60290742,\n",
       "        -10.86367696,   -4.23809128,   40.88652991,    8.16852266,\n",
       "         -6.00728223,  -12.21994435,  -18.8996124 ,   12.35295479,\n",
       "         14.02761931,   12.2895109 ,   40.2140695 ,   -5.48473629,\n",
       "         29.46131165,   11.53121904,   15.90700103,    6.81689897,\n",
       "         -1.73330315,    9.60678836,   35.7924981 ,    2.28843357,\n",
       "        -19.9859483 ,  -14.40916845,   14.97799868,    3.9181548 ,\n",
       "         13.81277826,    3.21840179,   -2.36868971,   71.71219758,\n",
       "         -6.46289796,  -20.11795792,  335.1517052 ,   16.54348696,\n",
       "          0.87127697,   21.11673231,    1.59709756,   -6.87169056,\n",
       "          7.77336355,   10.58628823,   21.72168167,    9.06662744,\n",
       "         13.02056244,   37.40497632,  -10.95002352,   12.53587689,\n",
       "          8.82769479,    4.24491133, -124.36975531,   -0.80107926,\n",
       "        -25.01946521,    6.88587353,  -13.60918618,    9.35804144,\n",
       "         -0.50792854,  -11.28474517,  -11.60521014,    8.40686469,\n",
       "          4.23813637,  -15.91600857,    3.20358659,   -1.47046453,\n",
       "          7.2609011 ,  -38.0928681 ,   15.33376743,    2.96659165,\n",
       "         15.9772643 ,   -5.32362037,  -32.18528819,  -12.88450484,\n",
       "         37.72844922,   13.89369046,    2.2371108 ,    4.78495154,\n",
       "         15.63913001,    6.76652613,   22.05582215,  -24.17134689,\n",
       "         23.47830255,  -15.33594982,   32.5127674 ,   -2.7057283 ,\n",
       "          3.43429429,  -33.0345038 ,   11.23646562,    3.80676013,\n",
       "        -12.07512847,   13.72722898,    8.42814358,  -12.0638096 ])"
      ]
     },
     "execution_count": 181,
     "metadata": {},
     "output_type": "execute_result"
    }
   ],
   "source": [
    "ae_vote_reg"
   ]
  },
  {
   "cell_type": "code",
   "execution_count": 189,
   "id": "ecc5dfc4",
   "metadata": {},
   "outputs": [
    {
     "data": {
      "image/png": "[encoded data removed]",
      "text/plain": [
       "<Figure size 432x288 with 1 Axes>"
      ]
     },
     "metadata": {
      "needs_background": "light"
     },
     "output_type": "display_data"
    }
   ],
   "source": [
    "plt.hist(ae_vote_reg, bins=50)\n",
    "plt.show()"
   ]
  },
  {
   "cell_type": "code",
   "execution_count": 195,
   "id": "bd67b14a",
   "metadata": {},
   "outputs": [
    {
     "data": {
      "text/plain": [
       "(16.718535419291104, 36.1407679195701)"
      ]
     },
     "execution_count": 195,
     "metadata": {},
     "output_type": "execute_result"
    }
   ],
   "source": [
    "np.mean(np.abs(ae_vote_reg)), np.std(ae_vote_reg)"
   ]
  },
  {
   "cell_type": "code",
   "execution_count": 202,
   "id": "4560b615",
   "metadata": {},
   "outputs": [
    {
     "data": {
      "text/plain": [
       "66"
      ]
     },
     "execution_count": 202,
     "metadata": {},
     "output_type": "execute_result"
    }
   ],
   "source": [
    "ind = np.argmax(ae_vote_reg)\n",
    "ind"
   ]
  },
  {
   "cell_type": "code",
   "execution_count": 203,
   "id": "418db08d",
   "metadata": {},
   "outputs": [
    {
     "data": {
      "text/plain": [
       "array([ 0.06080815,  0.85130414, -0.55498338, -0.53864141,  0.30595712,\n",
       "        0.59715964,  1.85826999,  1.26652034,  1.68850645,  1.89661053,\n",
       "       -0.82310097,  1.17402674, -0.17614271, -0.34358504])"
      ]
     },
     "execution_count": 203,
     "metadata": {},
     "output_type": "execute_result"
    }
   ],
   "source": [
    "X_test[ind]"
   ]
  },
  {
   "cell_type": "code",
   "execution_count": 208,
   "id": "264419b0",
   "metadata": {},
   "outputs": [],
   "source": [
    "condition = X == X_test[ind]"
   ]
  },
  {
   "cell_type": "code",
   "execution_count": 227,
   "id": "44cde606",
   "metadata": {},
   "outputs": [
    {
     "data": {
      "text/plain": [
       "443"
      ]
     },
     "execution_count": 227,
     "metadata": {},
     "output_type": "execute_result"
    }
   ],
   "source": [
    "ind = np.where(np.all(condition, axis=1))[0][0]\n",
    "ind"
   ]
  },
  {
   "cell_type": "code",
   "execution_count": 228,
   "id": "039441ca",
   "metadata": {},
   "outputs": [
    {
     "data": {
      "text/plain": [
       "array([ 0.06080815,  0.85130414, -0.55498338, -0.53864141,  0.30595712,\n",
       "        0.59715964,  1.85826999,  1.26652034,  1.68850645,  1.89661053,\n",
       "       -0.82310097,  1.17402674, -0.17614271, -0.34358504])"
      ]
     },
     "execution_count": 228,
     "metadata": {},
     "output_type": "execute_result"
    }
   ],
   "source": [
    "X[ind]"
   ]
  },
  {
   "cell_type": "code",
   "execution_count": 223,
   "id": "01eec2fa",
   "metadata": {},
   "outputs": [
    {
     "data": {
      "text/plain": [
       "(618, 14)"
      ]
     },
     "execution_count": 223,
     "metadata": {},
     "output_type": "execute_result"
    }
   ],
   "source": [
    "X.shape"
   ]
  },
  {
   "cell_type": "code",
   "execution_count": 224,
   "id": "0342e438",
   "metadata": {},
   "outputs": [
    {
     "data": {
      "text/plain": [
       "(618, 15)"
      ]
     },
     "execution_count": 224,
     "metadata": {},
     "output_type": "execute_result"
    }
   ],
   "source": [
    "steel.shape"
   ]
  },
  {
   "cell_type": "code",
   "execution_count": 230,
   "id": "b2dfd626",
   "metadata": {},
   "outputs": [
    {
     "data": {
      "text/plain": [
       "c          0.1800\n",
       "si         0.3900\n",
       "mn         0.6300\n",
       "p          0.0120\n",
       "s          0.0120\n",
       "ni         0.2300\n",
       "cr         1.2200\n",
       "mo         0.8900\n",
       "cu         0.1700\n",
       "v          0.2300\n",
       "al         0.0020\n",
       "n          0.0103\n",
       "nb+ta      0.0000\n",
       "temp     200.0000\n",
       "yield    162.0000\n",
       "Name: 443, dtype: float64"
      ]
     },
     "execution_count": 230,
     "metadata": {},
     "output_type": "execute_result"
    }
   ],
   "source": [
    "steel.iloc[443,:]"
   ]
  },
  {
   "cell_type": "code",
   "execution_count": null,
   "id": "9d4ef06a",
   "metadata": {},
   "outputs": [],
   "source": []
  }
 ],
 "metadata": {
  "kernelspec": {
   "display_name": "Python 3 (ipykernel)",
   "language": "python",
   "name": "python3"
  },
  "language_info": {
   "codemirror_mode": {
    "name": "ipython",
    "version": 3
   },
   "file_extension": ".py",
   "mimetype": "text/x-python",
   "name": "python",
   "nbconvert_exporter": "python",
   "pygments_lexer": "ipython3",
   "version": "3.9.12"
  }
 },
 "nbformat": 4,
 "nbformat_minor": 5
}
