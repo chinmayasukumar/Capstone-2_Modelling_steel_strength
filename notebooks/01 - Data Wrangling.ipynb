{
 "cells": [
  {
   "cell_type": "markdown",
   "id": "7e1f5182",
   "metadata": {},
   "source": [
    "# Predicting strength of steel based on steel chemistry - Data Wrangling"
   ]
  },
  {
   "cell_type": "markdown",
   "id": "ad5de720",
   "metadata": {},
   "source": [
    "This project will create a model that predicts the physical strength of a steel based on its alloying elements and temperature"
   ]
  },
  {
   "cell_type": "markdown",
   "id": "2cf6fbff",
   "metadata": {},
   "source": [
    "## 1.0 Loading data"
   ]
  },
  {
   "cell_type": "code",
   "execution_count": 1,
   "id": "230aeb42",
   "metadata": {},
   "outputs": [],
   "source": [
    "# Importing necessary modules\n",
    "import pandas as pd\n",
    "import matplotlib.pyplot as plt\n",
    "import numpy as np"
   ]
  },
  {
   "cell_type": "code",
   "execution_count": 2,
   "id": "10c276c2",
   "metadata": {},
   "outputs": [],
   "source": [
    "# Loading both datasets\n",
    "path = \"/Users/chinmayasukumar/Documents/Springboard/Unit 7/Capstone #2/data/raw/MatNavi Mechanical properties of low-alloy steels.csv\"\n",
    "steel = pd.read_csv(path)"
   ]
  },
  {
   "cell_type": "markdown",
   "id": "c9152c50",
   "metadata": {},
   "source": [
    "## 2.0 Exploring data"
   ]
  },
  {
   "cell_type": "code",
   "execution_count": 3,
   "id": "1f6bd105",
   "metadata": {},
   "outputs": [
    {
     "name": "stdout",
     "output_type": "stream",
     "text": [
      "steel columns:  Index(['Alloy code', ' C', ' Si', ' Mn', ' P', ' S', ' Ni', ' Cr', ' Mo',\n",
      "       ' Cu', 'V', ' Al', ' N', 'Ceq', 'Nb + Ta', ' Temperature (°C)',\n",
      "       ' 0.2% Proof Stress (MPa)', ' Tensile Strength (MPa)',\n",
      "       ' Elongation (%)', ' Reduction in Area (%)'],\n",
      "      dtype='object')\n"
     ]
    }
   ],
   "source": [
    "print('steel columns: ', steel.columns)"
   ]
  },
  {
   "cell_type": "code",
   "execution_count": 4,
   "id": "4af02522",
   "metadata": {},
   "outputs": [
    {
     "name": "stdout",
     "output_type": "stream",
     "text": [
      "steel dtypes:  \n",
      " Alloy code                   object\n",
      " C                          float64\n",
      " Si                         float64\n",
      " Mn                         float64\n",
      " P                          float64\n",
      " S                          float64\n",
      " Ni                         float64\n",
      " Cr                         float64\n",
      " Mo                         float64\n",
      " Cu                         float64\n",
      "V                           float64\n",
      " Al                         float64\n",
      " N                          float64\n",
      "Ceq                         float64\n",
      "Nb + Ta                     float64\n",
      " Temperature (°C)             int64\n",
      " 0.2% Proof Stress (MPa)      int64\n",
      " Tensile Strength (MPa)       int64\n",
      " Elongation (%)               int64\n",
      " Reduction in Area (%)        int64\n",
      "dtype: object\n"
     ]
    }
   ],
   "source": [
    "print('steel dtypes: ','\\n',steel.dtypes)"
   ]
  },
  {
   "cell_type": "code",
   "execution_count": 5,
   "id": "d8253d64",
   "metadata": {},
   "outputs": [
    {
     "name": "stdout",
     "output_type": "stream",
     "text": [
      "                C          Si          Mn           P           S          Ni  \\\n",
      "count  915.000000  915.000000  915.000000  915.000000  915.000000  915.000000   \n",
      "mean     0.174929    0.310918    0.812962    0.014543    0.010602    0.143016   \n",
      "std      0.059674    0.086871    0.342775    0.005244    0.004024    0.172746   \n",
      "min      0.090000    0.180000    0.420000    0.006000    0.003000    0.000000   \n",
      "25%      0.130000    0.240000    0.500000    0.010000    0.008000    0.023000   \n",
      "50%      0.160000    0.300000    0.680000    0.014000    0.010000    0.050000   \n",
      "75%      0.200000    0.370000    1.210000    0.018000    0.012000    0.210000   \n",
      "max      0.340000    0.520000    1.480000    0.030000    0.022000    0.600000   \n",
      "\n",
      "               Cr          Mo          Cu           V          Al           N  \\\n",
      "count  915.000000  915.000000  915.000000  915.000000  915.000000  915.000000   \n",
      "mean     0.427861    0.442870    0.079148    0.060190    0.012435    0.007652   \n",
      "std      0.457568    0.394383    0.058481    0.096403    0.013067    0.002321   \n",
      "min      0.000000    0.005000    0.000000    0.000000    0.002000    0.002500   \n",
      "25%      0.040000    0.050000    0.040000    0.000000    0.004000    0.006200   \n",
      "50%      0.110000    0.500000    0.070000    0.000000    0.006000    0.007600   \n",
      "75%      1.000000    0.560000    0.110000    0.070000    0.016000    0.009000   \n",
      "max      1.310000    1.350000    0.250000    0.300000    0.050000    0.015000   \n",
      "\n",
      "              Ceq     Nb + Ta   Temperature (°C)   0.2% Proof Stress (MPa)  \\\n",
      "count  915.000000  915.000000         915.000000                915.000000   \n",
      "mean     0.093989    0.000041         351.601093                328.218579   \n",
      "std      0.172533    0.000261         189.714773                131.653232   \n",
      "min      0.000000    0.000000          27.000000                 27.000000   \n",
      "25%      0.000000    0.000000         200.000000                220.000000   \n",
      "50%      0.000000    0.000000         400.000000                290.000000   \n",
      "75%      0.000000    0.000000         500.000000                432.500000   \n",
      "max      0.437000    0.001700         650.000000                690.000000   \n",
      "\n",
      "        Tensile Strength (MPa)   Elongation (%)   Reduction in Area (%)  \n",
      "count               915.000000       915.000000              915.000000  \n",
      "mean                496.248087        26.789071               70.206557  \n",
      "std                 239.710650         8.806595               12.389289  \n",
      "min                 162.000000        10.000000               18.000000  \n",
      "25%                 413.000000        20.000000               62.000000  \n",
      "50%                 479.000000        26.000000               71.000000  \n",
      "75%                 575.000000        31.000000               80.000000  \n",
      "max                6661.000000        78.000000               94.000000  \n"
     ]
    }
   ],
   "source": [
    "print(steel.describe())"
   ]
  },
  {
   "cell_type": "markdown",
   "id": "46af853f",
   "metadata": {},
   "source": [
    "For the physical properties, there are no 0 or negative values which is expected however, there are a few suspicious values for the strength in the upper range which will be looked into in the data cleaning section."
   ]
  },
  {
   "cell_type": "markdown",
   "id": "38c1e5af",
   "metadata": {},
   "source": [
    "## 3.0 Data Manipulation"
   ]
  },
  {
   "cell_type": "markdown",
   "id": "74a449ae",
   "metadata": {},
   "source": [
    "### 3.1 Dropping columns\n",
    "\n",
    "Columns such as alloy code aren't useful in this case. Ceq isn't useful either as all other alloying elements are known."
   ]
  },
  {
   "cell_type": "code",
   "execution_count": 6,
   "id": "1649a105",
   "metadata": {},
   "outputs": [],
   "source": [
    "steel = steel.drop(columns=['Alloy code', 'Ceq'])"
   ]
  },
  {
   "cell_type": "markdown",
   "id": "3c8bf405",
   "metadata": {},
   "source": [
    "### 3.2 Renaming columns\n",
    "\n",
    "For simplicity sake,the columns will be renamed."
   ]
  },
  {
   "cell_type": "code",
   "execution_count": 7,
   "id": "50c82d33",
   "metadata": {},
   "outputs": [
    {
     "data": {
      "text/plain": [
       "Index(['c', 'si', 'mn', 'p', 's', 'ni', 'cr', 'mo', 'cu', 'v', 'al', 'n',\n",
       "       'nb+ta', 'temp', 'yield', 'tensile', 'elongation', 'red_area'],\n",
       "      dtype='object')"
      ]
     },
     "execution_count": 7,
     "metadata": {},
     "output_type": "execute_result"
    }
   ],
   "source": [
    "steel.columns = ['c', 'si', 'mn', 'p', 's', 'ni', 'cr', 'mo', 'cu', 'v', 'al', 'n', 'nb+ta', 'temp', 'yield', 'tensile', 'elongation', 'red_area' ]\n",
    "steel.columns"
   ]
  },
  {
   "cell_type": "markdown",
   "id": "8c31e9f7",
   "metadata": {},
   "source": [
    "## 4.0 Data Cleaning"
   ]
  },
  {
   "cell_type": "code",
   "execution_count": 8,
   "id": "7533632b",
   "metadata": {},
   "outputs": [
    {
     "data": {
      "text/plain": [
       "c             0\n",
       "si            0\n",
       "mn            0\n",
       "p             0\n",
       "s             0\n",
       "ni            0\n",
       "cr            0\n",
       "mo            0\n",
       "cu            0\n",
       "v             0\n",
       "al            0\n",
       "n             0\n",
       "nb+ta         0\n",
       "temp          0\n",
       "yield         0\n",
       "tensile       0\n",
       "elongation    0\n",
       "red_area      0\n",
       "dtype: int64"
      ]
     },
     "execution_count": 8,
     "metadata": {},
     "output_type": "execute_result"
    }
   ],
   "source": [
    "# Finding NA values\n",
    "steel.isna().sum()"
   ]
  },
  {
   "cell_type": "markdown",
   "id": "d97d2a52",
   "metadata": {},
   "source": [
    "The data seems to be free of null values, however there is the issue of the unusally high tensile strength observation"
   ]
  },
  {
   "cell_type": "code",
   "execution_count": 9,
   "id": "a580bdba",
   "metadata": {},
   "outputs": [
    {
     "name": "stdout",
     "output_type": "stream",
     "text": [
      "        c    si    mn      p      s   ni    cr    mo    cu    v    al       n  \\\n",
      "626  0.18  0.37  0.66  0.018  0.017  0.1  1.07  1.03  0.12  0.3  0.02  0.0081   \n",
      "\n",
      "     nb+ta  temp  yield  tensile  elongation  red_area  \n",
      "626    0.0   300    519     6661          11        28  \n"
     ]
    }
   ],
   "source": [
    "print(steel[steel['tensile']==6661])"
   ]
  },
  {
   "cell_type": "code",
   "execution_count": 10,
   "id": "8560d605",
   "metadata": {},
   "outputs": [],
   "source": [
    "steel = steel.drop(index = steel[steel['tensile']==6661].index)"
   ]
  },
  {
   "cell_type": "code",
   "execution_count": 11,
   "id": "2aa1a54e",
   "metadata": {},
   "outputs": [
    {
     "data": {
      "text/html": [
       "<div>\n",
       "<style scoped>\n",
       "    .dataframe tbody tr th:only-of-type {\n",
       "        vertical-align: middle;\n",
       "    }\n",
       "\n",
       "    .dataframe tbody tr th {\n",
       "        vertical-align: top;\n",
       "    }\n",
       "\n",
       "    .dataframe thead th {\n",
       "        text-align: right;\n",
       "    }\n",
       "</style>\n",
       "<table border=\"1\" class=\"dataframe\">\n",
       "  <thead>\n",
       "    <tr style=\"text-align: right;\">\n",
       "      <th></th>\n",
       "      <th>c</th>\n",
       "      <th>si</th>\n",
       "      <th>mn</th>\n",
       "      <th>p</th>\n",
       "      <th>s</th>\n",
       "      <th>ni</th>\n",
       "      <th>cr</th>\n",
       "      <th>mo</th>\n",
       "      <th>cu</th>\n",
       "      <th>v</th>\n",
       "      <th>al</th>\n",
       "      <th>n</th>\n",
       "      <th>nb+ta</th>\n",
       "      <th>temp</th>\n",
       "      <th>yield</th>\n",
       "      <th>tensile</th>\n",
       "      <th>elongation</th>\n",
       "      <th>red_area</th>\n",
       "    </tr>\n",
       "  </thead>\n",
       "  <tbody>\n",
       "    <tr>\n",
       "      <th>421</th>\n",
       "      <td>0.29</td>\n",
       "      <td>0.26</td>\n",
       "      <td>0.76</td>\n",
       "      <td>0.009</td>\n",
       "      <td>0.007</td>\n",
       "      <td>0.45</td>\n",
       "      <td>1.12</td>\n",
       "      <td>1.18</td>\n",
       "      <td>0.07</td>\n",
       "      <td>0.23</td>\n",
       "      <td>0.003</td>\n",
       "      <td>0.0103</td>\n",
       "      <td>0.0</td>\n",
       "      <td>27</td>\n",
       "      <td>685</td>\n",
       "      <td>830</td>\n",
       "      <td>17</td>\n",
       "      <td>62</td>\n",
       "    </tr>\n",
       "    <tr>\n",
       "      <th>391</th>\n",
       "      <td>0.29</td>\n",
       "      <td>0.20</td>\n",
       "      <td>0.75</td>\n",
       "      <td>0.010</td>\n",
       "      <td>0.009</td>\n",
       "      <td>0.34</td>\n",
       "      <td>1.00</td>\n",
       "      <td>1.25</td>\n",
       "      <td>0.14</td>\n",
       "      <td>0.26</td>\n",
       "      <td>0.002</td>\n",
       "      <td>0.0075</td>\n",
       "      <td>0.0</td>\n",
       "      <td>27</td>\n",
       "      <td>690</td>\n",
       "      <td>830</td>\n",
       "      <td>17</td>\n",
       "      <td>59</td>\n",
       "    </tr>\n",
       "    <tr>\n",
       "      <th>431</th>\n",
       "      <td>0.29</td>\n",
       "      <td>0.26</td>\n",
       "      <td>0.77</td>\n",
       "      <td>0.009</td>\n",
       "      <td>0.007</td>\n",
       "      <td>0.46</td>\n",
       "      <td>1.12</td>\n",
       "      <td>1.20</td>\n",
       "      <td>0.08</td>\n",
       "      <td>0.23</td>\n",
       "      <td>0.004</td>\n",
       "      <td>0.0095</td>\n",
       "      <td>0.0</td>\n",
       "      <td>27</td>\n",
       "      <td>660</td>\n",
       "      <td>820</td>\n",
       "      <td>17</td>\n",
       "      <td>59</td>\n",
       "    </tr>\n",
       "    <tr>\n",
       "      <th>381</th>\n",
       "      <td>0.28</td>\n",
       "      <td>0.18</td>\n",
       "      <td>0.75</td>\n",
       "      <td>0.012</td>\n",
       "      <td>0.009</td>\n",
       "      <td>0.32</td>\n",
       "      <td>1.00</td>\n",
       "      <td>1.25</td>\n",
       "      <td>0.14</td>\n",
       "      <td>0.27</td>\n",
       "      <td>0.002</td>\n",
       "      <td>0.0090</td>\n",
       "      <td>0.0</td>\n",
       "      <td>27</td>\n",
       "      <td>665</td>\n",
       "      <td>810</td>\n",
       "      <td>18</td>\n",
       "      <td>63</td>\n",
       "    </tr>\n",
       "    <tr>\n",
       "      <th>401</th>\n",
       "      <td>0.30</td>\n",
       "      <td>0.28</td>\n",
       "      <td>0.72</td>\n",
       "      <td>0.014</td>\n",
       "      <td>0.006</td>\n",
       "      <td>0.35</td>\n",
       "      <td>0.93</td>\n",
       "      <td>1.22</td>\n",
       "      <td>0.16</td>\n",
       "      <td>0.21</td>\n",
       "      <td>0.002</td>\n",
       "      <td>0.0093</td>\n",
       "      <td>0.0</td>\n",
       "      <td>27</td>\n",
       "      <td>645</td>\n",
       "      <td>810</td>\n",
       "      <td>19</td>\n",
       "      <td>60</td>\n",
       "    </tr>\n",
       "  </tbody>\n",
       "</table>\n",
       "</div>"
      ],
      "text/plain": [
       "        c    si    mn      p      s    ni    cr    mo    cu     v     al  \\\n",
       "421  0.29  0.26  0.76  0.009  0.007  0.45  1.12  1.18  0.07  0.23  0.003   \n",
       "391  0.29  0.20  0.75  0.010  0.009  0.34  1.00  1.25  0.14  0.26  0.002   \n",
       "431  0.29  0.26  0.77  0.009  0.007  0.46  1.12  1.20  0.08  0.23  0.004   \n",
       "381  0.28  0.18  0.75  0.012  0.009  0.32  1.00  1.25  0.14  0.27  0.002   \n",
       "401  0.30  0.28  0.72  0.014  0.006  0.35  0.93  1.22  0.16  0.21  0.002   \n",
       "\n",
       "          n  nb+ta  temp  yield  tensile  elongation  red_area  \n",
       "421  0.0103    0.0    27    685      830          17        62  \n",
       "391  0.0075    0.0    27    690      830          17        59  \n",
       "431  0.0095    0.0    27    660      820          17        59  \n",
       "381  0.0090    0.0    27    665      810          18        63  \n",
       "401  0.0093    0.0    27    645      810          19        60  "
      ]
     },
     "execution_count": 11,
     "metadata": {},
     "output_type": "execute_result"
    }
   ],
   "source": [
    "steel.sort_values(by='tensile', ascending=False).head()"
   ]
  },
  {
   "cell_type": "code",
   "execution_count": 12,
   "id": "884c6ff0",
   "metadata": {},
   "outputs": [
    {
     "data": {
      "text/plain": [
       "(914, 18)"
      ]
     },
     "execution_count": 12,
     "metadata": {},
     "output_type": "execute_result"
    }
   ],
   "source": [
    "steel.shape"
   ]
  },
  {
   "cell_type": "code",
   "execution_count": 13,
   "id": "4c7d1f81",
   "metadata": {},
   "outputs": [
    {
     "data": {
      "image/png": "[encoded data removed]",
      "text/plain": [
       "<Figure size 432x288 with 4 Axes>"
      ]
     },
     "metadata": {
      "needs_background": "light"
     },
     "output_type": "display_data"
    }
   ],
   "source": [
    "fig, ax = plt.subplots(2,2)\n",
    "\n",
    "ax[0,0].hist(steel['yield'])\n",
    "ax[0,1].hist(steel['tensile'])\n",
    "ax[1,0].hist(steel['elongation'])\n",
    "ax[1,1].hist(steel['red_area'])\n",
    "\n",
    "ax[0,1].set_xticks(range(0, steel['tensile'].max(),200))\n",
    "\n",
    "plt.show()"
   ]
  },
  {
   "cell_type": "code",
   "execution_count": null,
   "id": "5a6d091b",
   "metadata": {},
   "outputs": [],
   "source": []
  }
 ],
 "metadata": {
  "kernelspec": {
   "display_name": "Python 3 (ipykernel)",
   "language": "python",
   "name": "python3"
  },
  "language_info": {
   "codemirror_mode": {
    "name": "ipython",
    "version": 3
   },
   "file_extension": ".py",
   "mimetype": "text/x-python",
   "name": "python",
   "nbconvert_exporter": "python",
   "pygments_lexer": "ipython3",
   "version": "3.9.12"
  }
 },
 "nbformat": 4,
 "nbformat_minor": 5
}
